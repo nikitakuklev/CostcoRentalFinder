{
 "cells": [
  {
   "cell_type": "code",
   "execution_count": 1,
   "metadata": {},
   "outputs": [
    {
     "data": {
      "text/html": [
       "<style>.container { width:100% !important; }</style>"
      ],
      "text/plain": [
       "<IPython.core.display.HTML object>"
      ]
     },
     "metadata": {},
     "output_type": "display_data"
    }
   ],
   "source": [
    "import requests,re,time,numpy as np,pickle,asyncio,concurrent.futures,datetime\n",
    "# Make this notebook wiiiiiiiiide\n",
    "from IPython.core.display import display, HTML\n",
    "display(HTML(\"<style>.container { width:100% !important; }</style>\"))"
   ]
  },
  {
   "cell_type": "markdown",
   "metadata": {},
   "source": [
    "This parser works with a single location, constructing an ITA-style matrix of price vs start/end dates"
   ]
  },
  {
   "cell_type": "code",
   "execution_count": 7,
   "metadata": {
    "collapsed": true
   },
   "outputs": [],
   "source": [
    "# Setup relevant variables\n",
    "ZIP = '60615'\n",
    "AGENCYBR = 'ET'\n",
    "#AGENCYID = 'E11509' #oak park\n",
    "#AGENCYID = 'E11548' #bolingbrook\n",
    "AGENCYID = 'E115CH' #elmwood\n",
    "RADIUS = '30'\n",
    "\n",
    "PICKUP = datetime.date(2017, 11, 7)\n",
    "DROPOFF = PICKUP+datetime.timedelta(days=7)\n",
    "FIXEDLENGTH = True\n",
    "VARYSTART = 6\n",
    "VARYEND = 2\n",
    "TIME = '5:00 PM'"
   ]
  },
  {
   "cell_type": "code",
   "execution_count": 8,
   "metadata": {},
   "outputs": [],
   "source": [
    "%run corefuncs_matrix_debug.ipynb"
   ]
  },
  {
   "cell_type": "code",
   "execution_count": 9,
   "metadata": {},
   "outputs": [
    {
     "name": "stdout",
     "output_type": "stream",
     "text": [
      "13\n",
      "(datetime.date(2017, 11, 1), datetime.date(2017, 11, 8))\n",
      "000 ND | 62 ('enterprise', 'E115CH', 'Dd Elmwood Park') ('14.15', '41.926269', '-87.821333')\n",
      "(datetime.date(2017, 11, 2), datetime.date(2017, 11, 9))\n",
      "(datetime.date(2017, 11, 3), datetime.date(2017, 11, 10))\n",
      "(datetime.date(2017, 11, 4), datetime.date(2017, 11, 11))\n",
      "NO MATCH\n",
      "(datetime.date(2017, 11, 5), datetime.date(2017, 11, 12))\n",
      "004 ND | 62 ('enterprise', 'E115CH', 'Dd Elmwood Park') ('14.15', '41.926269', '-87.821333')\n",
      "(datetime.date(2017, 11, 6), datetime.date(2017, 11, 13))\n",
      "(datetime.date(2017, 11, 7), datetime.date(2017, 11, 14))\n",
      "(datetime.date(2017, 11, 8), datetime.date(2017, 11, 15))\n",
      "(datetime.date(2017, 11, 9), datetime.date(2017, 11, 16))\n",
      "(datetime.date(2017, 11, 10), datetime.date(2017, 11, 17))\n",
      "(datetime.date(2017, 11, 11), datetime.date(2017, 11, 18))\n",
      "NO MATCH\n",
      "(datetime.date(2017, 11, 12), datetime.date(2017, 11, 19))\n",
      "011 ND | 62 ('enterprise', 'E115CH', 'Dd Elmwood Park') ('14.15', '41.926269', '-87.821333')\n",
      "(datetime.date(2017, 11, 13), datetime.date(2017, 11, 20))\n",
      "{0: {'num': 62, 'type': 'city', 'brand': 'enterprise', 'code': 'E115CH', 'name': 'Dd Elmwood Park', 'bcode': 'ET', 'addr': '7807 W Grand Ave', 'city': 'Elmwood Park', 'state': 'IL', 'zip': '60707', 'dist': '14.15', 'lat': '41.926269', 'lon': '-87.821333', 'start': '11/01/2017', 'end': '11/08/2017'}, 5: {'num': 62, 'type': 'city', 'brand': 'enterprise', 'code': 'E115CH', 'name': 'Dd Elmwood Park', 'bcode': 'ET', 'addr': '7807 W Grand Ave', 'city': 'Elmwood Park', 'state': 'IL', 'zip': '60707', 'dist': '14.15', 'lat': '41.926269', 'lon': '-87.821333', 'start': '11/06/2017', 'end': '11/13/2017', 'Economy Car': 149.97, 'Compact Car': 149.97, 'Intermediate Car': 159.96, 'Standard Car': 179.94, 'Fullsize Car': 179.94, 'Premium Car': 319.8, 'Intermediate SUV': 249.87, 'Standard SUV': 319.8, 'Mini Van': 279.82, 'Fullsize SUV': 509.59000000000003, 'Luxury Car': 424.69, 'Premium SUV': 609.49, 'Fullsize Van': 1004.0600000000001}, 10: None, 6: {'num': 62, 'type': 'city', 'brand': 'enterprise', 'code': 'E115CH', 'name': 'Dd Elmwood Park', 'bcode': 'ET', 'addr': '7807 W Grand Ave', 'city': 'Elmwood Park', 'state': 'IL', 'zip': '60707', 'dist': '14.15', 'lat': '41.926269', 'lon': '-87.821333', 'start': '11/07/2017', 'end': '11/14/2017', 'Economy Car': 149.97, 'Compact Car': 149.97, 'Intermediate Car': 159.96, 'Standard Car': 179.94, 'Fullsize Car': 179.94, 'Premium Car': 319.8, 'Intermediate SUV': 249.87, 'Standard SUV': 319.8, 'Mini Van': 279.82, 'Fullsize SUV': 509.59000000000003, 'Luxury Car': 424.69, 'Premium SUV': 609.49, 'Fullsize Van': 1004.0600000000001}, 11: {'num': 62, 'type': 'city', 'brand': 'enterprise', 'code': 'E115CH', 'name': 'Dd Elmwood Park', 'bcode': 'ET', 'addr': '7807 W Grand Ave', 'city': 'Elmwood Park', 'state': 'IL', 'zip': '60707', 'dist': '14.15', 'lat': '41.926269', 'lon': '-87.821333', 'start': '11/12/2017', 'end': '11/19/2017'}, 8: {'num': 62, 'type': 'city', 'brand': 'enterprise', 'code': 'E115CH', 'name': 'Dd Elmwood Park', 'bcode': 'ET', 'addr': '7807 W Grand Ave', 'city': 'Elmwood Park', 'state': 'IL', 'zip': '60707', 'dist': '14.15', 'lat': '41.926269', 'lon': '-87.821333', 'start': '11/09/2017', 'end': '11/16/2017', 'Economy Car': 149.92, 'Compact Car': 149.97, 'Intermediate Car': 167.95, 'Standard Car': 179.89, 'Fullsize Car': 179.94, 'Premium Car': 319.8, 'Intermediate SUV': 249.87, 'Standard SUV': 319.8, 'Mini Van': 279.82, 'Fullsize SUV': 509.59000000000003, 'Luxury Car': 424.69, 'Premium SUV': 609.49, 'Fullsize Van': 1004.0600000000001}, 2: {'num': 62, 'type': 'city', 'brand': 'enterprise', 'code': 'E115CH', 'name': 'Dd Elmwood Park', 'bcode': 'ET', 'addr': '7807 W Grand Ave', 'city': 'Elmwood Park', 'state': 'IL', 'zip': '60707', 'dist': '14.15', 'lat': '41.926269', 'lon': '-87.821333', 'start': '11/03/2017', 'end': '11/10/2017', 'Economy Car': 129.93, 'Compact Car': 129.97, 'Intermediate Car': 140.96, 'Standard Car': 184.88, 'Fullsize Car': 184.92000000000002, 'Premium Car': 324.78000000000003, 'Intermediate SUV': 254.85000000000002, 'Standard SUV': 324.78000000000003, 'Mini Van': 409.69, 'Fullsize SUV': 509.59000000000003, 'Luxury Car': 429.67, 'Premium SUV': 609.49, 'Fullsize Van': 1004.0600000000001}, 7: {'num': 62, 'type': 'city', 'brand': 'enterprise', 'code': 'E115CH', 'name': 'Dd Elmwood Park', 'bcode': 'ET', 'addr': '7807 W Grand Ave', 'city': 'Elmwood Park', 'state': 'IL', 'zip': '60707', 'dist': '14.15', 'lat': '41.926269', 'lon': '-87.821333', 'start': '11/08/2017', 'end': '11/15/2017', 'Economy Car': 149.92, 'Compact Car': 149.97, 'Intermediate Car': 159.96, 'Standard Car': 179.89, 'Fullsize Car': 179.94, 'Premium Car': 319.8, 'Intermediate SUV': 249.87, 'Standard SUV': 319.8, 'Mini Van': 279.82, 'Fullsize SUV': 509.59000000000003, 'Luxury Car': 424.69, 'Premium SUV': 609.49, 'Fullsize Van': 1004.0600000000001}, 12: {'num': 62, 'type': 'city', 'brand': 'enterprise', 'code': 'E115CH', 'name': 'Dd Elmwood Park', 'bcode': 'ET', 'addr': '7807 W Grand Ave', 'city': 'Elmwood Park', 'state': 'IL', 'zip': '60707', 'dist': '14.15', 'lat': '41.926269', 'lon': '-87.821333', 'start': '11/13/2017', 'end': '11/20/2017', 'Economy Car': 128.78, 'Compact Car': 128.81, 'Intermediate Car': 140.17000000000002, 'Standard Car': 185.56, 'Fullsize Car': 185.59, 'Premium Car': 330.11, 'Intermediate SUV': 257.86, 'Standard SUV': 330.11, 'Mini Van': 419.91999999999996, 'Fullsize SUV': 526.24, 'Luxury Car': 438.5, 'Premium SUV': 629.47, 'Fullsize Van': 1037.1799999999998}, 3: None, 1: {'num': 62, 'type': 'city', 'brand': 'enterprise', 'code': 'E115CH', 'name': 'Dd Elmwood Park', 'bcode': 'ET', 'addr': '7807 W Grand Ave', 'city': 'Elmwood Park', 'state': 'IL', 'zip': '60707', 'dist': '14.15', 'lat': '41.926269', 'lon': '-87.821333', 'start': '11/02/2017', 'end': '11/09/2017', 'Economy Car': 131.96, 'Compact Car': 131.96, 'Intermediate Car': 149.95, 'Standard Car': 184.92000000000002, 'Fullsize Car': 184.92000000000002, 'Premium Car': 324.78000000000003, 'Intermediate SUV': 254.85000000000002, 'Standard SUV': 324.78000000000003, 'Mini Van': 279.82, 'Fullsize SUV': 509.59000000000003, 'Luxury Car': 429.67, 'Premium SUV': 609.49, 'Fullsize Van': 1004.0600000000001}, 4: {'num': 62, 'type': 'city', 'brand': 'enterprise', 'code': 'E115CH', 'name': 'Dd Elmwood Park', 'bcode': 'ET', 'addr': '7807 W Grand Ave', 'city': 'Elmwood Park', 'state': 'IL', 'zip': '60707', 'dist': '14.15', 'lat': '41.926269', 'lon': '-87.821333', 'start': '11/05/2017', 'end': '11/12/2017'}, 9: {'num': 62, 'type': 'city', 'brand': 'enterprise', 'code': 'E115CH', 'name': 'Dd Elmwood Park', 'bcode': 'ET', 'addr': '7807 W Grand Ave', 'city': 'Elmwood Park', 'state': 'IL', 'zip': '60707', 'dist': '14.15', 'lat': '41.926269', 'lon': '-87.821333', 'start': '11/10/2017', 'end': '11/17/2017', 'Economy Car': 128.78, 'Compact Car': 128.81, 'Intermediate Car': 140.17000000000002, 'Standard Car': 185.56, 'Fullsize Car': 185.59, 'Premium Car': 330.11, 'Intermediate SUV': 257.86, 'Standard SUV': 330.11, 'Mini Van': 423.01, 'Fullsize SUV': 526.24, 'Luxury Car': 438.5, 'Premium SUV': 629.47, 'Fullsize Van': 1037.1799999999998}}\n"
     ]
    }
   ],
   "source": [
    "results = runparser(agencyid = AGENCYID, threads=1)\n",
    "print(results)"
   ]
  },
  {
   "cell_type": "code",
   "execution_count": null,
   "metadata": {
    "collapsed": true
   },
   "outputs": [],
   "source": []
  },
  {
   "cell_type": "code",
   "execution_count": null,
   "metadata": {
    "collapsed": true
   },
   "outputs": [],
   "source": []
  },
  {
   "cell_type": "code",
   "execution_count": 10,
   "metadata": {
    "collapsed": true
   },
   "outputs": [],
   "source": [
    "car1 = 'Economy Car'\n",
    "car2 = 'Compact Car'\n",
    "car3 = 'Intermediate Car'\n",
    "car4 = 'Intermediate SUV'\n",
    "desiredcar = car2\n",
    "#desiredsort = 'time'\n",
    "desiredsort = desiredcar\n",
    "desiredbrand = 'enterprise'\n",
    "\n",
    "# also, can optimize into some single query...buuuut it works as is\n",
    "rvals = np.array([x for x in results.values() if x is not None and desiredcar in x and desiredsort in x])\n",
    "orderpreferred = np.array([x[desiredsort] for x in rvals]).argsort()\n",
    "orderprice = np.array([x[desiredcar] for x in rvals]).argsort()\n",
    "order = [x for x in orderpreferred if x in orderprice[:60]]"
   ]
  },
  {
   "cell_type": "code",
   "execution_count": 11,
   "metadata": {},
   "outputs": [
    {
     "name": "stdout",
     "output_type": "stream",
     "text": [
      "Compact Car Compact Car Intermediate Car\n",
      "11/13/2017-11/20/2017 | 14.15 |   0 | 128.81 | 128.81 | 140.17 | enterprise | Dd Elmwood Park\n",
      "11/10/2017-11/17/2017 | 14.15 |   0 | 128.81 | 128.81 | 140.17 | enterprise | Dd Elmwood Park\n",
      "11/03/2017-11/10/2017 | 14.15 |   0 | 129.97 | 129.97 | 140.96 | enterprise | Dd Elmwood Park\n",
      "11/02/2017-11/09/2017 | 14.15 |   0 | 131.96 | 131.96 | 149.95 | enterprise | Dd Elmwood Park\n",
      "11/06/2017-11/13/2017 | 14.15 |   0 | 149.97 | 149.97 | 159.96 | enterprise | Dd Elmwood Park\n",
      "11/07/2017-11/14/2017 | 14.15 |   0 | 149.97 | 149.97 | 159.96 | enterprise | Dd Elmwood Park\n",
      "11/09/2017-11/16/2017 | 14.15 |   0 | 149.97 | 149.97 | 167.95 | enterprise | Dd Elmwood Park\n",
      "11/08/2017-11/15/2017 | 14.15 |   0 | 149.97 | 149.97 | 159.96 | enterprise | Dd Elmwood Park\n"
     ]
    }
   ],
   "source": [
    "orderedresults = rvals[order]\n",
    "print(desiredcar,car2,car3)\n",
    "for k in orderedresults:\n",
    "    #print(k['num'])\n",
    "    if 'time' in k:\n",
    "        print('{:s} | {:5.2f} | {:3d} | {:6.2f} | {:6.2f} | {:6.2f} | {:10s} | {}'\n",
    "              .format(k['start']+'-'+k['end'],float(k['dist']),k['time']//60,k[desiredcar],k[car2],k[car3],str(k['brand']),k['name']))\n",
    "    else:\n",
    "        print('{:s} | {:5.2f} | {:3d} | {:6.2f} | {:6.2f} | {:6.2f} | {:10s} | {}'\n",
    "              .format(k['start']+'-'+k['end'],float(k['dist']),0,k[desiredcar],k[car2],k[car3],str(k['brand']),k['name']))"
   ]
  },
  {
   "cell_type": "code",
   "execution_count": null,
   "metadata": {
    "collapsed": true
   },
   "outputs": [],
   "source": []
  }
 ],
 "metadata": {
  "kernelspec": {
   "display_name": "Python 3",
   "language": "python",
   "name": "python3"
  },
  "language_info": {
   "codemirror_mode": {
    "name": "ipython",
    "version": 3
   },
   "file_extension": ".py",
   "mimetype": "text/x-python",
   "name": "python",
   "nbconvert_exporter": "python",
   "pygments_lexer": "ipython3",
   "version": "3.6.1"
  }
 },
 "nbformat": 4,
 "nbformat_minor": 2
}
