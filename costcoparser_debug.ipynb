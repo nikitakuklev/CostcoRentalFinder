{
 "cells": [
  {
   "cell_type": "code",
   "execution_count": 25,
   "metadata": {
    "collapsed": true
   },
   "outputs": [],
   "source": [
    "import requests,re,time,numpy as np,pickle,asyncio,concurrent.futures"
   ]
  },
  {
   "cell_type": "code",
   "execution_count": 26,
   "metadata": {
    "collapsed": true
   },
   "outputs": [],
   "source": [
    "# Setup relevant variables\n",
    "ZIP = '60615'\n",
    "pickupDate = '10/18/2017'\n",
    "dropoffDate = '10/25/2017'\n",
    "TIME = '11:00 AM'\n",
    "RADIUS = '15'"
   ]
  },
  {
   "cell_type": "code",
   "execution_count": 27,
   "metadata": {},
   "outputs": [],
   "source": [
    "%run core_functions_debug.ipynb"
   ]
  },
  {
   "cell_type": "code",
   "execution_count": 28,
   "metadata": {},
   "outputs": [
    {
     "name": "stdout",
     "output_type": "stream",
     "text": [
      "start t1\n",
      "001 OK      | ('1', 'city', 'enterprise', 'E11586', 'Gg Hyde Park', 'ET', '0.95')\n",
      "start t2\n",
      "006 NO DATA | ('6', 'city', 'enterprise', 'E115UG', 'Uber Southside', 'ET', '4.20')\n",
      "003 OK      | ('3', 'city', 'avis', 'CHIC05', 'Chicago - 18th Street & Wabash Avenue', 'AV', '4.05')\n",
      "011 OK      | ('11', 'city', 'budget', 'CHIX01', 'Chicago Union Train Station', 'BG', '5.71')\n",
      "007 OK      | ('7', 'city', 'budget', 'CHIC08', 'Chicago', 'BG', '5.11')\n",
      "005 OK      | ('5', 'city', 'enterprise', 'E115DN', 'Gg South Western', 'ET', '4.19')\n",
      "004 OK      | ('4', 'city', 'budget', 'CHIC02', 'Chicago', 'BG', '4.05')\n",
      "010 OK      | ('10', 'city', 'avis', 'CHIX01', 'Chicago Union Train Station', 'AV', '5.71')\n",
      "008 OK      | ('8', 'city', 'enterprise', 'E11530', 'Gg Stony Island', 'ET', '5.17')\n",
      "002 OK      | ('2', 'city', 'enterprise', 'E11576', 'Gg South Loop', 'ET', '3.17')\n",
      "009 OK      | ('9', 'city', 'enterprise', 'E115DA', 'Gg Gresham', 'ET', '5.57')\n",
      "012 OK      | ('12', 'city', 'enterprise', 'E115CE', 'Chicago Loop', 'ET', '5.82')\n",
      "016 OK      | ('16', 'city', 'avis', 'CHIC01', 'North Loop-downtown', 'AV', '6.05')\n",
      "017 OK      | ('17', 'city', 'budget', 'CHIC09', 'North Loop Budget', 'BG', '6.05')\n",
      "014 OK      | ('14', 'city', 'enterprise', 'E11555', 'Union Station/pres Tower', 'ET', '5.93')\n",
      "018 OK      | ('18', 'city', 'alamo', 'CHIC72', 'Chicago N Lasalle', 'AL', '6.07')\n",
      "013 OK      | ('13', 'city', 'enterprise', 'E115CD', 'Dd West Loop A/b(ex15ca)', 'ET', '5.84')\n",
      "015 OK      | ('15', 'city', 'enterprise', 'E115KB', 'Millennium Park', 'ET', '5.93')\n",
      "019 OK      | ('19', 'city', 'enterprise', 'E115CA', 'Lake And Franklin', 'ET', '6.09')\n",
      "020 OK      | ('20', 'city', 'enterprise', 'E115C6', 'Gg Archer Heights', 'ET', '6.13')\n",
      "021 OK      | ('21', 'city', 'enterprise', 'E115CU', 'Gg Western And Roosevelt', 'ET', '6.17')\n",
      "022 OK      | ('22', 'city', 'enterprise', 'E11557', 'Chicago Magnificent Mile', 'ET', '6.43')\n",
      "024 OK      | ('24', 'airport', 'avis', 'MDWT01', 'Chicago Midway Intl Airport', 'AV', '7.54')\n",
      "025 OK      | ('25', 'airport', 'budget', 'MDWT02', 'Midway Airport', 'BG', '7.54')\n",
      "026 OK      | ('26', 'city', 'enterprise', 'E115CQ', 'Dd Gold Coast Auto Body', 'ET', '7.54')\n",
      "023 OK      | ('23', 'city', 'enterprise', 'E115C7', 'Gold Coast', 'ET', '6.86')\n",
      "028 OK      | ('28', 'airport', 'alamo', 'MDWT71', 'Midway Intl Arpt', 'AL', '7.60')\n",
      "027 OK      | ('27', 'airport', 'enterprise', 'MDWT61', 'Midway Intl Arpt', 'ET', '7.60')\n",
      "029 OK      | ('29', 'city', 'enterprise', 'E115C4', 'Dd Old Town', 'ET', '7.87')\n",
      "031 OK      | ('31', 'city', 'budget', 'CHIC12', 'Chicago Grossinger Autoplex', 'BG', '7.94')\n",
      "030 OK      | ('30', 'city', 'avis', 'CHIC12', 'Grossinger City Autoplex', 'AV', '7.94')\n",
      "032 OK      | ('32', 'city', 'avis', 'CHIS08', 'Oak Lawn/chicago', 'AV', '8.04')\n",
      "033 OK      | ('33', 'city', 'budget', 'CHIS04', 'Oak Lawn', 'BG', '8.04')\n",
      "036 NO DATA | ('36', 'city', 'enterprise', 'E115CF', 'Sat Howard Orloff', 'ET', '8.76')\n",
      "034 OK      | ('34', 'city', 'enterprise', 'E115MT', 'Euro Collission', 'ET', '8.08')\n",
      "035 OK      | ('35', 'city', 'enterprise', 'E11503', 'Gg Oak Lawn', 'ET', '8.70')\n",
      "038 OK      | ('38', 'city', 'enterprise', 'E11575', 'Gg Berwyn', 'ET', '9.33')\n",
      "037 OK      | ('37', 'city', 'enterprise', 'E11578', 'Dd Bucktown', 'ET', '8.91')\n",
      "039 OK      | ('39', 'city', 'enterprise', 'E1159D', 'Gg Blue Island', 'ET', '9.47')\n",
      "040 NO DATA | ('40', 'city', 'enterprise', 'E115FX', 'Nn Fox Ford', 'ET', '9.58')\n",
      "041 OK      | ('41', 'city', 'enterprise', 'E11510', 'Nn Lincoln Park', 'ET', '9.61')\n",
      "042 OK      | ('42', 'city', 'avis', 'CHIC04', 'Logan Square', 'AV', '10.15')\n",
      "044 OK      | ('44', 'city', 'budget', 'CHIC07', 'Chicago/lakeview', 'BG', '10.55')\n",
      "043 OK      | ('43', 'city', 'budget', 'CHIC01', 'Logan Square Chicago Il', 'BG', '10.15')\n",
      "045 OK      | ('45', 'city', 'avis', 'CHIC07', 'Lakeview/chicago', 'AV', '10.56')\n",
      "047 OK      | ('47', 'city', 'budget', 'CHIS02', 'Chicago Ridge Il Sears', 'BG', '10.78')\n",
      "046 OK      | ('46', 'city', 'avis', 'CHIS04', 'Sears Auto-westfield Chicago Ridge Mall', 'AV', '10.78')\n",
      "049 OK      | ('49', 'city', 'avis', 'CHIW12', 'Oak Park', 'AV', '10.82')\n",
      "048 OK      | ('48', 'city', 'enterprise', 'E115C9', 'Nn Gerber Logan Square', 'ET', '10.78')\n",
      "050 OK      | ('50', 'city', 'budget', 'CHIW09', 'Oak Park', 'BG', '10.82')\n",
      "051 OK      | ('51', 'city', 'enterprise', 'E11509', 'Dd Oak Park', 'ET', '10.97')\n",
      "052 OK      | ('52', 'city', 'enterprise', 'E11588', 'Gg Bridgeview', 'ET', '11.09')\n",
      "055 OK      | ('55', 'city', 'enterprise', 'E11559', 'Nn Riverview', 'ET', '11.85')\n",
      "054 OK      | ('54', 'city', 'enterprise', 'E11522', 'Gg Forest Park', 'ET', '11.71')\n",
      "053 OK      | ('53', 'city', 'enterprise', 'E11581', 'Gg Crestwood', 'ET', '11.20')\n",
      "058 OK      | ('58', 'city', 'enterprise', 'E115DB', 'Gg Brookfield', 'ET', '12.70')\n",
      "057 OK      | ('57', 'city', 'enterprise', 'E11558', 'Nn Uptown', 'ET', '12.59')\n",
      "056 OK      | ('56', 'city', 'enterprise', 'E11528', 'Nn Cragin', 'ET', '11.92')\n",
      "059 OK      | ('59', 'city', 'enterprise', 'E11502', 'Nn Irving Park', 'ET', '13.31')\n",
      "060 OK      | ('60', 'city', 'enterprise', 'E11527', 'Aa Lagrange', 'ET', '13.64')\n",
      "061 OK      | ('61', 'city', 'enterprise', 'E1151G', 'Gg South Holland', 'ET', '13.76')\n",
      "062 OK      | ('62', 'city', 'enterprise', 'E11524', 'Napleton Chrysler', 'ET', '13.81')\n",
      "064 OK      | ('64', 'city', 'enterprise', 'E11517', 'Gg Calumet City', 'ET', '14.33')\n",
      "063 OK      | ('63', 'city', 'enterprise', 'E115CH', 'Dd Elmwood Park', 'ET', '14.15')\n",
      "{1: {'type': 'city', 'brand': 'enterprise', 'code': 'E11586', 'name': 'Gg Hyde Park', 'bcode': 'ET', 'dist': '0.95', 'Economy Car': 207.55, 'Compact Car': 207.59, 'Intermediate Car': 218.48, 'Standard Car': 240.27999999999997, 'Fullsize Car': 245.72, 'Intermediate SUV': 398.18, 'Standard SUV': 474.40999999999997, 'Mini Van': 501.64, 'Fullsize SUV': 710.71, 'Fullsize Van': 915.46}, 17: {'type': 'city', 'brand': 'budget', 'code': 'CHIC09', 'name': 'North Loop Budget', 'bcode': 'BG', 'dist': '6.05', 'Economy Car': 184.0, 'Compact Car': 189.26, 'Intermediate Car': 188.61, 'Standard Car': 241.85999999999999, 'Fullsize Car': 255.39, 'Premium Car': 497.18, 'Intermediate SUV': 271.9, 'Standard SUV': 456.12, 'Mini Van': 461.39000000000004, 'Fullsize SUV': 540.34, 'Premium SUV': 740.14}, 41: {'type': 'city', 'brand': 'enterprise', 'code': 'E11510', 'name': 'Nn Lincoln Park', 'bcode': 'ET', 'dist': '9.61', 'Economy Car': 193.4, 'Compact Car': 193.44, 'Intermediate Car': 204.33, 'Standard Car': 215.22, 'Fullsize Car': 226.11, 'Premium Car': 316.23, 'Intermediate SUV': 279.46, 'Standard SUV': 416.68, 'Mini Van': 482.02, 'Fullsize SUV': 667.15, 'Luxury Car': 492.91, 'Premium SUV': 776.05, 'Fullsize Van': 1097.27}, 30: {'type': 'city', 'brand': 'avis', 'code': 'CHIC12', 'name': 'Grossinger City Autoplex', 'bcode': 'AV', 'dist': '7.94', 'Economy Car': 194.52, 'Compact Car': 194.52, 'Intermediate Car': 193.11999999999998, 'Standard Car': 202.14999999999998, 'Fullsize Car': 206.66000000000003, 'Premium Car': 292.96000000000004, 'Intermediate SUV': 292.96000000000004, 'Standard SUV': 356.12, 'Mini Van': 492.96999999999997, 'Fullsize SUV': 653.54, 'Standard Convertible': 869.2900000000001, 'Luxury Car': 471.92, 'Premium SUV': 737.75, 'Fullsize Van': 795.6500000000001}, 59: {'type': 'city', 'brand': 'enterprise', 'code': 'E11502', 'name': 'Nn Irving Park', 'bcode': 'ET', 'dist': '13.31', 'Economy Car': 206.04999999999998, 'Compact Car': 206.07999999999998, 'Intermediate Car': 216.97, 'Standard Car': 227.85999999999999, 'Fullsize Car': 233.32, 'Premium Car': 346.71000000000004, 'Intermediate SUV': 271.12, 'Standard SUV': 359.31, 'Mini Van': 500.40999999999997, 'Fullsize SUV': 837.67, 'Luxury Car': 390.81, 'Premium SUV': 837.7, 'Fullsize Van': 1097.27}, 16: {'type': 'city', 'brand': 'avis', 'code': 'CHIC01', 'name': 'North Loop-downtown', 'bcode': 'AV', 'dist': '6.05', 'Economy Car': 197.68, 'Compact Car': 204.0, 'Intermediate Car': 196.74, 'Standard Car': 255.39, 'Fullsize Car': 268.91, 'Premium Car': 512.97, 'Intermediate SUV': 271.9, 'Standard SUV': 487.71000000000004, 'Mini Van': 477.17999999999995, 'Fullsize SUV': 732.49, 'Luxury Car': 635.0799999999999, 'Premium SUV': 2878.42}, 40: {'type': 'city', 'brand': 'enterprise', 'code': 'E115FX', 'name': 'Nn Fox Ford', 'bcode': 'ET', 'dist': '9.58'}, 58: {'type': 'city', 'brand': 'enterprise', 'code': 'E115DB', 'name': 'Gg Brookfield', 'bcode': 'ET', 'dist': '12.70', 'Economy Car': 299.77000000000004, 'Compact Car': 299.82, 'Intermediate Car': 309.81, 'Standard Car': 334.74, 'Fullsize Car': 334.78, 'Premium Car': 474.64, 'Intermediate SUV': 474.64, 'Standard SUV': 544.57, 'Mini Van': 797.32, 'Fullsize SUV': 709.39, 'Luxury Car': 505.59, 'Fullsize Van': 1004.0600000000001}, 15: {'type': 'city', 'brand': 'enterprise', 'code': 'E115KB', 'name': 'Millennium Park', 'bcode': 'ET', 'dist': '5.93', 'Economy Car': 200.24, 'Compact Car': 205.98, 'Intermediate Car': 211.69, 'Standard Car': 239.33999999999997, 'Fullsize Car': 275.64, 'Premium Car': 541.12, 'Intermediate SUV': 257.49, 'Standard SUV': 360.34000000000003, 'Mini Van': 458.87, 'Fullsize SUV': 588.76, 'Luxury Car': 595.5699999999999}, 39: {'type': 'city', 'brand': 'enterprise', 'code': 'E1159D', 'name': 'Gg Blue Island', 'bcode': 'ET', 'dist': '9.47', 'Economy Car': 299.77000000000004, 'Compact Car': 299.82, 'Intermediate Car': 309.81, 'Standard Car': 334.74, 'Fullsize Car': 334.78, 'Intermediate SUV': 474.64, 'Standard SUV': 544.57, 'Mini Van': 797.32, 'Fullsize SUV': 709.39, 'Fullsize Van': 1004.0600000000001}, 57: {'type': 'city', 'brand': 'enterprise', 'code': 'E11558', 'name': 'Nn Uptown', 'bcode': 'ET', 'dist': '12.59', 'Economy Car': 193.4, 'Compact Car': 193.44, 'Intermediate Car': 204.33, 'Standard Car': 215.22, 'Fullsize Car': 226.11, 'Premium Car': 316.23, 'Intermediate SUV': 279.46, 'Standard SUV': 416.68, 'Mini Van': 482.02, 'Fullsize SUV': 667.15, 'Luxury Car': 492.91, 'Premium SUV': 776.05}, 38: {'type': 'city', 'brand': 'enterprise', 'code': 'E11575', 'name': 'Gg Berwyn', 'bcode': 'ET', 'dist': '9.33', 'Economy Car': 179.88, 'Compact Car': 179.92000000000002, 'Intermediate Car': 189.91000000000003, 'Standard Car': 199.9, 'Fullsize Car': 209.89000000000001, 'Premium Car': 419.68, 'Intermediate SUV': 349.75, 'Standard SUV': 419.68, 'Mini Van': 532.08, 'Fullsize SUV': 729.39, 'Luxury Car': 505.59, 'Fullsize Van': 824.29}, 29: {'type': 'city', 'brand': 'enterprise', 'code': 'E115C4', 'name': 'Dd Old Town', 'bcode': 'ET', 'dist': '7.87', 'Economy Car': 193.4, 'Compact Car': 193.44, 'Intermediate Car': 204.33, 'Standard Car': 215.22, 'Fullsize Car': 226.11, 'Premium Car': 316.23, 'Intermediate SUV': 279.46, 'Standard SUV': 416.68, 'Mini Van': 482.02, 'Fullsize SUV': 667.15, 'Luxury Car': 492.91, 'Premium SUV': 776.05, 'Fullsize Van': 1097.27}, 56: {'type': 'city', 'brand': 'enterprise', 'code': 'E11528', 'name': 'Nn Cragin', 'bcode': 'ET', 'dist': '11.92', 'Economy Car': 206.04999999999998, 'Compact Car': 206.07999999999998, 'Intermediate Car': 216.97, 'Standard Car': 227.85999999999999, 'Fullsize Car': 233.32, 'Premium Car': 346.71000000000004, 'Intermediate SUV': 271.12, 'Standard SUV': 359.31, 'Mini Van': 500.40999999999997, 'Fullsize SUV': 837.67, 'Luxury Car': 390.81, 'Premium SUV': 837.7, 'Fullsize Van': 1097.27}, 37: {'type': 'city', 'brand': 'enterprise', 'code': 'E11578', 'name': 'Dd Bucktown', 'bcode': 'ET', 'dist': '8.91', 'Economy Car': 193.4, 'Compact Car': 193.44, 'Intermediate Car': 204.33, 'Standard Car': 215.22, 'Fullsize Car': 226.11, 'Premium Car': 316.23, 'Intermediate SUV': 279.46, 'Standard SUV': 416.68, 'Mini Van': 482.02, 'Fullsize SUV': 667.15, 'Luxury Car': 492.91, 'Premium SUV': 733.72, 'Fullsize Van': 1097.27}, 28: {'type': 'airport', 'brand': 'alamo', 'code': 'MDWT71', 'name': 'Midway Intl Arpt', 'bcode': 'AL', 'dist': '7.60', 'Economy Car': 329.62, 'Compact Car': 329.62, 'Intermediate Car': 330.95, 'Standard Car': 332.26, 'Fullsize Car': 333.57, 'Premium Car': 413.43000000000006, 'Intermediate SUV': 351.89, 'Standard SUV': 351.13, 'Premium Crossover': 447.31999999999994, 'Mini Van': 424.22, 'Fullsize SUV': 469.61, 'Luxury Car': 451.7099999999999, 'Premium SUV': 620.3200000000002}, 55: {'type': 'city', 'brand': 'enterprise', 'code': 'E11559', 'name': 'Nn Riverview', 'bcode': 'ET', 'dist': '11.85', 'Economy Car': 238.75, 'Compact Car': 238.78, 'Intermediate Car': 249.64, 'Standard Car': 260.53, 'Fullsize Car': 265.99, 'Premium Car': 486.49, 'Intermediate SUV': 303.78999999999996, 'Standard SUV': 391.98, 'Mini Van': 286.0, 'Fullsize SUV': 394.9, 'Luxury Car': 580.97, 'Premium SUV': 449.35, 'Fullsize Van': 1097.27}, 14: {'type': 'city', 'brand': 'enterprise', 'code': 'E11555', 'name': 'Union Station/pres Tower', 'bcode': 'ET', 'dist': '5.93', 'Economy Car': 201.35, 'Compact Car': 207.06, 'Intermediate Car': 212.77999999999997, 'Standard Car': 230.47, 'Fullsize Car': 263.14, 'Premium Car': 502.72, 'Intermediate SUV': 246.81, 'Standard SUV': 339.37, 'Mini Van': 498.36, 'Fullsize SUV': 589.84, 'Luxury Car': 557.1700000000001}, 36: {'type': 'city', 'brand': 'enterprise', 'code': 'E115CF', 'name': 'Sat Howard Orloff', 'bcode': 'ET', 'dist': '8.76'}, 27: {'type': 'airport', 'brand': 'enterprise', 'code': 'MDWT61', 'name': 'Midway Intl Arpt', 'bcode': 'ET', 'dist': '7.60', 'Economy Car': 417.95, 'Compact Car': 417.95, 'Intermediate Car': 424.68, 'Standard Car': 431.39, 'Fullsize Car': 431.39, 'Premium Car': 500.68, 'Intermediate SUV': 450.55, 'Standard SUV': 425.12, 'Premium Crossover': 519.33, 'Mini Van': 506.90000000000003, 'Fullsize SUV': 585.55, 'Fullsize Specialty': 1258.22, 'Luxury Car': 543.56, 'Premium SUV': 755.28, 'Luxury SUV': 1257.01}, 54: {'type': 'city', 'brand': 'enterprise', 'code': 'E11522', 'name': 'Gg Forest Park', 'bcode': 'ET', 'dist': '11.71', 'Economy Car': 181.5, 'Compact Car': 181.54000000000002, 'Intermediate Car': 191.62, 'Standard Car': 201.70000000000002, 'Fullsize Car': 211.78, 'Premium Car': 423.46000000000004, 'Intermediate SUV': 352.9, 'Standard SUV': 423.46000000000004, 'Mini Van': 536.87, 'Fullsize SUV': 735.96, 'Luxury Car': 510.14, 'Premium SUV': 609.96, 'Fullsize Van': 831.72}, 2: {'type': 'city', 'brand': 'enterprise', 'code': 'E11576', 'name': 'Gg South Loop', 'bcode': 'ET', 'dist': '3.17', 'Economy Car': 198.84, 'Compact Car': 198.88, 'Intermediate Car': 209.77, 'Standard Car': 231.57, 'Fullsize Car': 237.01, 'Intermediate SUV': 389.47, 'Standard SUV': 465.7, 'Mini Van': 492.93, 'Fullsize SUV': 710.71, 'Fullsize Van': 906.75}, 13: {'type': 'city', 'brand': 'enterprise', 'code': 'E115CD', 'name': 'Dd West Loop A/b(ex15ca)', 'bcode': 'ET', 'dist': '5.84', 'Economy Car': 201.35, 'Compact Car': 207.06, 'Intermediate Car': 212.77999999999997, 'Standard Car': 230.47, 'Fullsize Car': 263.14, 'Premium Car': 502.72, 'Intermediate SUV': 246.81, 'Standard SUV': 339.37, 'Mini Van': 498.36, 'Fullsize SUV': 589.84, 'Luxury Car': 557.1700000000001}, 26: {'type': 'city', 'brand': 'enterprise', 'code': 'E115CQ', 'name': 'Dd Gold Coast Auto Body', 'bcode': 'ET', 'dist': '7.54', 'Economy Car': 193.4, 'Compact Car': 193.44, 'Intermediate Car': 204.33, 'Standard Car': 215.22, 'Fullsize Car': 226.11, 'Premium Car': 316.23, 'Intermediate SUV': 279.46, 'Standard SUV': 416.68, 'Mini Van': 482.02, 'Fullsize SUV': 667.15, 'Luxury Car': 492.91, 'Premium SUV': 776.05, 'Fullsize Van': 1097.27}, 35: {'type': 'city', 'brand': 'enterprise', 'code': 'E11503', 'name': 'Gg Oak Lawn', 'bcode': 'ET', 'dist': '8.70', 'Economy Car': 181.5, 'Compact Car': 181.54000000000002, 'Intermediate Car': 191.62, 'Standard Car': 201.70000000000002, 'Fullsize Car': 211.78, 'Premium Car': 423.46000000000004, 'Intermediate SUV': 352.9, 'Standard SUV': 423.46000000000004, 'Mini Van': 504.12, 'Standard Van': 821.64, 'Fullsize SUV': 670.44, 'Luxury Car': 564.58, 'Premium SUV': 846.84, 'Fullsize Van': 821.64}, 53: {'type': 'city', 'brand': 'enterprise', 'code': 'E11581', 'name': 'Gg Crestwood', 'bcode': 'ET', 'dist': '11.20', 'Economy Car': 302.47, 'Compact Car': 302.52, 'Intermediate Car': 312.6, 'Standard Car': 337.76000000000005, 'Fullsize Car': 337.8, 'Premium Car': 478.92, 'Intermediate SUV': 478.92, 'Standard SUV': 549.48, 'Mini Van': 804.5, 'Fullsize SUV': 715.78, 'Fullsize Van': 1013.11}, 12: {'type': 'city', 'brand': 'enterprise', 'code': 'E115CE', 'name': 'Chicago Loop', 'bcode': 'ET', 'dist': '5.82', 'Economy Car': 201.35, 'Compact Car': 207.06, 'Intermediate Car': 212.77999999999997, 'Standard Car': 230.47, 'Fullsize Car': 263.14, 'Premium Car': 502.72, 'Intermediate SUV': 246.81, 'Standard SUV': 339.37, 'Mini Van': 498.36, 'Fullsize SUV': 589.84, 'Luxury Car': 557.1700000000001}, 34: {'type': 'city', 'brand': 'enterprise', 'code': 'E115MT', 'name': 'Euro Collission', 'bcode': 'ET', 'dist': '8.08', 'Economy Car': 151.69, 'Compact Car': 151.69, 'Intermediate Car': 163.13, 'Standard Car': 203.13, 'Fullsize Car': 203.17000000000002, 'Premium Car': 574.6, 'Intermediate SUV': 449.37, 'Standard SUV': 460.26, 'Mini Van': 492.93, 'Standard Van': 667.15, 'Fullsize SUV': 819.63, 'Fullsize Specialty': 1266.1, 'Premium Specialty': 443.92, 'Luxury Car': 727.06, 'Premium SUV': 830.52, 'Fullsize Van': 667.15}, 25: {'type': 'airport', 'brand': 'budget', 'code': 'MDWT02', 'name': 'Midway Airport', 'bcode': 'BG', 'dist': '7.54', 'Economy Car': 407.58, 'Compact Car': 408.74, 'Intermediate Car': 386.89, 'Standard Car': 385.39, 'Fullsize Car': 393.4, 'Premium Car': 540.91, 'Intermediate SUV': 547.93, 'Standard SUV': 481.27, 'Mini Van': 457.87, 'Fullsize SUV': 533.89, 'Luxury Car': 615.77, 'Premium SUV': 1108.81, 'Fullsize Van': 874.88}, 52: {'type': 'city', 'brand': 'enterprise', 'code': 'E11588', 'name': 'Gg Bridgeview', 'bcode': 'ET', 'dist': '11.09', 'Economy Car': 181.5, 'Compact Car': 181.54000000000002, 'Intermediate Car': 191.62, 'Standard Car': 201.70000000000002, 'Fullsize Car': 211.78, 'Premium Car': 423.46000000000004, 'Intermediate SUV': 352.9, 'Standard SUV': 423.46000000000004, 'Mini Van': 504.12, 'Standard Van': 821.64, 'Fullsize SUV': 670.44, 'Luxury Car': 564.58, 'Premium SUV': 846.84, 'Fullsize Van': 821.64}, 11: {'type': 'city', 'brand': 'budget', 'code': 'CHIX01', 'name': 'Chicago Union Train Station', 'bcode': 'BG', 'dist': '5.71', 'Economy Car': 202.12, 'Compact Car': 202.12, 'Intermediate Car': 202.24, 'Standard Car': 212.14999999999998, 'Fullsize Car': 217.14, 'Premium Car': 431.99, 'Intermediate SUV': 327.77, 'Standard SUV': 466.71999999999997, 'Mini Van': 646.2, 'Fullsize SUV': 718.61, 'Standard Convertible': 920.86, 'Premium SUV': 811.25, 'Fullsize Van': 869.15}, 4: {'type': 'city', 'brand': 'budget', 'code': 'CHIC02', 'name': 'Chicago', 'bcode': 'BG', 'dist': '4.05', 'Economy Car': 203.48, 'Compact Car': 203.48, 'Intermediate Car': 211.17000000000002, 'Standard Car': 220.19, 'Fullsize Car': 224.70000000000002, 'Premium Car': 424.53999999999996, 'Intermediate SUV': 329.8, 'Standard SUV': 456.12, 'Mini Van': 619.29, 'Fullsize SUV': 687.72, 'Standard Convertible': 837.4000000000001, 'Premium SUV': 711.4300000000001, 'Fullsize Van': 800.9100000000001}, 24: {'type': 'airport', 'brand': 'avis', 'code': 'MDWT01', 'name': 'Chicago Midway Intl Airport', 'bcode': 'AV', 'dist': '7.54', 'Economy Car': 485.94000000000005, 'Compact Car': 495.3, 'Intermediate Car': 479.11, 'Standard Car': 479.11, 'Fullsize Car': 484.14, 'Premium Car': 546.77, 'Intermediate SUV': 358.69, 'Standard SUV': 384.77, 'Mini Van': 463.72, 'Fullsize SUV': 539.75, 'Luxury Car': 621.62, 'Premium SUV': 894.6800000000001, 'Fullsize Van': 863.19}, 32: {'type': 'city', 'brand': 'avis', 'code': 'CHIS08', 'name': 'Oak Lawn/chicago', 'bcode': 'AV', 'dist': '8.04', 'Economy Car': 167.76, 'Compact Car': 167.76, 'Intermediate Car': 167.87, 'Standard Car': 176.20999999999998, 'Fullsize Car': 180.4, 'Premium Car': 361.19, 'Intermediate SUV': 273.49, 'Standard SUV': 390.41999999999996, 'Mini Van': 531.71, 'Fullsize SUV': 629.15, 'Standard Convertible': 802.13, 'Luxury Car': 478.12, 'Premium SUV': 753.41, 'Fullsize Van': 724.18}, 33: {'type': 'city', 'brand': 'budget', 'code': 'CHIS04', 'name': 'Oak Lawn', 'bcode': 'BG', 'dist': '8.04', 'Economy Car': 158.02, 'Compact Car': 158.02, 'Intermediate Car': 159.51, 'Standard Car': 167.87, 'Fullsize Car': 172.03, 'Premium Car': 351.44000000000005, 'Intermediate SUV': 263.75, 'Standard SUV': 380.68, 'Mini Van': 531.71, 'Fullsize SUV': 626.74, 'Standard Convertible': 772.5600000000001, 'Premium SUV': 743.67, 'Fullsize Van': 719.31}, 51: {'type': 'city', 'brand': 'enterprise', 'code': 'E11509', 'name': 'Dd Oak Park', 'bcode': 'ET', 'dist': '10.97', 'Economy Car': 179.88, 'Compact Car': 179.89999999999998, 'Intermediate Car': 189.89, 'Standard Car': 199.88, 'Fullsize Car': 204.88, 'Premium Car': 344.74, 'Intermediate SUV': 274.81, 'Standard SUV': 379.70000000000005, 'Mini Van': 409.69, 'Fullsize SUV': 509.59000000000003, 'Luxury Car': 449.63, 'Premium SUV': 609.49, 'Fullsize Van': 1004.0600000000001}, 10: {'type': 'city', 'brand': 'avis', 'code': 'CHIX01', 'name': 'Chicago Union Train Station', 'bcode': 'AV', 'dist': '5.71', 'Economy Car': 194.52, 'Compact Car': 194.52, 'Intermediate Car': 193.11999999999998, 'Standard Car': 202.14999999999998, 'Fullsize Car': 206.66000000000003, 'Premium Car': 403.49, 'Intermediate SUV': 308.75, 'Standard SUV': 435.07000000000005, 'Mini Van': 587.71, 'Fullsize SUV': 765.12, 'Standard Convertible': 890.39, 'Luxury Car': 529.81, 'Premium SUV': 4237.93, 'Fullsize Van': 795.6500000000001}, 23: {'type': 'city', 'brand': 'enterprise', 'code': 'E115C7', 'name': 'Gold Coast', 'bcode': 'ET', 'dist': '6.86', 'Economy Car': 200.24, 'Compact Car': 205.98, 'Intermediate Car': 211.69, 'Standard Car': 239.33999999999997, 'Fullsize Car': 275.64, 'Premium Car': 541.12, 'Intermediate SUV': 257.49, 'Standard SUV': 360.34000000000003, 'Mini Van': 458.87, 'Fullsize SUV': 588.76, 'Luxury Car': 595.5699999999999}, 50: {'type': 'city', 'brand': 'budget', 'code': 'CHIW09', 'name': 'Oak Park', 'bcode': 'BG', 'dist': '10.82', 'Economy Car': 166.26999999999998, 'Compact Car': 166.26999999999998, 'Intermediate Car': 166.37, 'Standard Car': 174.64, 'Fullsize Car': 178.79, 'Premium Car': 357.96000000000004, 'Intermediate SUV': 271.05, 'Standard SUV': 386.92999999999995, 'Mini Van': 536.62, 'Fullsize SUV': 630.8000000000001, 'Standard Convertible': 765.6700000000001, 'Premium SUV': 746.69, 'Fullsize Van': 722.54}, 9: {'type': 'city', 'brand': 'enterprise', 'code': 'E115DA', 'name': 'Gg Gresham', 'bcode': 'ET', 'dist': '5.57', 'Economy Car': 198.84, 'Compact Car': 198.88, 'Intermediate Car': 209.77, 'Standard Car': 220.66000000000003, 'Fullsize Car': 231.55, 'Intermediate SUV': 384.01, 'Standard SUV': 460.24, 'Mini Van': 531.04, 'Fullsize SUV': 727.06}, 22: {'type': 'city', 'brand': 'enterprise', 'code': 'E11557', 'name': 'Chicago Magnificent Mile', 'bcode': 'ET', 'dist': '6.43', 'Economy Car': 200.24, 'Compact Car': 205.98, 'Intermediate Car': 211.69, 'Standard Car': 239.33999999999997, 'Fullsize Car': 275.64, 'Premium Car': 541.12, 'Intermediate SUV': 257.49, 'Standard SUV': 360.34000000000003, 'Mini Van': 458.87, 'Fullsize SUV': 588.76, 'Luxury Car': 595.5699999999999}, 49: {'type': 'city', 'brand': 'avis', 'code': 'CHIW12', 'name': 'Oak Park', 'bcode': 'AV', 'dist': '10.82', 'Economy Car': 175.92000000000002, 'Compact Car': 175.92000000000002, 'Intermediate Car': 174.64, 'Standard Car': 182.92, 'Fullsize Car': 187.06, 'Premium Car': 367.62, 'Intermediate SUV': 280.71, 'Standard SUV': 396.59000000000003, 'Mini Van': 536.62, 'Fullsize SUV': 699.37, 'Standard Convertible': 804.6300000000001, 'Luxury Car': 483.5, 'Premium SUV': 756.34, 'Fullsize Van': 727.37}, 8: {'type': 'city', 'brand': 'enterprise', 'code': 'E11530', 'name': 'Gg Stony Island', 'bcode': 'ET', 'dist': '5.17', 'Economy Car': 198.84, 'Compact Car': 198.88, 'Intermediate Car': 209.77, 'Standard Car': 220.66000000000003, 'Fullsize Car': 231.55, 'Intermediate SUV': 384.01, 'Standard SUV': 460.24, 'Mini Van': 531.04, 'Fullsize SUV': 727.06}, 3: {'type': 'city', 'brand': 'avis', 'code': 'CHIC05', 'name': 'Chicago - 18th Street & Wabash Avenue', 'bcode': 'AV', 'dist': '4.05', 'Economy Car': 194.52, 'Compact Car': 194.52, 'Intermediate Car': 193.11999999999998, 'Standard Car': 202.14999999999998, 'Fullsize Car': 206.66000000000003, 'Premium Car': 403.49, 'Intermediate SUV': 308.75, 'Standard SUV': 435.07000000000005, 'Mini Van': 587.71, 'Luxury Car': 529.81, 'Premium SUV': 843.02, 'Fullsize Van': 795.6500000000001}, 48: {'type': 'city', 'brand': 'enterprise', 'code': 'E115C9', 'name': 'Nn Gerber Logan Square', 'bcode': 'ET', 'dist': '10.78', 'Economy Car': 206.04999999999998, 'Compact Car': 206.07999999999998, 'Intermediate Car': 216.97, 'Standard Car': 227.85999999999999, 'Fullsize Car': 233.32, 'Premium Car': 346.71000000000004, 'Intermediate SUV': 271.12, 'Standard SUV': 359.31, 'Mini Van': 500.40999999999997, 'Fullsize SUV': 837.67, 'Luxury Car': 390.81, 'Premium SUV': 837.7}, 7: {'type': 'city', 'brand': 'budget', 'code': 'CHIC08', 'name': 'Chicago', 'bcode': 'BG', 'dist': '5.11', 'Economy Car': 203.48, 'Compact Car': 203.48, 'Intermediate Car': 211.17000000000002, 'Standard Car': 220.19, 'Fullsize Car': 224.70000000000002, 'Premium Car': 424.53999999999996, 'Intermediate SUV': 329.8, 'Standard SUV': 456.12, 'Mini Van': 619.29, 'Fullsize SUV': 687.72, 'Standard Convertible': 837.4000000000001, 'Premium SUV': 711.4300000000001, 'Fullsize Van': 800.9100000000001}, 60: {'type': 'city', 'brand': 'enterprise', 'code': 'E11527', 'name': 'Aa Lagrange', 'bcode': 'ET', 'dist': '13.64', 'Economy Car': 156.36, 'Compact Car': 156.36, 'Intermediate Car': 166.44, 'Standard Car': 176.52, 'Fullsize Car': 181.56, 'Premium Car': 282.36, 'Intermediate SUV': 221.88, 'Standard SUV': 282.36, 'Mini Van': 312.53, 'Standard Van': 462.78000000000003, 'Fullsize SUV': 393.16999999999996, 'Luxury Car': 383.15999999999997, 'Premium SUV': 514.14, 'Fullsize Van': 1013.11}, 47: {'type': 'city', 'brand': 'budget', 'code': 'CHIS02', 'name': 'Chicago Ridge Il Sears', 'bcode': 'BG', 'dist': '10.78', 'Economy Car': 158.02, 'Compact Car': 158.02, 'Intermediate Car': 159.51, 'Standard Car': 167.87, 'Fullsize Car': 172.03, 'Premium Car': 351.44000000000005, 'Intermediate SUV': 263.75, 'Standard SUV': 380.68, 'Mini Van': 531.71, 'Fullsize SUV': 626.74, 'Standard Convertible': 772.5600000000001, 'Premium SUV': 743.67, 'Fullsize Van': 719.31}, 61: {'type': 'city', 'brand': 'enterprise', 'code': 'E1151G', 'name': 'Gg South Holland', 'bcode': 'ET', 'dist': '13.76', 'Economy Car': 181.5, 'Compact Car': 181.54000000000002, 'Intermediate Car': 191.62, 'Standard Car': 201.67, 'Fullsize Car': 211.78, 'Intermediate SUV': 352.9, 'Standard SUV': 423.46000000000004, 'Mini Van': 574.6800000000001, 'Fullsize Van': 826.6800000000001}, 21: {'type': 'city', 'brand': 'enterprise', 'code': 'E115CU', 'name': 'Gg Western And Roosevelt', 'bcode': 'ET', 'dist': '6.17', 'Economy Car': 198.84, 'Compact Car': 198.88, 'Intermediate Car': 209.77, 'Standard Car': 273.83, 'Fullsize Car': 273.87, 'Premium Car': 502.56000000000006, 'Intermediate SUV': 426.33000000000004, 'Standard SUV': 502.56000000000006, 'Mini Van': 492.93, 'Fullsize SUV': 819.63, 'Luxury Car': 553.88, 'Fullsize Van': 1097.27}, 46: {'type': 'city', 'brand': 'avis', 'code': 'CHIS04', 'name': 'Sears Auto-westfield Chicago Ridge Mall', 'bcode': 'AV', 'dist': '10.78', 'Economy Car': 167.76, 'Compact Car': 167.76, 'Intermediate Car': 167.87, 'Standard Car': 176.20999999999998, 'Fullsize Car': 180.4, 'Premium Car': 361.19, 'Intermediate SUV': 273.49, 'Standard SUV': 390.41999999999996, 'Mini Van': 531.71, 'Fullsize SUV': 621.8699999999999, 'Standard Convertible': 802.13, 'Luxury Car': 478.12, 'Premium SUV': 753.41, 'Fullsize Van': 724.18}, 6: {'type': 'city', 'brand': 'enterprise', 'code': 'E115UG', 'name': 'Uber Southside', 'bcode': 'ET', 'dist': '4.20'}, 62: {'type': 'city', 'brand': 'enterprise', 'code': 'E11524', 'name': 'Napleton Chrysler', 'bcode': 'ET', 'dist': '13.81', 'Economy Car': 238.75, 'Compact Car': 238.78, 'Intermediate Car': 249.64, 'Standard Car': 260.53, 'Fullsize Car': 265.99, 'Premium Car': 486.49, 'Intermediate SUV': 303.78999999999996, 'Standard SUV': 391.98, 'Mini Van': 286.0, 'Fullsize SUV': 394.9, 'Luxury Car': 580.97, 'Premium SUV': 449.35}, 20: {'type': 'city', 'brand': 'enterprise', 'code': 'E115C6', 'name': 'Gg Archer Heights', 'bcode': 'ET', 'dist': '6.13', 'Economy Car': 198.84, 'Compact Car': 198.88, 'Intermediate Car': 271.25, 'Standard Car': 271.28, 'Fullsize Car': 271.32, 'Intermediate SUV': 423.78000000000003, 'Standard SUV': 500.01, 'Mini Van': 531.04, 'Fullsize SUV': 776.05}, 45: {'type': 'city', 'brand': 'avis', 'code': 'CHIC07', 'name': 'Lakeview/chicago', 'bcode': 'AV', 'dist': '10.56', 'Economy Car': 194.52, 'Compact Car': 194.52, 'Intermediate Car': 193.11999999999998, 'Standard Car': 202.14999999999998, 'Fullsize Car': 206.66000000000003, 'Premium Car': 403.49, 'Intermediate SUV': 308.75, 'Standard SUV': 435.07000000000005, 'Mini Van': 587.71, 'Luxury Car': 529.81, 'Premium SUV': 843.02, 'Fullsize Van': 795.6500000000001}, 19: {'type': 'city', 'brand': 'enterprise', 'code': 'E115CA', 'name': 'Lake And Franklin', 'bcode': 'ET', 'dist': '6.09', 'Economy Car': 200.24, 'Compact Car': 205.98, 'Intermediate Car': 211.69, 'Standard Car': 239.33999999999997, 'Fullsize Car': 275.64, 'Premium Car': 541.12, 'Intermediate SUV': 257.49, 'Standard SUV': 360.34000000000003, 'Mini Van': 458.87, 'Fullsize SUV': 588.76, 'Luxury Car': 595.5699999999999}, 44: {'type': 'city', 'brand': 'budget', 'code': 'CHIC07', 'name': 'Chicago/lakeview', 'bcode': 'BG', 'dist': '10.55', 'Economy Car': 203.48, 'Compact Car': 203.48, 'Intermediate Car': 211.17000000000002, 'Standard Car': 220.19, 'Fullsize Car': 224.70000000000002, 'Premium Car': 424.53999999999996, 'Intermediate SUV': 329.8, 'Standard SUV': 456.12, 'Mini Van': 619.29, 'Fullsize SUV': 721.96, 'Standard Convertible': 837.4000000000001, 'Luxury Car': 550.87, 'Premium SUV': 848.29, 'Fullsize Van': 821.97}, 5: {'type': 'city', 'brand': 'enterprise', 'code': 'E115DN', 'name': 'Gg South Western', 'bcode': 'ET', 'dist': '4.19', 'Economy Car': 198.84, 'Compact Car': 198.88, 'Intermediate Car': 271.25, 'Standard Car': 271.28, 'Fullsize Car': 271.32, 'Intermediate SUV': 423.78000000000003, 'Standard SUV': 500.01, 'Mini Van': 531.04, 'Fullsize SUV': 776.05}, 63: {'type': 'city', 'brand': 'enterprise', 'code': 'E115CH', 'name': 'Dd Elmwood Park', 'bcode': 'ET', 'dist': '14.15', 'Economy Car': 174.88, 'Compact Car': 174.91, 'Intermediate Car': 184.89999999999998, 'Standard Car': 194.89, 'Fullsize Car': 199.88, 'Premium Car': 339.74, 'Intermediate SUV': 269.81, 'Standard SUV': 339.74, 'Mini Van': 409.69, 'Fullsize SUV': 509.59000000000003, 'Luxury Car': 444.64, 'Premium SUV': 609.49, 'Fullsize Van': 1004.0600000000001}, 18: {'type': 'city', 'brand': 'alamo', 'code': 'CHIC72', 'name': 'Chicago N Lasalle', 'bcode': 'AL', 'dist': '6.07', 'Economy Car': 212.09, 'Compact Car': 218.0, 'Intermediate Car': 223.91, 'Standard Car': 252.72999999999996, 'Fullsize Car': 286.5, 'Intermediate SUV': 269.62, 'Standard SUV': 365.26, 'Mini Van': 493.28000000000003, 'Fullsize SUV': 583.29}, 43: {'type': 'city', 'brand': 'budget', 'code': 'CHIC01', 'name': 'Logan Square Chicago Il', 'bcode': 'BG', 'dist': '10.15', 'Economy Car': 184.0, 'Compact Car': 184.0, 'Intermediate Car': 184.1, 'Standard Car': 193.11999999999998, 'Fullsize Car': 197.64, 'Premium Car': 392.96000000000004, 'Intermediate SUV': 298.22, 'Standard SUV': 424.53999999999996, 'Mini Van': 587.71, 'Fullsize SUV': 1119.08, 'Standard Convertible': 837.4000000000001, 'Premium SUV': 721.96, 'Fullsize Van': 790.39}, 64: {'type': 'city', 'brand': 'enterprise', 'code': 'E11517', 'name': 'Gg Calumet City', 'bcode': 'ET', 'dist': '14.33', 'Economy Car': 179.88, 'Compact Car': 179.92000000000002, 'Intermediate Car': 189.91000000000003, 'Standard Car': 199.9, 'Fullsize Car': 209.89000000000001, 'Intermediate SUV': 349.75, 'Standard SUV': 419.68, 'Mini Van': 802.3100000000001, 'Fullsize Van': 1004.0600000000001}, 42: {'type': 'city', 'brand': 'avis', 'code': 'CHIC04', 'name': 'Logan Square', 'bcode': 'AV', 'dist': '10.15', 'Economy Car': 194.52, 'Compact Car': 194.52, 'Intermediate Car': 193.11999999999998, 'Standard Car': 202.14999999999998, 'Fullsize Car': 206.66000000000003, 'Premium Car': 403.49, 'Intermediate SUV': 308.75, 'Standard SUV': 435.07000000000005, 'Mini Van': 587.71, 'Fullsize SUV': 775.6500000000001, 'Standard Convertible': 890.39, 'Luxury Car': 529.81, 'Premium SUV': 4237.93, 'Fullsize Van': 795.6500000000001}, 31: {'type': 'city', 'brand': 'budget', 'code': 'CHIC12', 'name': 'Chicago Grossinger Autoplex', 'bcode': 'BG', 'dist': '7.94', 'Economy Car': 184.0, 'Compact Car': 184.0, 'Intermediate Car': 184.1, 'Standard Car': 193.11999999999998, 'Fullsize Car': 197.64, 'Premium Car': 392.96000000000004, 'Intermediate SUV': 298.22, 'Standard SUV': 424.53999999999996, 'Mini Van': 587.71, 'Fullsize SUV': 648.27, 'Standard Convertible': 608.72, 'Premium SUV': 732.49, 'Fullsize Van': 790.39}}\n"
     ]
    }
   ],
   "source": [
    "results = runparser()\n",
    "print(results)"
   ]
  },
  {
   "cell_type": "code",
   "execution_count": 29,
   "metadata": {
    "collapsed": true
   },
   "outputs": [],
   "source": [
    "car1 = 'Economy Car'\n",
    "car2 = 'Compact Car'\n",
    "car3 = 'Intermediate Car'\n",
    "car4 = 'Intermediate SUV'\n",
    "desiredcar = car2\n",
    "\n",
    "results2 = dict()\n",
    "for k,v in results.items():\n",
    "    #print(v)\n",
    "    if desiredcar in v:\n",
    "        results2[k] = v\n",
    "order = np.array([x[desiredcar] for x in results2.values()]).argsort()\n",
    "order = np.array([x[desiredcar] for x in results2.values() if desiredcar in x]).argsort()"
   ]
  },
  {
   "cell_type": "code",
   "execution_count": 30,
   "metadata": {},
   "outputs": [
    {
     "name": "stdout",
     "output_type": "stream",
     "text": [
      "10/18/2017 11:00 AM 10/25/2017 11:00 AM Compact Car Compact Car Intermediate Car\n",
      "034 |  8.08 |  151.69 |  151.69 |  163.13 | enterprise   | Euro Collission\n",
      "060 | 13.64 |  156.36 |  156.36 |  166.44 | enterprise   | Aa Lagrange\n",
      "033 |  8.04 |  158.02 |  158.02 |  159.51 | budget       | Oak Lawn\n",
      "047 | 10.78 |  158.02 |  158.02 |  159.51 | budget       | Chicago Ridge Il Sears\n",
      "050 | 10.82 |  166.27 |  166.27 |  166.37 | budget       | Oak Park\n",
      "032 |  8.04 |  167.76 |  167.76 |  167.87 | avis         | Oak Lawn/chicago\n",
      "046 | 10.78 |  167.76 |  167.76 |  167.87 | avis         | Sears Auto-westfield Chicago Ridge Mall\n",
      "063 | 14.15 |  174.91 |  174.91 |  184.90 | enterprise   | Dd Elmwood Park\n",
      "049 | 10.82 |  175.92 |  175.92 |  174.64 | avis         | Oak Park\n",
      "051 | 10.97 |  179.90 |  179.90 |  189.89 | enterprise   | Dd Oak Park\n",
      "064 | 14.33 |  179.92 |  179.92 |  189.91 | enterprise   | Gg Calumet City\n",
      "038 |  9.33 |  179.92 |  179.92 |  189.91 | enterprise   | Gg Berwyn\n",
      "052 | 11.09 |  181.54 |  181.54 |  191.62 | enterprise   | Gg Bridgeview\n",
      "061 | 13.76 |  181.54 |  181.54 |  191.62 | enterprise   | Gg South Holland\n",
      "035 |  8.70 |  181.54 |  181.54 |  191.62 | enterprise   | Gg Oak Lawn\n",
      "054 | 11.71 |  181.54 |  181.54 |  191.62 | enterprise   | Gg Forest Park\n",
      "031 |  7.94 |  184.00 |  184.00 |  184.10 | budget       | Chicago Grossinger Autoplex\n",
      "043 | 10.15 |  184.00 |  184.00 |  184.10 | budget       | Logan Square Chicago Il\n",
      "017 |  6.05 |  189.26 |  189.26 |  188.61 | budget       | North Loop Budget\n",
      "037 |  8.91 |  193.44 |  193.44 |  204.33 | enterprise   | Dd Bucktown\n",
      "029 |  7.87 |  193.44 |  193.44 |  204.33 | enterprise   | Dd Old Town\n",
      "026 |  7.54 |  193.44 |  193.44 |  204.33 | enterprise   | Dd Gold Coast Auto Body\n",
      "057 | 12.59 |  193.44 |  193.44 |  204.33 | enterprise   | Nn Uptown\n",
      "041 |  9.61 |  193.44 |  193.44 |  204.33 | enterprise   | Nn Lincoln Park\n",
      "042 | 10.15 |  194.52 |  194.52 |  193.12 | avis         | Logan Square\n",
      "010 |  5.71 |  194.52 |  194.52 |  193.12 | avis         | Chicago Union Train Station\n",
      "045 | 10.56 |  194.52 |  194.52 |  193.12 | avis         | Lakeview/chicago\n",
      "030 |  7.94 |  194.52 |  194.52 |  193.12 | avis         | Grossinger City Autoplex\n",
      "003 |  4.05 |  194.52 |  194.52 |  193.12 | avis         | Chicago - 18th Street & Wabash Avenue\n",
      "009 |  5.57 |  198.88 |  198.88 |  209.77 | enterprise   | Gg Gresham\n",
      "021 |  6.17 |  198.88 |  198.88 |  209.77 | enterprise   | Gg Western And Roosevelt\n",
      "008 |  5.17 |  198.88 |  198.88 |  209.77 | enterprise   | Gg Stony Island\n",
      "020 |  6.13 |  198.88 |  198.88 |  271.25 | enterprise   | Gg Archer Heights\n",
      "005 |  4.19 |  198.88 |  198.88 |  271.25 | enterprise   | Gg South Western\n",
      "002 |  3.17 |  198.88 |  198.88 |  209.77 | enterprise   | Gg South Loop\n",
      "011 |  5.71 |  202.12 |  202.12 |  202.24 | budget       | Chicago Union Train Station\n",
      "044 | 10.55 |  203.48 |  203.48 |  211.17 | budget       | Chicago/lakeview\n",
      "004 |  4.05 |  203.48 |  203.48 |  211.17 | budget       | Chicago\n",
      "007 |  5.11 |  203.48 |  203.48 |  211.17 | budget       | Chicago\n",
      "016 |  6.05 |  204.00 |  204.00 |  196.74 | avis         | North Loop-downtown\n",
      "019 |  6.09 |  205.98 |  205.98 |  211.69 | enterprise   | Lake And Franklin\n",
      "022 |  6.43 |  205.98 |  205.98 |  211.69 | enterprise   | Chicago Magnificent Mile\n",
      "015 |  5.93 |  205.98 |  205.98 |  211.69 | enterprise   | Millennium Park\n",
      "023 |  6.86 |  205.98 |  205.98 |  211.69 | enterprise   | Gold Coast\n",
      "048 | 10.78 |  206.08 |  206.08 |  216.97 | enterprise   | Nn Gerber Logan Square\n",
      "056 | 11.92 |  206.08 |  206.08 |  216.97 | enterprise   | Nn Cragin\n",
      "059 | 13.31 |  206.08 |  206.08 |  216.97 | enterprise   | Nn Irving Park\n",
      "013 |  5.84 |  207.06 |  207.06 |  212.78 | enterprise   | Dd West Loop A/b(ex15ca)\n",
      "014 |  5.93 |  207.06 |  207.06 |  212.78 | enterprise   | Union Station/pres Tower\n",
      "012 |  5.82 |  207.06 |  207.06 |  212.78 | enterprise   | Chicago Loop\n",
      "001 |  0.95 |  207.59 |  207.59 |  218.48 | enterprise   | Gg Hyde Park\n",
      "018 |  6.07 |  218.00 |  218.00 |  223.91 | alamo        | Chicago N Lasalle\n",
      "055 | 11.85 |  238.78 |  238.78 |  249.64 | enterprise   | Nn Riverview\n",
      "062 | 13.81 |  238.78 |  238.78 |  249.64 | enterprise   | Napleton Chrysler\n",
      "039 |  9.47 |  299.82 |  299.82 |  309.81 | enterprise   | Gg Blue Island\n",
      "058 | 12.70 |  299.82 |  299.82 |  309.81 | enterprise   | Gg Brookfield\n",
      "053 | 11.20 |  302.52 |  302.52 |  312.60 | enterprise   | Gg Crestwood\n",
      "028 |  7.60 |  329.62 |  329.62 |  330.95 | alamo        | Midway Intl Arpt\n",
      "025 |  7.54 |  408.74 |  408.74 |  386.89 | budget       | Midway Airport\n",
      "027 |  7.60 |  417.95 |  417.95 |  424.68 | enterprise   | Midway Intl Arpt\n",
      "024 |  7.54 |  495.30 |  495.30 |  479.11 | avis         | Chicago Midway Intl Airport\n"
     ]
    }
   ],
   "source": [
    "brands = np.array([x['brand'] for x in results2.values()])[order]\n",
    "nums = np.array([x for x in results2.keys()])[order]\n",
    "titles = np.array([x['name'] for x in results2.values()])[order]\n",
    "prices = np.array([x[desiredcar] for x in results2.values()])[order]\n",
    "prices2 = np.array([x[car2] for x in results2.values()])[order]\n",
    "prices3 = np.array([x[car3] for x in results2.values()])[order]\n",
    "distances = np.array([x['dist'] for x in results2.values()])[order]\n",
    "\n",
    "print(data['pickupDate'],data['pickupTime'],data['dropoffDate'],data['dropoffTime'],desiredcar,car2,car3)\n",
    "for k in zip(nums,prices,prices2,prices3,brands,titles,distances):\n",
    "    #print(k)\n",
    "    print('{:03d} | {:5.2f} | {:7.2f} | {:7.2f} | {:7.2f} | {:12s} | {}'.format(k[0],float(k[6]),k[1],k[2],k[3],str(k[4]),k[5]))"
   ]
  },
  {
   "cell_type": "code",
   "execution_count": null,
   "metadata": {
    "collapsed": true
   },
   "outputs": [],
   "source": []
  }
 ],
 "metadata": {
  "kernelspec": {
   "display_name": "Python 3",
   "language": "python",
   "name": "python3"
  },
  "language_info": {
   "codemirror_mode": {
    "name": "ipython",
    "version": 3
   },
   "file_extension": ".py",
   "mimetype": "text/x-python",
   "name": "python",
   "nbconvert_exporter": "python",
   "pygments_lexer": "ipython3",
   "version": "3.6.1"
  }
 },
 "nbformat": 4,
 "nbformat_minor": 2
}
