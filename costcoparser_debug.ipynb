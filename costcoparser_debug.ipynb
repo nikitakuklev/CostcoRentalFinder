{
 "cells": [
  {
   "cell_type": "code",
   "execution_count": 1,
   "metadata": {
    "collapsed": true
   },
   "outputs": [],
   "source": [
    "import requests,re,time,numpy as np,pickle,asyncio,concurrent.futures"
   ]
  },
  {
   "cell_type": "code",
   "execution_count": 2,
   "metadata": {
    "collapsed": true
   },
   "outputs": [],
   "source": [
    "# Setup relevant variables\n",
    "ZIP = '60615'\n",
    "pickupDate = '10/20/2017'\n",
    "dropoffDate = '10/26/2017'\n",
    "TIME = '9:00 AM'\n",
    "RADIUS = '4'"
   ]
  },
  {
   "cell_type": "code",
   "execution_count": 3,
   "metadata": {},
   "outputs": [],
   "source": [
    "%run core_functions_debug.ipynb"
   ]
  },
  {
   "cell_type": "code",
   "execution_count": 4,
   "metadata": {},
   "outputs": [
    {
     "name": "stdout",
     "output_type": "stream",
     "text": [
      "<template-search/><div data-hook=\"page_content\" data-id=\"page_content\" id=\"page_content\"><div class=\"rental-cars bound\"></div><div id=\"car_rental_grid\"><div class=\"section-description hide-mobile\"><div class=\"bound\"><div class=\"section-title\"><a data-hook=\"go_back\" class=\"arrow-left\">Back</a><h2>Low Price Finder<sup class=\"lowPriceTm\">TM</sup></h2></div><div class=\"section-chat hide-mobile\"><img class=\"chat-image\" style=\"display:none;\" alt=\"Agent Image\" hideIfMissing=\"true\" id=\"needHelpAgentImage\"/><h2>Need Help?</h2><p style=\"display:none;\" id=\"agentExpertsInfo\">Our experienced travel experts are here for you.</p><p id=\"needHelpBannerCallTollFree\"><b>Call  1-866-921-7925</b><br/>\n",
      "\t\t </p><p style=\"font-size: 11px\" id=\"needHelpBannerWeekdays\">Weekdays\n",
      "\t\t        05:00 AM - 09:00 PM\n",
      "\t\t    </p><p style=\"font-size: 11px\" id=\"needHelpBannerWeekends\">Weekends 06:00 AM - 05:30 PM<br/>Pacific Time</p><p style=\"display:none;\" id=\"needHelpBannerChatNow\"><a href=\"javascript:void(0);\" data-hook=\"launch_chat\" class=\"arrow-right\" id=\"chatNowLink\">Live Chat Now</a></p></div><script language=\"javascript\">\n",
      "\tvar needHelpBanner = {\n",
      "\t\tavailableImageCount : 4, // code allows for up to 99 images\n",
      "\t\timagePath : \"/content/_legacy/shared/images/chat/needHelpImage\",\n",
      "\t\tloadAgentImage : function(){\n",
      "\t\t\tvar img = document.getElementById(\"needHelpAgentImage\");\n",
      "\t\t\tvar r = Math.ceil(this.availableImageCount * Math.random());\n",
      "\t\t\tif(r < 10){\n",
      "\t\t\t\tr = (\"0\" + r);\n",
      "\t\t\t}\n",
      "\t\t\timg.onload = function(){\n",
      "\t\t\t\tthis.style.display = \"block\";\n",
      "\t\t\t};\n",
      "\t\t\timg.src = (this.imagePath + r + \".png\");\n",
      "\t\t}\n",
      "\t};\n",
      "\tneedHelpBanner.loadAgentImage();\n",
      "\t</script>\n",
      "\t\t<span id=\"chatClient\" style=\"display:none;\"></span><script language=\"JavaScript\"> (function() { ChatApi.loadMoxieChat(\"07E2EFE3-5BEC-4A4A-8FD5-C6DE7A766213\", \"uid=de6709d7-3b9e-4bc8-a1a2-7c52926e038a\"); })();</script>\n",
      "\t</div></div><div class=\"page-grid desktop-grid hide-mobile\"><div class=\"bound\"><div class=\"results-grid result-2-column\" data-hook=\"desktop-grid\" id=\"car_rental_results_grid\"><div class=\"row full-width row-lg fifths-lg hide-mobile gutter-none grid-heading equalize-heights no-mobile-equalize\"><div class=\"col col-lg col-1 col-lg-1 text-center height-item\"><div class=\"vertical-center\"><div class=\"inner text-center last-item-no-margin\"><p>Taxes and fees are included in the price</p></div></div></div><div class=\"col col-lg col-1 col-lg-1 text-center height-item\"><div class=\"vertical-center\"><div class=\"inner text-center\"><img src=\"/content/shared/images/logos/car/logoEnterprise.png\" class=\"brand-logo brand-enterprise-medium\"/></div></div></div><div class=\"col col-lg col-1 col-lg-1 text-center height-item\"><div class=\"vertical-center\"><div class=\"inner text-center\"><img src=\"/content/shared/images/logos/car/logoEnterprise.png\" class=\"brand-logo brand-enterprise-medium\"/></div></div></div></div><div class=\"row full-width row-lg fifths-lg hide-mobile gutter-none grid-location-info equalize-heights no-mobile-equalize\"><div class=\"col col-lg col-1 col-lg-1 text-center height-item\"><p>Location:</p></div><div class=\"col col-lg col-1 col-lg-1 text-center height-item last-item-no-margin\"><p>Gg Hyde Park</p></div><div class=\"col col-lg col-1 col-lg-1 text-center height-item last-item-no-margin\"><p>Gg South Loop</p></div></div><div class=\"row full-width row-lg fifths-lg hide-mobile gutter-none grid-time-info equalize-heights no-mobile-equalize\"><div class=\"col col-lg col-1 col-lg-1 text-center height-item last-item-no-margin\"><p>Location Hours:</p></div><div class=\"col col-lg col-1 col-lg-1 height-item last-item-no-margin\"><p>07:30 AM - 06:00 PM</p></div><div class=\"col col-lg col-1 col-lg-1 height-item last-item-no-margin\"><p>07:00 AM - 08:00 PM</p></div></div><div class=\"row full-width row-lg fifths-lg gutter-none row-car-grid equalize-heights no-mobile-equalize\"><div class=\"col col-lg col-1 col-lg-1 text-center height-item result-label hide-mobile\"><div class=\"vertical-center\"><div class=\"inner text-center\"><h3>Economy Car</h3></div></div></div><div style=\"height: 94px;\" class=\"col col-lg col-1 col-lg-1 text-center height-item test\"><a data-responsive-referrer=\"carMatrix\" data-category-id=\"3e8c15aa:15f316577f2:-69e4\" data-selected=\"false\" data-product-id=\"3e8c15aa:15f316577f2:-6d38\" data-price=\"215.79000000000002\" data-brand=\"Enterprise\" class=\"card car-result-card \"><div class=\"car-brand hide-desktop\"><img alt=\"Enterprise\" src=\"/content/shared/images/logos/car/logoEnterprise.png\"/></div><div class=\"car-info hide-desktop\"><h3>Economy Car</h3><h4 class=\"car-type hide-desktop\">\n",
      "\t\t\t\t\t\t\t\t\t\t                                    MITSUBISHI MIRAGE  or similar\n",
      "\t\t\t\t\t\t\t\t\t\t                                    </h4></div><div class=\"car-capacity hide-desktop\"><div class=\"passenger\"><span class=\"capacity\">4</span></div></div><p class=\"car-price\"><span class=\"rounded-price\">$216</span></p></a></div><div style=\"height: 94px;\" class=\"col col-lg col-1 col-lg-1 text-center height-item test\"><a data-responsive-referrer=\"carMatrix\" data-category-id=\"3e8c15aa:15f316577f2:-69c8\" data-selected=\"false\" data-product-id=\"3e8c15aa:15f316577f2:-6d38\" data-price=\"207.07999999999998\" data-brand=\"Enterprise\" class=\"card car-result-card lowest-price\"><div class=\"car-brand hide-desktop\"><img alt=\"Enterprise\" src=\"/content/shared/images/logos/car/logoEnterprise.png\"/></div><div class=\"car-info hide-desktop\"><h3>Economy Car</h3><h4 class=\"car-type hide-desktop\">\n",
      "\t\t\t\t\t\t\t\t\t\t                                    MITSUBISHI MIRAGE  or similar\n",
      "\t\t\t\t\t\t\t\t\t\t                                    </h4></div><div class=\"car-capacity hide-desktop\"><div class=\"passenger\"><span class=\"capacity\">4</span></div></div><p class=\"car-price\"><span class=\"rounded-price\">$207</span></p></a></div></div><div class=\"row full-width row-lg fifths-lg gutter-none row-car-grid equalize-heights no-mobile-equalize\"><div class=\"col col-lg col-1 col-lg-1 text-center height-item result-label hide-mobile\"><div class=\"vertical-center\"><div class=\"inner text-center\"><h3>Compact Car</h3></div></div></div><div style=\"height: 94px;\" class=\"col col-lg col-1 col-lg-1 text-center height-item test\"><a data-responsive-referrer=\"carMatrix\" data-category-id=\"3e8c15aa:15f316577f2:-69e1\" data-selected=\"false\" data-product-id=\"3e8c15aa:15f316577f2:-6d38\" data-price=\"215.84\" data-brand=\"Enterprise\" class=\"card car-result-card \"><div class=\"car-brand hide-desktop\"><img alt=\"Enterprise\" src=\"/content/shared/images/logos/car/logoEnterprise.png\"/></div><div class=\"car-info hide-desktop\"><h3>Compact Car</h3><h4 class=\"car-type hide-desktop\">\n",
      "\t\t\t\t\t\t\t\t\t\t                                    NISSAN VERSA  or similar\n",
      "\t\t\t\t\t\t\t\t\t\t                                    </h4></div><div class=\"car-capacity hide-desktop\"><div class=\"passenger\"><span class=\"capacity\">5</span></div></div><p class=\"car-price\"><span class=\"rounded-price\">$216</span></p></a></div><div style=\"height: 94px;\" class=\"col col-lg col-1 col-lg-1 text-center height-item test\"><a data-responsive-referrer=\"carMatrix\" data-category-id=\"3e8c15aa:15f316577f2:-69c7\" data-selected=\"false\" data-product-id=\"3e8c15aa:15f316577f2:-6d38\" data-price=\"207.12\" data-brand=\"Enterprise\" class=\"card car-result-card lowest-price\"><div class=\"car-brand hide-desktop\"><img alt=\"Enterprise\" src=\"/content/shared/images/logos/car/logoEnterprise.png\"/></div><div class=\"car-info hide-desktop\"><h3>Compact Car</h3><h4 class=\"car-type hide-desktop\">\n",
      "\t\t\t\t\t\t\t\t\t\t                                    NISSAN VERSA  or similar\n",
      "\t\t\t\t\t\t\t\t\t\t                                    </h4></div><div class=\"car-capacity hide-desktop\"><div class=\"passenger\"><span class=\"capacity\">5</span></div></div><p class=\"car-price\"><span class=\"rounded-price\">$207</span></p></a></div></div><div class=\"row full-width row-lg fifths-lg gutter-none row-car-grid equalize-heights no-mobile-equalize\"><div class=\"col col-lg col-1 col-lg-1 text-center height-item result-label hide-mobile\"><div class=\"vertical-center\"><div class=\"inner text-center\"><h3>Intermediate Car</h3></div></div></div><div style=\"height: 94px;\" class=\"col col-lg col-1 col-lg-1 text-center height-item test\"><a data-responsive-referrer=\"carMatrix\" data-category-id=\"3e8c15aa:15f316577f2:-69de\" data-selected=\"false\" data-product-id=\"3e8c15aa:15f316577f2:-6d38\" data-price=\"227.27\" data-brand=\"Enterprise\" class=\"card car-result-card \"><div class=\"car-brand hide-desktop\"><img alt=\"Enterprise\" src=\"/content/shared/images/logos/car/logoEnterprise.png\"/></div><div class=\"car-info hide-desktop\"><h3>Intermediate Car</h3><h4 class=\"car-type hide-desktop\">\n",
      "\t\t\t\t\t\t\t\t\t\t                                    HYUNDAI ELANTRA  or similar\n",
      "\t\t\t\t\t\t\t\t\t\t                                    </h4></div><div class=\"car-capacity hide-desktop\"><div class=\"passenger\"><span class=\"capacity\">5</span></div></div><p class=\"car-price\"><span class=\"rounded-price\">$227</span></p></a></div><div style=\"height: 94px;\" class=\"col col-lg col-1 col-lg-1 text-center height-item test\"><a data-responsive-referrer=\"carMatrix\" data-category-id=\"3e8c15aa:15f316577f2:-69c6\" data-selected=\"true\" data-product-id=\"3e8c15aa:15f316577f2:-6d38\" data-price=\"218.55\" data-brand=\"Enterprise\" class=\"card car-result-card lowest-price\"><div class=\"car-brand hide-desktop\"><img alt=\"Enterprise\" src=\"/content/shared/images/logos/car/logoEnterprise.png\"/></div><div class=\"car-info hide-desktop\"><h3>Intermediate Car</h3><h4 class=\"car-type hide-desktop\">\n",
      "\t\t\t\t\t\t\t\t\t\t                                    HYUNDAI ELANTRA  or similar\n",
      "\t\t\t\t\t\t\t\t\t\t                                    </h4></div><div class=\"car-capacity hide-desktop\"><div class=\"passenger\"><span class=\"capacity\">5</span></div></div><p class=\"car-price\"><span class=\"rounded-price\">$219</span></p></a></div></div><div class=\"row full-width row-lg fifths-lg gutter-none row-car-grid equalize-heights no-mobile-equalize\"><div class=\"col col-lg col-1 col-lg-1 text-center height-item result-label hide-mobile\"><div class=\"vertical-center\"><div class=\"inner text-center\"><h3>Standard Car</h3></div></div></div><div style=\"height: 94px;\" class=\"col col-lg col-1 col-lg-1 text-center height-item test\"><a data-responsive-referrer=\"carMatrix\" data-category-id=\"3e8c15aa:15f316577f2:-69db\" data-selected=\"false\" data-product-id=\"3e8c15aa:15f316577f2:-6d38\" data-price=\"238.7\" data-brand=\"Enterprise\" class=\"card car-result-card \"><div class=\"car-brand hide-desktop\"><img alt=\"Enterprise\" src=\"/content/shared/images/logos/car/logoEnterprise.png\"/></div><div class=\"car-info hide-desktop\"><h3>Standard Car</h3><h4 class=\"car-type hide-desktop\">\n",
      "\t\t\t\t\t\t\t\t\t\t                                    BUICK VERANO  or similar\n",
      "\t\t\t\t\t\t\t\t\t\t                                    </h4></div><div class=\"car-capacity hide-desktop\"><div class=\"passenger\"><span class=\"capacity\">5</span></div></div><p class=\"car-price\"><span class=\"rounded-price\">$239</span></p></a></div><div style=\"height: 94px;\" class=\"col col-lg col-1 col-lg-1 text-center height-item test\"><a data-responsive-referrer=\"carMatrix\" data-category-id=\"3e8c15aa:15f316577f2:-69c5\" data-selected=\"false\" data-product-id=\"3e8c15aa:15f316577f2:-6d38\" data-price=\"229.99\" data-brand=\"Enterprise\" class=\"card car-result-card lowest-price\"><div class=\"car-brand hide-desktop\"><img alt=\"Enterprise\" src=\"/content/shared/images/logos/car/logoEnterprise.png\"/></div><div class=\"car-info hide-desktop\"><h3>Standard Car</h3><h4 class=\"car-type hide-desktop\">\n",
      "\t\t\t\t\t\t\t\t\t\t                                    BUICK VERANO  or similar\n",
      "\t\t\t\t\t\t\t\t\t\t                                    </h4></div><div class=\"car-capacity hide-desktop\"><div class=\"passenger\"><span class=\"capacity\">5</span></div></div><p class=\"car-price\"><span class=\"rounded-price\">$230</span></p></a></div></div><div class=\"row full-width row-lg fifths-lg gutter-none row-car-grid equalize-heights no-mobile-equalize\"><div class=\"col col-lg col-1 col-lg-1 text-center height-item result-label hide-mobile\"><div class=\"vertical-center\"><div class=\"inner text-center\"><h3>Fullsize Car</h3></div></div></div><div style=\"height: 94px;\" class=\"col col-lg col-1 col-lg-1 text-center height-item test\"><a data-responsive-referrer=\"carMatrix\" data-category-id=\"3e8c15aa:15f316577f2:-69e2\" data-selected=\"false\" data-product-id=\"3e8c15aa:15f316577f2:-6d38\" data-price=\"244.16\" data-brand=\"Enterprise\" class=\"card car-result-card \"><div class=\"car-brand hide-desktop\"><img alt=\"Enterprise\" src=\"/content/shared/images/logos/car/logoEnterprise.png\"/></div><div class=\"car-info hide-desktop\"><h3>Fullsize Car</h3><h4 class=\"car-type hide-desktop\">\n",
      "\t\t\t\t\t\t\t\t\t\t                                    NISSAN ALTIMA  or similar\n",
      "\t\t\t\t\t\t\t\t\t\t                                    </h4></div><div class=\"car-capacity hide-desktop\"><div class=\"passenger\"><span class=\"capacity\">5</span></div></div><p class=\"car-price\"><span class=\"rounded-price\">$244</span></p></a></div><div style=\"height: 94px;\" class=\"col col-lg col-1 col-lg-1 text-center height-item test\"><a data-responsive-referrer=\"carMatrix\" data-category-id=\"3e8c15aa:15f316577f2:-69e3\" data-selected=\"false\" data-product-id=\"3e8c15aa:15f316577f2:-6d38\" data-price=\"235.44\" data-brand=\"Enterprise\" class=\"card car-result-card lowest-price\"><div class=\"car-brand hide-desktop\"><img alt=\"Enterprise\" src=\"/content/shared/images/logos/car/logoEnterprise.png\"/></div><div class=\"car-info hide-desktop\"><h3>Fullsize Car</h3><h4 class=\"car-type hide-desktop\">\n",
      "\t\t\t\t\t\t\t\t\t\t                                    NISSAN ALTIMA  or similar\n",
      "\t\t\t\t\t\t\t\t\t\t                                    </h4></div><div class=\"car-capacity hide-desktop\"><div class=\"passenger\"><span class=\"capacity\">5</span></div></div><p class=\"car-price\"><span class=\"rounded-price\">$235</span></p></a></div></div><div class=\"row full-width row-lg fifths-lg gutter-none row-car-grid equalize-heights no-mobile-equalize\"><div class=\"col col-lg col-1 col-lg-1 text-center height-item result-label hide-mobile\"><div class=\"vertical-center\"><div class=\"inner text-center\"><h3>Premium Car</h3></div></div></div><div style=\"height: 94px;\" class=\"col col-lg col-1 col-lg-1 text-center height-item test\"><div class=\"vertical-center hide-mobile\"><div class=\"inner text-center\"><span class=\"muted\">Not Available</span></div></div></div><div style=\"height: 94px;\" class=\"col col-lg col-1 col-lg-1 text-center height-item test\"><div class=\"vertical-center hide-mobile\"><div class=\"inner text-center\"><span class=\"muted\">Not Available</span></div></div></div></div><div class=\"row full-width row-lg fifths-lg gutter-none row-car-grid equalize-heights no-mobile-equalize\"><div class=\"col col-lg col-1 col-lg-1 text-center height-item result-label hide-mobile\"><div class=\"vertical-center\"><div class=\"inner text-center\"><h3>Intermediate SUV</h3></div></div></div><div style=\"height: 94px;\" class=\"col col-lg col-1 col-lg-1 text-center height-item test\"><a data-responsive-referrer=\"carMatrix\" data-category-id=\"3e8c15aa:15f316577f2:-69d7\" data-selected=\"false\" data-product-id=\"3e8c15aa:15f316577f2:-6d38\" data-price=\"353.06\" data-brand=\"Enterprise\" class=\"card car-result-card \"><div class=\"car-brand hide-desktop\"><img alt=\"Enterprise\" src=\"/content/shared/images/logos/car/logoEnterprise.png\"/></div><div class=\"car-info hide-desktop\"><h3>Intermediate SUV</h3><h4 class=\"car-type hide-desktop\">\n",
      "\t\t\t\t\t\t\t\t\t\t                                    NISSAN ROGUE  or similar\n",
      "\t\t\t\t\t\t\t\t\t\t                                    </h4></div><div class=\"car-capacity hide-desktop\"><div class=\"passenger\"><span class=\"capacity\">5</span></div></div><p class=\"car-price\"><span class=\"rounded-price\">$353</span></p></a></div><div style=\"height: 94px;\" class=\"col col-lg col-1 col-lg-1 text-center height-item test\"><a data-responsive-referrer=\"carMatrix\" data-category-id=\"3e8c15aa:15f316577f2:-69d9\" data-selected=\"false\" data-product-id=\"3e8c15aa:15f316577f2:-6d38\" data-price=\"344.34000000000003\" data-brand=\"Enterprise\" class=\"card car-result-card lowest-price\"><div class=\"car-brand hide-desktop\"><img alt=\"Enterprise\" src=\"/content/shared/images/logos/car/logoEnterprise.png\"/></div><div class=\"car-info hide-desktop\"><h3>Intermediate SUV</h3><h4 class=\"car-type hide-desktop\">\n",
      "\t\t\t\t\t\t\t\t\t\t                                    NISSAN ROGUE  or similar\n",
      "\t\t\t\t\t\t\t\t\t\t                                    </h4></div><div class=\"car-capacity hide-desktop\"><div class=\"passenger\"><span class=\"capacity\">5</span></div></div><p class=\"car-price\"><span class=\"rounded-price\">$344</span></p></a></div></div><div class=\"row full-width row-lg fifths-lg gutter-none row-car-grid equalize-heights no-mobile-equalize\"><div class=\"col col-lg col-1 col-lg-1 text-center height-item result-label hide-mobile\"><div class=\"vertical-center\"><div class=\"inner text-center\"><h3>Standard SUV</h3></div></div></div><div style=\"height: 94px;\" class=\"col col-lg col-1 col-lg-1 text-center height-item test\"><a data-responsive-referrer=\"carMatrix\" data-category-id=\"3e8c15aa:15f316577f2:-69ce\" data-selected=\"false\" data-product-id=\"3e8c15aa:15f316577f2:-6d38\" data-price=\"407.51\" data-brand=\"Enterprise\" class=\"card car-result-card \"><div class=\"car-brand hide-desktop\"><img alt=\"Enterprise\" src=\"/content/shared/images/logos/car/logoEnterprise.png\"/></div><div class=\"car-info hide-desktop\"><h3>Standard SUV</h3><h4 class=\"car-type hide-desktop\">\n",
      "\t\t\t\t\t\t\t\t\t\t                                    HYUNDAI SANTA FE  or similar\n",
      "\t\t\t\t\t\t\t\t\t\t                                    </h4></div><div class=\"car-capacity hide-desktop\"><div class=\"passenger\"><span class=\"capacity\">5</span></div></div><p class=\"car-price\"><span class=\"rounded-price\">$408</span></p></a></div><div style=\"height: 94px;\" class=\"col col-lg col-1 col-lg-1 text-center height-item test\"><a data-responsive-referrer=\"carMatrix\" data-category-id=\"3e8c15aa:15f316577f2:-69d2\" data-selected=\"false\" data-product-id=\"3e8c15aa:15f316577f2:-6d38\" data-price=\"398.79\" data-brand=\"Enterprise\" class=\"card car-result-card lowest-price\"><div class=\"car-brand hide-desktop\"><img alt=\"Enterprise\" src=\"/content/shared/images/logos/car/logoEnterprise.png\"/></div><div class=\"car-info hide-desktop\"><h3>Standard SUV</h3><h4 class=\"car-type hide-desktop\">\n",
      "\t\t\t\t\t\t\t\t\t\t                                    HYUNDAI SANTA FE  or similar\n",
      "\t\t\t\t\t\t\t\t\t\t                                    </h4></div><div class=\"car-capacity hide-desktop\"><div class=\"passenger\"><span class=\"capacity\">5</span></div></div><p class=\"car-price\"><span class=\"rounded-price\">$399</span></p></a></div></div><div class=\"row full-width row-lg fifths-lg gutter-none row-car-grid equalize-heights no-mobile-equalize\"><div class=\"col col-lg col-1 col-lg-1 text-center height-item result-label hide-mobile\"><div class=\"vertical-center\"><div class=\"inner text-center\"><h3>Mini Van</h3></div></div></div><div style=\"height: 94px;\" class=\"col col-lg col-1 col-lg-1 text-center height-item test\"><a data-responsive-referrer=\"carMatrix\" data-category-id=\"3e8c15aa:15f316577f2:-69df\" data-selected=\"false\" data-product-id=\"3e8c15aa:15f316577f2:-6d38\" data-price=\"625.31\" data-brand=\"Enterprise\" class=\"card car-result-card \"><div class=\"car-brand hide-desktop\"><img alt=\"Enterprise\" src=\"/content/shared/images/logos/car/logoEnterprise.png\"/></div><div class=\"car-info hide-desktop\"><h3>Mini Van</h3><h4 class=\"car-type hide-desktop\">\n",
      "\t\t\t\t\t\t\t\t\t\t                                    DODGE G CARAVAN  or similar\n",
      "\t\t\t\t\t\t\t\t\t\t                                    </h4></div><div class=\"car-capacity hide-desktop\"><div class=\"passenger\"><span class=\"capacity\">7</span></div></div><p class=\"car-price\"><span class=\"rounded-price\">$625</span></p></a></div><div style=\"height: 94px;\" class=\"col col-lg col-1 col-lg-1 text-center height-item test\"><a data-responsive-referrer=\"carMatrix\" data-category-id=\"3e8c15aa:15f316577f2:-69e0\" data-selected=\"false\" data-product-id=\"3e8c15aa:15f316577f2:-6d38\" data-price=\"616.59\" data-brand=\"Enterprise\" class=\"card car-result-card lowest-price\"><div class=\"car-brand hide-desktop\"><img alt=\"Enterprise\" src=\"/content/shared/images/logos/car/logoEnterprise.png\"/></div><div class=\"car-info hide-desktop\"><h3>Mini Van</h3><h4 class=\"car-type hide-desktop\">\n",
      "\t\t\t\t\t\t\t\t\t\t                                    DODGE G CARAVAN  or similar\n",
      "\t\t\t\t\t\t\t\t\t\t                                    </h4></div><div class=\"car-capacity hide-desktop\"><div class=\"passenger\"><span class=\"capacity\">7</span></div></div><p class=\"car-price\"><span class=\"rounded-price\">$617</span></p></a></div></div><div class=\"row full-width row-lg fifths-lg gutter-none row-car-grid equalize-heights no-mobile-equalize\"><div class=\"col col-lg col-1 col-lg-1 text-center height-item result-label hide-mobile\"><div class=\"vertical-center\"><div class=\"inner text-center\"><h3>Fullsize SUV</h3></div></div></div><div style=\"height: 94px;\" class=\"col col-lg col-1 col-lg-1 text-center height-item test\"><a data-responsive-referrer=\"carMatrix\" data-category-id=\"3e8c15aa:15f316577f2:-69cc\" data-selected=\"false\" data-product-id=\"3e8c15aa:15f316577f2:-6d38\" data-price=\"709.14\" data-brand=\"Enterprise\" class=\"card car-result-card lowest-price\"><div class=\"car-brand hide-desktop\"><img alt=\"Enterprise\" src=\"/content/shared/images/logos/car/logoEnterprise.png\"/></div><div class=\"car-info hide-desktop\"><h3>Fullsize SUV</h3><h4 class=\"car-type hide-desktop\">\n",
      "\t\t\t\t\t\t\t\t\t\t                                    CHEVY TAHOE  or similar\n",
      "\t\t\t\t\t\t\t\t\t\t                                    </h4></div><div class=\"car-capacity hide-desktop\"><div class=\"passenger\"><span class=\"capacity\">7</span></div></div><p class=\"car-price\"><span class=\"rounded-price\">$709</span></p></a></div><div style=\"height: 94px;\" class=\"col col-lg col-1 col-lg-1 text-center height-item test\"><a data-responsive-referrer=\"carMatrix\" data-category-id=\"3e8c15aa:15f316577f2:-69cd\" data-selected=\"false\" data-product-id=\"3e8c15aa:15f316577f2:-6d38\" data-price=\"709.14\" data-brand=\"Enterprise\" class=\"card car-result-card \"><div class=\"car-brand hide-desktop\"><img alt=\"Enterprise\" src=\"/content/shared/images/logos/car/logoEnterprise.png\"/></div><div class=\"car-info hide-desktop\"><h3>Fullsize SUV</h3><h4 class=\"car-type hide-desktop\">\n",
      "\t\t\t\t\t\t\t\t\t\t                                    CHEVY TAHOE  or similar\n",
      "\t\t\t\t\t\t\t\t\t\t                                    </h4></div><div class=\"car-capacity hide-desktop\"><div class=\"passenger\"><span class=\"capacity\">7</span></div></div><p class=\"car-price\"><span class=\"rounded-price\">$709</span></p></a></div></div><div class=\"row full-width row-lg fifths-lg gutter-none row-car-grid equalize-heights no-mobile-equalize\"><div class=\"col col-lg col-1 col-lg-1 text-center height-item result-label hide-mobile\"><div class=\"vertical-center\"><div class=\"inner text-center\"><h3>Standard Convertible</h3></div></div></div><div style=\"height: 94px;\" class=\"col col-lg col-1 col-lg-1 text-center height-item test\"><div class=\"vertical-center hide-mobile\"><div class=\"inner text-center\"><span class=\"muted\">Not Available</span></div></div></div><div style=\"height: 94px;\" class=\"col col-lg col-1 col-lg-1 text-center height-item test\"><div class=\"vertical-center hide-mobile\"><div class=\"inner text-center\"><span class=\"muted\">Not Available</span></div></div></div></div><div class=\"row full-width row-lg fifths-lg gutter-none row-car-grid equalize-heights no-mobile-equalize\"><div class=\"col col-lg col-1 col-lg-1 text-center height-item result-label hide-mobile\"><div class=\"vertical-center\"><div class=\"inner text-center\"><h3>Premium SUV</h3></div></div></div><div style=\"height: 94px;\" class=\"col col-lg col-1 col-lg-1 text-center height-item test\"><div class=\"vertical-center hide-mobile\"><div class=\"inner text-center\"><span class=\"muted\">Not Available</span></div></div></div><div style=\"height: 94px;\" class=\"col col-lg col-1 col-lg-1 text-center height-item test\"><div class=\"vertical-center hide-mobile\"><div class=\"inner text-center\"><span class=\"muted\">Not Available</span></div></div></div></div><div class=\"row full-width row-lg fifths-lg gutter-none row-car-grid equalize-heights no-mobile-equalize\"><div class=\"col col-lg col-1 col-lg-1 text-center height-item result-label hide-mobile\"><div class=\"vertical-center\"><div class=\"inner text-center\"><h3>Fullsize Van</h3></div></div></div><div style=\"height: 94px;\" class=\"col col-lg col-1 col-lg-1 text-center height-item test\"><a data-responsive-referrer=\"carMatrix\" data-category-id=\"3e8c15aa:15f316577f2:-69dc\" data-selected=\"false\" data-product-id=\"3e8c15aa:15f316577f2:-6d38\" data-price=\"913.8800000000001\" data-brand=\"Enterprise\" class=\"card car-result-card \"><div class=\"car-brand hide-desktop\"><img alt=\"Enterprise\" src=\"/content/shared/images/logos/car/logoEnterprise.png\"/></div><div class=\"car-info hide-desktop\"><h3>Fullsize Van</h3><h4 class=\"car-type hide-desktop\">\n",
      "\t\t\t\t\t\t\t\t\t\t                                    FORD TRANSIT  or similar\n",
      "\t\t\t\t\t\t\t\t\t\t                                    </h4></div><div class=\"car-capacity hide-desktop\"><div class=\"passenger\"><span class=\"capacity\">15</span></div></div><p class=\"car-price\"><span class=\"rounded-price\">$914</span></p></a></div><div style=\"height: 94px;\" class=\"col col-lg col-1 col-lg-1 text-center height-item test\"><a data-responsive-referrer=\"carMatrix\" data-category-id=\"3e8c15aa:15f316577f2:-69dd\" data-selected=\"false\" data-product-id=\"3e8c15aa:15f316577f2:-6d38\" data-price=\"905.17\" data-brand=\"Enterprise\" class=\"card car-result-card lowest-price\"><div class=\"car-brand hide-desktop\"><img alt=\"Enterprise\" src=\"/content/shared/images/logos/car/logoEnterprise.png\"/></div><div class=\"car-info hide-desktop\"><h3>Fullsize Van</h3><h4 class=\"car-type hide-desktop\">\n",
      "\t\t\t\t\t\t\t\t\t\t                                    FORD TRANSIT  or similar\n",
      "\t\t\t\t\t\t\t\t\t\t                                    </h4></div><div class=\"car-capacity hide-desktop\"><div class=\"passenger\"><span class=\"capacity\">15</span></div></div><p class=\"car-price\"><span class=\"rounded-price\">$905</span></p></a></div></div></div><div class=\"back-row\"><a data-hook=\"go_back\" class=\"arrow-left\">Back</a></div><div class=\"separator p10\"><img alt=\" \" src=\"/shared/images/spacer.gif\"/></div><div><p>Prices are in U.S. dollars (unless specified otherwise), include taxes and fees on the rental portion only, are valid for travel as specified and are available to Costco members residing in the United States. Renter is responsible for any increases in government taxes/fees at the time of rental.</p><p>Vehicle make and model may vary and are not guaranteed. The maximum vehicle occupancy is based on the number of seatbelts installed by the manufacturer. Additional terms and conditions apply for each rental company and offer.</p><p>All car rentals are subject to the rules and regulations of the car rental company. Cars are available for rental to individuals 25 years or older (exceptions apply) holding a valid driver's license. An additional surcharge may be added for drivers less than 25 years of age. See full terms and conditions.</p></div></div></div><div class=\"page-grid mobile-grid hide-desktop\"><div class=\"car-sorting\"><div class=\"bound\"><label for=\"result_sort_by\">Show By:</label><div data-hook=\"results_sorter\" id=\"results_sorter\" class=\"select-widget small-select\"><select name=\"result_sort_by\" id=\"result_sort_by\"><option selected=\"true\" value=\"\">Lowest Price</option></select></div></div></div><div data-hook=\"mobile_grid\" class=\"mobile-grid-container\">&nbsp;</div></div></div></div><script id=\"terms_and_conditions\" data-hook=\"terms_and_conditions\" type=\"text/template\"><div class=\"box-shadow-modal\"><div id=\"carMatrixTermsConditionsPopupTitleDiv\" class=\"modal-title\"><h2>Terms & Conditions</h2><button id=\"closeTermsConditionsPopupButton\" data-hook=\"modal-close\" class=\"modal-close\"/></div><div id=\"matrixTermsAndConditionsContent\" class=\"modal-body offwhite\" data-hook=\"matrixTermsAndConditionsContent\"/></div></script><script id=\"modal_geographic_restrictions\" data-hook=\"modal_geographic_restrictions\" type=\"text/template\"><div class=\"box-shadow-modal\"><div id=\"carMatrixGeographicRestrictionsPopupTitleDiv\" class=\"modal-title\"><h2>Geographic Restrictions</h2><button id=\"closeGeographicRstrictionsPopup\" data-hook=\"modal-close\" class=\"modal-close\"/></div><div id=\"matrixGeographicRestrictionsContent\" class=\"modal-body offwhite\" data-hook=\"matrixGeographicRestrictionsContent\"/></div></script><script id=\"modal_additional_driver\" data-hook=\"modal_additional_driver\" type=\"text/template\"><div class=\"box-shadow-modal\"><div id=\"carMatrixAdditionalDriverPopup\" class=\"modal-title\"><h2>Additional Driver Included</h2><button id=\"closeAdditionalDriverPopup\" data-hook=\"modal-close\" class=\"modal-close\"/></div><div id=\"matrixAdditionalDriverContent\" class=\"modal-body offwhite\" data-hook=\"matrixAdditionalDriverContent\"/></div></script><script id=\"modal_costco_cash_card\" data-hook=\"modal_costco_cash_card\" type=\"text/template\"><div class=\"box-shadow-modal\"><div id=\"carMatrixCostcoCashCardPopup\" class=\"modal-title\"><h2>Includes Costco Cash Card</h2><button id=\"closeCostcoCashCardPopup\" data-hook=\"modal-close\" class=\"modal-close\"/></div><div id=\"matrixCostcoCashCardContent\" class=\"modal-body offwhite\" data-hook=\"matrixCostcoCashCardContent\"/></div></script><script>\n",
      "\t\n",
      "\tvar CT = CT || {};\n",
      "\tCT.View = CT.View || {};\n",
      "\t( function($namespace, $arguments) {\n",
      "\t\t\n",
      "    $(document).ready(function(){\n",
      "\t\t\t$namespace.Modules.activate($namespace.RentalCarMatrixModule,{});\t\t\t\n",
      "    });\t\t\n",
      "\n",
      "\t})(CT, {});\n",
      "\t\t\n",
      "\t</script>\n",
      "0 []\n"
     ]
    },
    {
     "ename": "IndexError",
     "evalue": "list index out of range",
     "output_type": "error",
     "traceback": [
      "\u001b[1;31m---------------------------------------------------------------------------\u001b[0m",
      "\u001b[1;31mIndexError\u001b[0m                                Traceback (most recent call last)",
      "\u001b[1;32m<ipython-input-4-106c247349e6>\u001b[0m in \u001b[0;36m<module>\u001b[1;34m()\u001b[0m\n\u001b[1;32m----> 1\u001b[1;33m \u001b[0mresults\u001b[0m \u001b[1;33m=\u001b[0m \u001b[0mrunparser\u001b[0m\u001b[1;33m(\u001b[0m\u001b[1;33m)\u001b[0m\u001b[1;33m\u001b[0m\u001b[0m\n\u001b[0m\u001b[0;32m      2\u001b[0m \u001b[0mprint\u001b[0m\u001b[1;33m(\u001b[0m\u001b[0mresults\u001b[0m\u001b[1;33m)\u001b[0m\u001b[1;33m\u001b[0m\u001b[0m\n",
      "\u001b[1;32m<ipython-input-3-efe1699ef5d5>\u001b[0m in \u001b[0;36mrunparser\u001b[1;34m(threads)\u001b[0m\n\u001b[0;32m      3\u001b[0m     \u001b[0mloop\u001b[0m \u001b[1;33m=\u001b[0m \u001b[0masyncio\u001b[0m\u001b[1;33m.\u001b[0m\u001b[0mnew_event_loop\u001b[0m\u001b[1;33m(\u001b[0m\u001b[1;33m)\u001b[0m\u001b[1;33m\u001b[0m\u001b[0m\n\u001b[0;32m      4\u001b[0m     \u001b[0masyncio\u001b[0m\u001b[1;33m.\u001b[0m\u001b[0mset_event_loop\u001b[0m\u001b[1;33m(\u001b[0m\u001b[0mloop\u001b[0m\u001b[1;33m)\u001b[0m\u001b[1;33m\u001b[0m\u001b[0m\n\u001b[1;32m----> 5\u001b[1;33m     \u001b[0mrest\u001b[0m \u001b[1;33m=\u001b[0m \u001b[0mgetpriceasync\u001b[0m\u001b[1;33m(\u001b[0m\u001b[1;36m1\u001b[0m\u001b[1;33m)\u001b[0m\u001b[1;33m\u001b[0m\u001b[0m\n\u001b[0m\u001b[0;32m      6\u001b[0m     \u001b[0mnum\u001b[0m\u001b[1;33m,\u001b[0m \u001b[0mresult\u001b[0m\u001b[1;33m,\u001b[0m \u001b[0mnumtot\u001b[0m \u001b[1;33m=\u001b[0m \u001b[0mrest\u001b[0m\u001b[1;33m\u001b[0m\u001b[0m\n\u001b[0;32m      7\u001b[0m     \u001b[0mresultstemp\u001b[0m\u001b[1;33m[\u001b[0m\u001b[0mnum\u001b[0m\u001b[1;33m]\u001b[0m \u001b[1;33m=\u001b[0m \u001b[0mresult\u001b[0m\u001b[1;33m\u001b[0m\u001b[0m\n",
      "\u001b[1;32m<ipython-input-3-46ee98467d77>\u001b[0m in \u001b[0;36mgetpriceasync\u001b[1;34m(num)\u001b[0m\n\u001b[0;32m     41\u001b[0m \u001b[1;33m\u001b[0m\u001b[0m\n\u001b[0;32m     42\u001b[0m     \u001b[0mresults\u001b[0m \u001b[1;33m=\u001b[0m \u001b[0mdict\u001b[0m\u001b[1;33m(\u001b[0m\u001b[1;33m)\u001b[0m\u001b[1;33m\u001b[0m\u001b[0m\n\u001b[1;32m---> 43\u001b[1;33m     \u001b[0mtp\u001b[0m \u001b[1;33m=\u001b[0m \u001b[0mres\u001b[0m\u001b[1;33m[\u001b[0m\u001b[0mnum\u001b[0m\u001b[1;33m-\u001b[0m\u001b[1;36m1\u001b[0m\u001b[1;33m]\u001b[0m\u001b[1;33m\u001b[0m\u001b[0m\n\u001b[0m\u001b[0;32m     44\u001b[0m     \u001b[1;32massert\u001b[0m \u001b[0mnum\u001b[0m \u001b[1;33m==\u001b[0m \u001b[0mint\u001b[0m\u001b[1;33m(\u001b[0m\u001b[0mtp\u001b[0m\u001b[1;33m[\u001b[0m\u001b[1;36m0\u001b[0m\u001b[1;33m]\u001b[0m\u001b[1;33m)\u001b[0m\u001b[1;33m\u001b[0m\u001b[0m\n\u001b[0;32m     45\u001b[0m     results[int(tp[0])] = {'type':tp[1],'brand':tp[2],'code':tp[3],'name':tp[4],'bcode':tp[5],'addr':tp[6],\n",
      "\u001b[1;31mIndexError\u001b[0m: list index out of range"
     ]
    }
   ],
   "source": [
    "results = runparser()\n",
    "print(results)"
   ]
  },
  {
   "cell_type": "code",
   "execution_count": null,
   "metadata": {
    "collapsed": true
   },
   "outputs": [],
   "source": [
    "getGDistance()"
   ]
  },
  {
   "cell_type": "code",
   "execution_count": null,
   "metadata": {
    "collapsed": true
   },
   "outputs": [],
   "source": [
    "car1 = 'Economy Car'\n",
    "car2 = 'Compact Car'\n",
    "car3 = 'Intermediate Car'\n",
    "car4 = 'Intermediate SUV'\n",
    "desiredcar = car2\n",
    "\n",
    "results2 = dict()\n",
    "for k,v in results.items():\n",
    "    #print(v)\n",
    "    if desiredcar in v:\n",
    "        results2[k] = v\n",
    "order = np.array([x[desiredcar] for x in results2.values()]).argsort()\n",
    "order = np.array([x[desiredcar] for x in results2.values() if desiredcar in x]).argsort()"
   ]
  },
  {
   "cell_type": "code",
   "execution_count": null,
   "metadata": {
    "scrolled": false
   },
   "outputs": [],
   "source": [
    "brands = np.array([x['brand'] for x in results2.values()])[order]\n",
    "nums = np.array([x for x in results2.keys()])[order]\n",
    "titles = np.array([x['name'] for x in results2.values()])[order]\n",
    "prices = np.array([x[desiredcar] for x in results2.values()])[order]\n",
    "prices2 = np.array([x[car2] for x in results2.values()])[order]\n",
    "prices3 = np.array([x[car3] for x in results2.values()])[order]\n",
    "distances = np.array([x['dist'] for x in results2.values()])[order]\n",
    "\n",
    "print(data['pickupDate'],data['pickupTime'],data['dropoffDate'],data['dropoffTime'],desiredcar,car2,car3)\n",
    "for k in zip(nums,prices,prices2,prices3,brands,titles,distances):\n",
    "    #print(k)\n",
    "    print('{:03d} | {:5.2f} | {:7.2f} | {:7.2f} | {:7.2f} | {:12s} | {}'.format(k[0],float(k[6]),k[1],k[2],k[3],str(k[4]),k[5]))"
   ]
  },
  {
   "cell_type": "code",
   "execution_count": null,
   "metadata": {
    "collapsed": true
   },
   "outputs": [],
   "source": []
  }
 ],
 "metadata": {
  "kernelspec": {
   "display_name": "Python 3",
   "language": "python",
   "name": "python3"
  },
  "language_info": {
   "codemirror_mode": {
    "name": "ipython",
    "version": 3
   },
   "file_extension": ".py",
   "mimetype": "text/x-python",
   "name": "python",
   "nbconvert_exporter": "python",
   "pygments_lexer": "ipython3",
   "version": "3.6.1"
  }
 },
 "nbformat": 4,
 "nbformat_minor": 2
}
