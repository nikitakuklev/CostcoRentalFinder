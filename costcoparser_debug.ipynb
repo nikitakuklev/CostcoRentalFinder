{
 "cells": [
  {
   "cell_type": "code",
   "execution_count": 12,
   "metadata": {
    "collapsed": true
   },
   "outputs": [],
   "source": [
    "import requests,re,time,numpy as np,pickle,asyncio,concurrent.futures"
   ]
  },
  {
   "cell_type": "code",
   "execution_count": 13,
   "metadata": {
    "collapsed": true
   },
   "outputs": [],
   "source": [
    "# Setup relevant variables\n",
    "ZIP = '60615'\n",
    "pickupDate = '10/16/2017'\n",
    "dropoffDate = '10/23/2017'\n",
    "TIME = '9:00 AM'\n",
    "RADIUS = '15'"
   ]
  },
  {
   "cell_type": "code",
   "execution_count": 28,
   "metadata": {},
   "outputs": [],
   "source": [
    "%run core_functions_debug.ipynb"
   ]
  },
  {
   "cell_type": "code",
   "execution_count": 29,
   "metadata": {},
   "outputs": [
    {
     "name": "stdout",
     "output_type": "stream",
     "text": [
      "001 OK      | ('1', 'city', 'enterprise', 'E11586', 'Gg Hyde Park', 'ET', '0.95')\n",
      "003 OK      | ('3', 'city', 'avis', 'CHIC05', 'Chicago - 18th Street & Wabash Avenue', 'AV', '4.05')\n",
      "004 OK      | ('4', 'city', 'budget', 'CHIC02', 'Chicago', 'BG', '4.05')\n",
      "002 OK      | ('2', 'city', 'enterprise', 'E11576', 'Gg South Loop', 'ET', '3.17')\n",
      "006 NO DATA | ('6', 'city', 'enterprise', 'E115UG', 'Uber Southside', 'ET', '4.20')\n",
      "005 OK      | ('5', 'city', 'enterprise', 'E115DN', 'Gg South Western', 'ET', '4.19')\n",
      "007 OK      | ('7', 'city', 'budget', 'CHIC08', 'Chicago', 'BG', '5.11')\n",
      "008 OK      | ('8', 'city', 'enterprise', 'E11530', 'Gg Stony Island', 'ET', '5.17')\n",
      "009 OK      | ('9', 'city', 'enterprise', 'E115DA', 'Gg Gresham', 'ET', '5.57')\n",
      "010 OK      | ('10', 'city', 'avis', 'CHIX01', 'Chicago Union Train Station', 'AV', '5.71')\n",
      "011 OK      | ('11', 'city', 'budget', 'CHIX01', 'Chicago Union Train Station', 'BG', '5.71')\n",
      "012 OK      | ('12', 'city', 'enterprise', 'E115CE', 'Chicago Loop', 'ET', '5.82')\n",
      "013 OK      | ('13', 'city', 'enterprise', 'E115CD', 'Dd West Loop A/b(ex15ca)', 'ET', '5.84')\n",
      "014 OK      | ('14', 'city', 'enterprise', 'E11555', 'Union Station/pres Tower', 'ET', '5.93')\n",
      "015 OK      | ('15', 'city', 'enterprise', 'E115KB', 'Millennium Park', 'ET', '5.93')\n",
      "016 OK      | ('16', 'city', 'avis', 'CHIC01', 'North Loop-downtown', 'AV', '6.05')\n",
      "017 OK      | ('17', 'city', 'budget', 'CHIC09', 'North Loop Budget', 'BG', '6.05')\n",
      "018 OK      | ('18', 'city', 'alamo', 'CHIC72', 'Chicago N Lasalle', 'AL', '6.07')\n",
      "019 OK      | ('19', 'city', 'enterprise', 'E115CA', 'Lake And Franklin', 'ET', '6.09')\n",
      "{1: {'type': 'city', 'brand': 'enterprise', 'code': 'E11586', 'name': 'Gg Hyde Park', 'bcode': 'ET', 'dist': '0.95', 'Economy Car': 215.3, 'Compact Car': 215.33, 'Intermediate Car': 219.69, 'Standard Car': 240.27999999999997, 'Fullsize Car': 245.72, 'Intermediate SUV': 398.18, 'Standard SUV': 474.40999999999997, 'Mini Van': 621.43, 'Fullsize SUV': 710.71, 'Fullsize Van': 915.46}, 10: {'type': 'city', 'brand': 'avis', 'code': 'CHIX01', 'name': 'Chicago Union Train Station', 'bcode': 'AV', 'dist': '5.71', 'Economy Car': 194.52, 'Compact Car': 194.52, 'Intermediate Car': 193.11999999999998, 'Standard Car': 202.14999999999998, 'Fullsize Car': 206.66000000000003, 'Premium Car': 403.49, 'Intermediate SUV': 308.75, 'Standard SUV': 435.07000000000005, 'Mini Van': 587.71, 'Fullsize SUV': 765.12, 'Standard Convertible': 890.39, 'Luxury Car': 529.81, 'Premium SUV': 4237.93, 'Fullsize Van': 795.6500000000001}, 8: {'type': 'city', 'brand': 'enterprise', 'code': 'E11530', 'name': 'Gg Stony Island', 'bcode': 'ET', 'dist': '5.17', 'Economy Car': 198.84, 'Compact Car': 198.88, 'Intermediate Car': 209.77, 'Standard Car': 220.66000000000003, 'Fullsize Car': 231.55, 'Intermediate SUV': 384.01, 'Standard SUV': 460.24, 'Mini Van': 504.64}, 7: {'type': 'city', 'brand': 'budget', 'code': 'CHIC08', 'name': 'Chicago', 'bcode': 'BG', 'dist': '5.11', 'Economy Car': 203.48, 'Compact Car': 203.48, 'Intermediate Car': 211.17000000000002, 'Standard Car': 220.19, 'Fullsize Car': 224.70000000000002, 'Premium Car': 538.74, 'Intermediate SUV': 329.8, 'Standard SUV': 456.12, 'Mini Van': 682.4699999999999, 'Fullsize SUV': 1119.08, 'Standard Convertible': 837.4000000000001, 'Luxury Car': 837.4000000000001, 'Premium SUV': 1154.29, 'Fullsize Van': 1154.29}, 14: {'type': 'city', 'brand': 'enterprise', 'code': 'E11555', 'name': 'Union Station/pres Tower', 'bcode': 'ET', 'dist': '5.93', 'Economy Car': 208.66, 'Compact Car': 208.69, 'Intermediate Car': 219.57999999999998, 'Standard Car': 230.47, 'Fullsize Car': 263.14, 'Premium Car': 502.72, 'Intermediate SUV': 246.81, 'Standard SUV': 339.37, 'Mini Van': 618.15, 'Fullsize SUV': 622.51, 'Luxury Car': 557.1700000000001}, 11: {'type': 'city', 'brand': 'budget', 'code': 'CHIX01', 'name': 'Chicago Union Train Station', 'bcode': 'BG', 'dist': '5.71', 'Economy Car': 202.12, 'Compact Car': 202.12, 'Intermediate Car': 202.24, 'Standard Car': 212.14999999999998, 'Fullsize Car': 217.14, 'Premium Car': 431.99, 'Intermediate SUV': 327.77, 'Standard SUV': 466.71999999999997, 'Mini Van': 646.2, 'Fullsize SUV': 718.61, 'Standard Convertible': 920.86, 'Premium SUV': 811.25, 'Fullsize Van': 869.15}, 18: {'type': 'city', 'brand': 'alamo', 'code': 'CHIC72', 'name': 'Chicago N Lasalle', 'bcode': 'AL', 'dist': '6.07', 'Economy Car': 197.4, 'Compact Car': 197.43, 'Intermediate Car': 201.92, 'Standard Car': 252.72999999999996, 'Fullsize Car': 286.5, 'Intermediate SUV': 269.62, 'Standard SUV': 365.26, 'Mini Van': 617.05, 'Fullsize SUV': 617.05}, 15: {'type': 'city', 'brand': 'enterprise', 'code': 'E115KB', 'name': 'Millennium Park', 'bcode': 'ET', 'dist': '5.93', 'Economy Car': 207.29, 'Compact Car': 207.32, 'Intermediate Car': 219.43, 'Standard Car': 231.52999999999997, 'Fullsize Car': 267.83, 'Premium Car': 534.03, 'Intermediate SUV': 249.68, 'Standard SUV': 352.53000000000003, 'Mini Van': 453.6, 'Fullsize SUV': 621.43, 'Luxury Car': 594.53}, 5: {'type': 'city', 'brand': 'enterprise', 'code': 'E115DN', 'name': 'Gg South Western', 'bcode': 'ET', 'dist': '4.19', 'Economy Car': 198.84, 'Compact Car': 198.88, 'Intermediate Car': 209.77, 'Standard Car': 220.66000000000003, 'Fullsize Car': 231.55, 'Intermediate SUV': 384.01, 'Standard SUV': 460.24, 'Mini Van': 504.64}, 19: {'type': 'city', 'brand': 'enterprise', 'code': 'E115CA', 'name': 'Lake And Franklin', 'bcode': 'ET', 'dist': '6.09', 'Economy Car': 207.29, 'Compact Car': 207.32, 'Intermediate Car': 219.43, 'Standard Car': 231.52999999999997, 'Fullsize Car': 267.83, 'Premium Car': 534.03, 'Intermediate SUV': 249.68, 'Standard SUV': 352.53000000000003, 'Mini Van': 453.6, 'Fullsize SUV': 621.43, 'Luxury Car': 594.53}, 6: {'type': 'city', 'brand': 'enterprise', 'code': 'E115UG', 'name': 'Uber Southside', 'bcode': 'ET', 'dist': '4.20'}, 12: {'type': 'city', 'brand': 'enterprise', 'code': 'E115CE', 'name': 'Chicago Loop', 'bcode': 'ET', 'dist': '5.82', 'Economy Car': 208.66, 'Compact Car': 208.69, 'Intermediate Car': 219.57999999999998, 'Standard Car': 230.47, 'Fullsize Car': 263.14, 'Premium Car': 502.72, 'Intermediate SUV': 246.81, 'Standard SUV': 339.37, 'Mini Van': 618.15, 'Fullsize SUV': 622.51, 'Luxury Car': 557.1700000000001}, 4: {'type': 'city', 'brand': 'budget', 'code': 'CHIC02', 'name': 'Chicago', 'bcode': 'BG', 'dist': '4.05', 'Economy Car': 203.48, 'Compact Car': 203.48, 'Intermediate Car': 211.17000000000002, 'Standard Car': 220.19, 'Fullsize Car': 224.70000000000002, 'Premium Car': 538.74, 'Intermediate SUV': 329.8, 'Standard SUV': 456.12, 'Mini Van': 682.4699999999999, 'Fullsize SUV': 1119.08, 'Standard Convertible': 837.4000000000001, 'Luxury Car': 837.4000000000001, 'Premium SUV': 1154.29, 'Fullsize Van': 1154.29}, 9: {'type': 'city', 'brand': 'enterprise', 'code': 'E115DA', 'name': 'Gg Gresham', 'bcode': 'ET', 'dist': '5.57', 'Economy Car': 198.84, 'Compact Car': 198.88, 'Intermediate Car': 209.77, 'Standard Car': 220.66000000000003, 'Fullsize Car': 231.55, 'Intermediate SUV': 384.01, 'Standard SUV': 460.24, 'Mini Van': 504.64}, 16: {'type': 'city', 'brand': 'avis', 'code': 'CHIC01', 'name': 'North Loop-downtown', 'bcode': 'AV', 'dist': '6.05', 'Economy Car': 221.37, 'Compact Car': 221.37, 'Intermediate Car': 221.08999999999997, 'Standard Car': 278.85, 'Fullsize Car': 286.96999999999997, 'Intermediate SUV': 327.70000000000005, 'Standard SUV': 465.59999999999997}, 3: {'type': 'city', 'brand': 'avis', 'code': 'CHIC05', 'name': 'Chicago - 18th Street & Wabash Avenue', 'bcode': 'AV', 'dist': '4.05', 'Economy Car': 194.52, 'Compact Car': 194.52, 'Intermediate Car': 193.11999999999998, 'Standard Car': 202.14999999999998, 'Fullsize Car': 206.66000000000003, 'Premium Car': 403.49, 'Intermediate SUV': 308.75, 'Standard SUV': 435.07000000000005, 'Mini Van': 587.71, 'Luxury Car': 529.81, 'Premium SUV': 843.02, 'Fullsize Van': 795.6500000000001}, 13: {'type': 'city', 'brand': 'enterprise', 'code': 'E115CD', 'name': 'Dd West Loop A/b(ex15ca)', 'bcode': 'ET', 'dist': '5.84', 'Economy Car': 208.66, 'Compact Car': 208.69, 'Intermediate Car': 219.57999999999998, 'Standard Car': 230.47, 'Fullsize Car': 263.14, 'Premium Car': 502.72, 'Intermediate SUV': 246.81, 'Standard SUV': 339.37, 'Mini Van': 618.15, 'Fullsize SUV': 622.51, 'Luxury Car': 557.1700000000001}, 2: {'type': 'city', 'brand': 'enterprise', 'code': 'E11576', 'name': 'Gg South Loop', 'bcode': 'ET', 'dist': '3.17', 'Economy Car': 206.58, 'Compact Car': 206.60999999999999, 'Intermediate Car': 210.98000000000002, 'Standard Car': 231.57, 'Fullsize Car': 237.01, 'Intermediate SUV': 389.47, 'Standard SUV': 465.7, 'Mini Van': 612.72, 'Fullsize SUV': 710.71, 'Fullsize Van': 906.75}, 17: {'type': 'city', 'brand': 'budget', 'code': 'CHIC09', 'name': 'North Loop Budget', 'bcode': 'BG', 'dist': '6.05', 'Economy Car': 200.32, 'Compact Car': 200.32, 'Intermediate Car': 203.05, 'Standard Car': 260.81, 'Fullsize Car': 268.91, 'Premium Car': 538.74, 'Intermediate SUV': 311.90999999999997, 'Standard SUV': 449.80999999999995, 'Mini Van': 682.4699999999999, 'Fullsize SUV': 1119.08, 'Luxury Car': 837.4000000000001, 'Premium SUV': 1154.29}}\n"
     ]
    }
   ],
   "source": [
    "results = runparser()\n",
    "print(results)"
   ]
  },
  {
   "cell_type": "code",
   "execution_count": 25,
   "metadata": {
    "collapsed": true
   },
   "outputs": [],
   "source": [
    "car1 = 'Economy Car'\n",
    "car2 = 'Compact Car'\n",
    "car3 = 'Intermediate Car'\n",
    "car4 = 'Intermediate SUV'\n",
    "desiredcar = car2\n",
    "\n",
    "results2 = dict()\n",
    "for k,v in results.items():\n",
    "    #print(v)\n",
    "    if desiredcar in v:\n",
    "        results2[k] = v\n",
    "order = np.array([x[desiredcar] for x in results2.values()]).argsort()\n",
    "order = np.array([x[desiredcar] for x in results2.values() if desiredcar in x]).argsort()"
   ]
  },
  {
   "cell_type": "code",
   "execution_count": 26,
   "metadata": {
    "scrolled": false
   },
   "outputs": [
    {
     "name": "stdout",
     "output_type": "stream",
     "text": [
      "10/16/2017 9:00 AM 10/23/2017 9:00 AM Compact Car Compact Car Intermediate Car\n",
      "010 |  5.71 |  194.52 |  194.52 |  193.12 | avis         | Chicago Union Train Station\n",
      "018 |  6.07 |  197.43 |  197.43 |  201.92 | alamo        | Chicago N Lasalle\n",
      "005 |  4.19 |  198.88 |  198.88 |  209.77 | enterprise   | Gg South Western\n",
      "008 |  5.17 |  198.88 |  198.88 |  209.77 | enterprise   | Gg Stony Island\n",
      "009 |  5.57 |  198.88 |  198.88 |  209.77 | enterprise   | Gg Gresham\n",
      "017 |  6.05 |  200.32 |  200.32 |  203.05 | budget       | North Loop Budget\n",
      "011 |  5.71 |  202.12 |  202.12 |  202.24 | budget       | Chicago Union Train Station\n",
      "004 |  4.05 |  203.48 |  203.48 |  211.17 | budget       | Chicago\n",
      "007 |  5.11 |  203.48 |  203.48 |  211.17 | budget       | Chicago\n",
      "015 |  5.93 |  207.32 |  207.32 |  219.43 | enterprise   | Millennium Park\n",
      "019 |  6.09 |  207.32 |  207.32 |  219.43 | enterprise   | Lake And Franklin\n",
      "012 |  5.82 |  208.69 |  208.69 |  219.58 | enterprise   | Chicago Loop\n",
      "013 |  5.84 |  208.69 |  208.69 |  219.58 | enterprise   | Dd West Loop A/b(ex15ca)\n",
      "014 |  5.93 |  208.69 |  208.69 |  219.58 | enterprise   | Union Station/pres Tower\n",
      "001 |  0.95 |  215.33 |  215.33 |  219.69 | enterprise   | Gg Hyde Park\n",
      "016 |  6.05 |  221.37 |  221.37 |  221.09 | avis         | North Loop-downtown\n"
     ]
    }
   ],
   "source": [
    "brands = np.array([x['brand'] for x in results2.values()])[order]\n",
    "nums = np.array([x for x in results2.keys()])[order]\n",
    "titles = np.array([x['name'] for x in results2.values()])[order]\n",
    "prices = np.array([x[desiredcar] for x in results2.values()])[order]\n",
    "prices2 = np.array([x[car2] for x in results2.values()])[order]\n",
    "prices3 = np.array([x[car3] for x in results2.values()])[order]\n",
    "distances = np.array([x['dist'] for x in results2.values()])[order]\n",
    "\n",
    "print(data['pickupDate'],data['pickupTime'],data['dropoffDate'],data['dropoffTime'],desiredcar,car2,car3)\n",
    "for k in zip(nums,prices,prices2,prices3,brands,titles,distances):\n",
    "    #print(k)\n",
    "    print('{:03d} | {:5.2f} | {:7.2f} | {:7.2f} | {:7.2f} | {:12s} | {}'.format(k[0],float(k[6]),k[1],k[2],k[3],str(k[4]),k[5]))"
   ]
  },
  {
   "cell_type": "code",
   "execution_count": null,
   "metadata": {
    "collapsed": true
   },
   "outputs": [],
   "source": []
  }
 ],
 "metadata": {
  "kernelspec": {
   "display_name": "Python 3",
   "language": "python",
   "name": "python3"
  },
  "language_info": {
   "codemirror_mode": {
    "name": "ipython",
    "version": 3
   },
   "file_extension": ".py",
   "mimetype": "text/x-python",
   "name": "python",
   "nbconvert_exporter": "python",
   "pygments_lexer": "ipython3",
   "version": "3.6.1"
  }
 },
 "nbformat": 4,
 "nbformat_minor": 2
}
