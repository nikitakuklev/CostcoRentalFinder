{
 "cells": [
  {
   "cell_type": "code",
   "execution_count": 1,
   "metadata": {},
   "outputs": [
    {
     "data": {
      "text/html": [
       "<style>.container { width:100% !important; }</style>"
      ],
      "text/plain": [
       "<IPython.core.display.HTML object>"
      ]
     },
     "metadata": {},
     "output_type": "display_data"
    }
   ],
   "source": [
    "import requests,re,time,numpy as np,pickle,asyncio,concurrent.futures,datetime\n",
    "# Make this notebook wiiiiiiiiide\n",
    "from IPython.core.display import display, HTML\n",
    "display(HTML(\"<style>.container { width:100% !important; }</style>\"))"
   ]
  },
  {
   "cell_type": "markdown",
   "metadata": {},
   "source": [
    "This parser works with just a few locations, constructing an ITA-style matrix of price vs start/end dates"
   ]
  },
  {
   "cell_type": "code",
   "execution_count": 30,
   "metadata": {
    "collapsed": true
   },
   "outputs": [],
   "source": [
    "# Setup relevant variables\n",
    "ZIP = '60615'\n",
    "AGENCYBR = 'ET'\n",
    "AGENCYIDS = ['E11509', #oak park,\n",
    "             #'E11548', #bolingbrook\n",
    "             #'E115CH', #elmwood\n",
    "             #'E11516', #skokie\n",
    "             #'E11553', #Nn Lincolnwood 53\n",
    "            ]\n",
    "RADIUS = '50'\n",
    "\n",
    "PICKUP = datetime.date(2017, 11, 6)\n",
    "DROPOFF = PICKUP+datetime.timedelta(days=14)\n",
    "FIXEDLENGTH = True\n",
    "VARYSTART = 0\n",
    "VARYEND = 2\n",
    "TIME = '11:00 AM'"
   ]
  },
  {
   "cell_type": "code",
   "execution_count": 31,
   "metadata": {},
   "outputs": [
    {
     "data": {
      "text/html": [
       "<style>.container { width:100% !important; }</style>"
      ],
      "text/plain": [
       "<IPython.core.display.HTML object>"
      ]
     },
     "metadata": {},
     "output_type": "display_data"
    }
   ],
   "source": [
    "%run backend_withdb.ipynb"
   ]
  },
  {
   "cell_type": "code",
   "execution_count": 32,
   "metadata": {},
   "outputs": [],
   "source": [
    "agencylist = getagencylist((PICKUP,DROPOFF))\n",
    "AGENCYIDS = [x['code'] for x in agencylist.values()]"
   ]
  },
  {
   "cell_type": "code",
   "execution_count": 33,
   "metadata": {},
   "outputs": [],
   "source": [
    "populateagenciesdb((PICKUP,DROPOFF))"
   ]
  },
  {
   "cell_type": "code",
   "execution_count": 34,
   "metadata": {},
   "outputs": [
    {
     "name": "stdout",
     "output_type": "stream",
     "text": [
      "002 ND |  11/06/2017 11/20/2017 3 ('avis', 'CHIC05', 'Chicago - 18th Street & Wabash Avenue') 4.05\n",
      "003 ND |  11/06/2017 11/20/2017 4 ('budget', 'CHIC02', 'Chicago') 4.05\n",
      "005 ND |  11/06/2017 11/20/2017 6 ('budget', 'CHIC08', 'Chicago') 5.11\n",
      "008 ND |  11/06/2017 11/20/2017 9 ('avis', 'CHIX01', 'Chicago Union Train Station') 5.71\n",
      "009 ND |  11/06/2017 11/20/2017 9 ('avis', 'CHIX01', 'Chicago Union Train Station') 5.71\n",
      "014 ND |  11/06/2017 11/20/2017 15 ('avis', 'CHIC01', 'North Loop-downtown') 6.05\n",
      "015 ND |  11/06/2017 11/20/2017 16 ('budget', 'CHIC09', 'North Loop Budget') 6.05\n",
      "022 ND |  11/06/2017 11/20/2017 23 ('avis', 'MDWT01', 'Chicago Midway Intl Airport') 7.54\n",
      "023 ND |  11/06/2017 11/20/2017 24 ('budget', 'MDWT02', 'Midway Airport') 7.54\n",
      "028 ND |  11/06/2017 11/20/2017 29 ('avis', 'CHIC12', 'Grossinger City Autoplex') 7.94\n",
      "029 ND |  11/06/2017 11/20/2017 29 ('avis', 'CHIC12', 'Grossinger City Autoplex') 7.94\n",
      "030 ND |  11/06/2017 11/20/2017 31 ('avis', 'CHIS08', 'Oak Lawn/chicago') 8.04\n",
      "034 ND |  11/06/2017 11/20/2017 35 ('enterprise', 'E115CF', 'Sat Howard Orloff') 8.76\n",
      "038 ND |  11/06/2017 11/20/2017 39 ('enterprise', 'E115FX', 'Nn Fox Ford') 9.58\n",
      "040 ND |  11/06/2017 11/20/2017 41 ('avis', 'CHIC04', 'Logan Square') 10.15\n",
      "041 ND |  11/06/2017 11/20/2017 15 ('avis', 'CHIC01', 'North Loop-downtown') 6.05\n",
      "042 ND |  11/06/2017 11/20/2017 43 ('budget', 'CHIC07', 'Chicago/lakeview') 10.55\n",
      "043 ND |  11/06/2017 11/20/2017 43 ('budget', 'CHIC07', 'Chicago/lakeview') 10.55\n",
      "045 ND |  11/06/2017 11/20/2017 46 ('budget', 'CHIS02', 'Chicago Ridge Il Sears') 10.78\n",
      "047 ND |  11/06/2017 11/20/2017 48 ('avis', 'CHIW12', 'Oak Park') 10.82\n",
      "048 ND |  11/06/2017 11/20/2017 49 ('budget', 'CHIW09', 'Oak Park') 10.82\n",
      "064 ND |  11/06/2017 11/20/2017 65 ('budget', 'CHIN08', 'Lincolnwood') 15.03\n",
      "068 ND |  11/06/2017 11/20/2017 69 ('avis', 'CHIN03', 'Evanston (525 Kedzie Building)') 16.46\n",
      "069 ND |  11/06/2017 11/20/2017 70 ('budget', 'CHIN19', 'Evanston') 16.46\n",
      "071 ND |  11/06/2017 11/20/2017 72 ('avis', 'CHIS01', 'Orland Park, Il') 16.99\n",
      "072 ND |  11/06/2017 11/20/2017 72 ('avis', 'CHIS01', 'Orland Park, Il') 16.99\n",
      "079 ND |  11/06/2017 11/20/2017 80 ('avis', 'CHIW13', 'Oak Brook Doubletree Hotel') 18.03\n",
      "080 ND |  11/06/2017 11/20/2017 81 ('budget', 'CHIW08', 'Oak Brook Il') 18.03\n",
      "082 ND |  11/06/2017 11/20/2017 83 ('avis', 'CHIN06', 'Skokie - Dempster Street') 18.35\n",
      "088 ND |  11/06/2017 11/20/2017 89 ('avis', 'ORDT01', 'Chicago Ohare Intl Airport') 19.01\n",
      "089 ND |  11/06/2017 11/20/2017 89 ('avis', 'ORDT01', 'Chicago Ohare Intl Airport') 19.01\n",
      "093 ND |  11/06/2017 11/20/2017 94 ('enterprise', 'E115P1', 'Packer Branch Elmhurst') 19.34\n",
      "100 ND |  11/06/2017 11/20/2017 101 ('avis', 'CHIW10', 'Lombard') 20.30\n",
      "101 ND |  11/06/2017 11/20/2017 102 ('budget', 'CHIW03', 'Lombard') 20.30\n",
      "105 ND |  11/06/2017 11/20/2017 106 ('avis', 'CHIN02', 'Sears Auto Ctr - Golf Mill Shopping Ctr') 21.15\n",
      "106 ND |  11/06/2017 11/20/2017 107 ('budget', 'CHIN04', 'Niles Il Sears') 21.15\n",
      "107 ND |  11/06/2017 11/20/2017 108 ('enterprise', 'E115PD', 'Packer Br Downers Grove') 21.30\n",
      "110 ND |  11/06/2017 11/20/2017 111 ('avis', 'CHIW06', 'Downers Grove, Il') 21.35\n",
      "111 ND |  11/06/2017 11/20/2017 112 ('budget', 'CHIW04', 'Downers Grove Il') 21.35\n",
      "117 ND |  11/06/2017 11/20/2017 102 ('budget', 'CHIW03', 'Lombard') 20.30\n",
      "118 ND |  11/06/2017 11/20/2017 119 ('budget', 'CHIW05', 'Elk Grove Village Il') 22.76\n",
      "121 ND |  11/06/2017 11/20/2017 122 ('budget', 'CHIS07', 'Addison') 23.57\n",
      "122 ND |  11/06/2017 11/20/2017 123 ('avis', 'CHIS05', 'Addison') 23.70\n",
      "125 ND |  11/06/2017 11/20/2017 126 ('avis', 'CHIW02', 'The Hyatt Of Lisle') 24.42\n",
      "126 ND |  11/06/2017 11/20/2017 101 ('avis', 'CHIW10', 'Lombard') 20.30\n",
      "130 ND |  11/06/2017 11/20/2017 131 ('avis', 'CHIN16', 'Renaissance Chicago North Shore') 25.02\n",
      "131 ND |  11/06/2017 11/20/2017 131 ('avis', 'CHIN16', 'Renaissance Chicago North Shore') 25.02\n",
      "132 ND |  11/06/2017 11/20/2017 133 ('avis', 'SBNW01', 'Merrillville Car Care Center') 26.05\n",
      "133 ND |  11/06/2017 11/20/2017 133 ('avis', 'SBNW01', 'Merrillville Car Care Center') 26.05\n",
      "138 ND |  11/06/2017 11/20/2017 123 ('avis', 'CHIS05', 'Addison') 23.70\n",
      "139 ND |  11/06/2017 11/20/2017 81 ('budget', 'CHIW08', 'Oak Brook Il') 18.03\n",
      "146 ND |  11/06/2017 11/20/2017 147 ('avis', 'CHIW01', 'Schaumburg Hyatt Regency Hotel') 28.09\n",
      "147 ND |  11/06/2017 11/20/2017 48 ('avis', 'CHIW12', 'Oak Park') 10.82\n",
      "152 ND |  11/06/2017 11/20/2017 153 ('avis', 'CHIS06', 'Lewis University Airport') 28.59\n",
      "153 ND |  11/06/2017 11/20/2017 31 ('avis', 'CHIS08', 'Oak Lawn/chicago') 8.04\n",
      "156 ND |  11/06/2017 11/20/2017 157 ('avis', 'CHIN07', 'Highland Park Ford') 29.21\n",
      "157 ND |  11/06/2017 11/20/2017 106 ('avis', 'CHIN02', 'Sears Auto Ctr - Golf Mill Shopping Ctr') 21.15\n",
      "162 ND |  11/06/2017 11/20/2017 163 ('avis', 'CHIN11', 'Schaumburg/hoffman Estates') 30.75\n",
      "163 ND |  11/06/2017 11/20/2017 164 ('budget', 'CHIN05', 'Schaumburg') 30.75\n",
      "167 ND |  11/06/2017 11/20/2017 168 ('avis', 'CHIW11', 'Naperville - Pebblewood Plaza') 30.94\n",
      "168 ND |  11/06/2017 11/20/2017 111 ('avis', 'CHIW06', 'Downers Grove, Il') 21.35\n",
      "170 ND |  11/06/2017 11/20/2017 171 ('avis', 'AUZC02', 'Sears Auto Ctr-westfield Fox Valley Mall') 31.24\n",
      "171 ND |  11/06/2017 11/20/2017 171 ('avis', 'AUZC02', 'Sears Auto Ctr-westfield Fox Valley Mall') 31.24\n",
      "172 ND |  11/06/2017 11/20/2017 112 ('budget', 'CHIW04', 'Downers Grove Il') 21.35\n",
      "173 ND |  11/06/2017 11/20/2017 174 ('budget', 'CHIW07', 'Streamwood Il') 31.61\n",
      "178 ND |  11/06/2017 11/20/2017 179 ('avis', 'CHIS10', 'Sears Auto Center - Louis Joliet Mall') 32.83\n",
      "179 ND |  11/06/2017 11/20/2017 179 ('avis', 'CHIS10', 'Sears Auto Center - Louis Joliet Mall') 32.83\n",
      "181 ND |  11/06/2017 11/20/2017 182 ('enterprise', 'E115PA', 'Packer Branch Joliet') 33.51\n",
      "185 ND |  11/06/2017 11/20/2017 147 ('avis', 'CHIW01', 'Schaumburg Hyatt Regency Hotel') 28.09\n",
      "192 ND |  11/06/2017 11/20/2017 193 ('avis', 'AUZC01', 'Aurora') 36.89\n",
      "193 ND |  11/06/2017 11/20/2017 193 ('avis', 'AUZC01', 'Aurora') 36.89\n",
      "197 ND |  11/06/2017 11/20/2017 69 ('avis', 'CHIN03', 'Evanston (525 Kedzie Building)') 16.46\n",
      "200 ND |  11/06/2017 11/20/2017 201 ('avis', 'CHIN10', 'Libertyville - Milwaukee Avenue') 37.57\n",
      "205 ND |  11/06/2017 11/20/2017 206 ('avis', 'CHIN01', 'Libertyville - Peterson Road') 39.56\n",
      "206 ND |  11/06/2017 11/20/2017 83 ('avis', 'CHIN06', 'Skokie - Dempster Street') 18.35\n",
      "210 ND |  11/06/2017 11/20/2017 211 ('avis', 'CHIN13', 'Sears Auto Center-spring Hill Mall') 41.03\n",
      "211 ND |  11/06/2017 11/20/2017 163 ('avis', 'CHIN11', 'Schaumburg/hoffman Estates') 30.75\n",
      "220 ND |  11/06/2017 11/20/2017 206 ('avis', 'CHIN01', 'Libertyville - Peterson Road') 39.56\n"
     ]
    }
   ],
   "source": [
    "runparser(agencyids=AGENCYIDS, threads=1);"
   ]
  },
  {
   "cell_type": "code",
   "execution_count": null,
   "metadata": {
    "scrolled": true
   },
   "outputs": [],
   "source": [
    "res = session.query(Agency).filter(Agency.ag_id == 'E11509').first()\n",
    "print(res)\n",
    "res.prices"
   ]
  },
  {
   "cell_type": "code",
   "execution_count": 23,
   "metadata": {},
   "outputs": [
    {
     "data": {
      "text/plain": [
       "98"
      ]
     },
     "execution_count": 23,
     "metadata": {},
     "output_type": "execute_result"
    }
   ],
   "source": [
    "session.query(Price.car_econ, Price.pickup, Agency.ag_dist, Agency.ag_name).join(Agency).filter(Price.car_econ.isnot(None)).order_by(Price.car_comp).count()"
   ]
  },
  {
   "cell_type": "code",
   "execution_count": 38,
   "metadata": {},
   "outputs": [],
   "source": [
    "res = session.query(Price.car_int, Price.pickup, Agency.ag_dist, Agency.ag_name).join(Agency).filter(Price.car_econ.isnot(None)).order_by(Price.car_int).all()"
   ]
  },
  {
   "cell_type": "code",
   "execution_count": 39,
   "metadata": {},
   "outputs": [
    {
     "name": "stdout",
     "output_type": "stream",
     "text": [
      "[(271.93, '11/06/2017', 10.97, 'Dd Oak Park'),\n",
      " (279.94, '11/06/2017', 22.8, 'Nn-glenview'),\n",
      " (282.44, '11/06/2017', 17.76, 'Nn South Evanston N2'),\n",
      " (283.25, '11/06/2017', 44.16, 'Gurnee Il Sears'),\n",
      " (285.6, '11/06/2017', 18.96, 'Aa Holiday Inn'),\n",
      " (285.95, '11/06/2017', 37.57, 'Libertyville'),\n",
      " (295.39, '11/06/2017', 44.03, 'Nn-lake Villa'),\n",
      " (295.39, '11/06/2017', 44.78, 'Nn-gurnee'),\n",
      " (295.39, '11/06/2017', 47.3, 'Nn-round Lake Heights'),\n",
      " (295.45, '11/06/2017', 36.51, 'Nn-mundelein'),\n",
      " (298.26, '11/06/2017', 37.14, 'Nn-libertyville'),\n",
      " (299.18, '11/06/2017', 7.54, 'Dd Gold Coast Auto Body'),\n",
      " (299.18, '11/06/2017', 7.87, 'Dd Old Town'),\n",
      " (299.18, '11/06/2017', 8.91, 'Dd Bucktown'),\n",
      " (299.18, '11/06/2017', 9.61, 'Nn Lincoln Park'),\n",
      " (299.18, '11/06/2017', 12.59, 'Nn Uptown'),\n",
      " (299.20000000000005, '11/06/2017', 8.08, 'Euro Collission'),\n",
      " (302.56, '11/06/2017', 18.57, 'Aa Willowbrook'),\n",
      " (302.56, '11/06/2017', 26.2, 'Aa Lockport'),\n",
      " (302.56, '11/06/2017', 32.22, 'Aa South Naperville'),\n",
      " (302.56, '11/06/2017', 32.46, 'Aa North Plainfield'),\n",
      " (302.56, '11/06/2017', 35.69, 'Aa Plainfield'),\n",
      " (302.56, '11/06/2017', 35.82, 'Aa Shorewood'),\n",
      " (302.56, '11/06/2017', 40.91, \"Aa Casten's Body Shop\"),\n",
      " (302.59000000000003, '11/06/2017', 27.93, 'Nn-hyatt-deerfield'),\n",
      " (304.2, '11/06/2017', 40.85, 'Aa West Elgin'),\n",
      " (305.44, '11/06/2017', 19.16, 'Aa Westmont'),\n",
      " (305.44, '11/06/2017', 21.31, 'Aa South Downers Grove'),\n",
      " (305.44, '11/06/2017', 21.41, 'Aa North Downers Grove'),\n",
      " (305.44, '11/06/2017', 24.83, 'Aa Lisle'),\n",
      " (305.44, '11/06/2017', 27.09, 'Aa East Naperville'),\n",
      " (305.44, '11/06/2017', 30.14, 'Aa West Ogden'),\n",
      " (305.44, '11/06/2017', 30.85, 'Aa Warrenville'),\n",
      " (305.44, '11/06/2017', 31.04, 'Aa Naperville North'),\n",
      " (305.44, '11/06/2017', 31.67, 'Aa East Aurora'),\n",
      " (305.44, '11/06/2017', 32.26, 'Aa Crest Hill'),\n",
      " (305.44, '11/06/2017', 33.53, 'Aa Joliet'),\n",
      " (305.44, '11/06/2017', 37.15, 'Aa Barrington'),\n",
      " (305.47, '11/06/2017', 28.39, 'Nn-highland Park'),\n",
      " (305.47, '11/06/2017', 36.65, 'Aa Aurora'),\n",
      " (305.47, '11/06/2017', 36.83, 'Aa East St. Charles'),\n",
      " (305.47, '11/06/2017', 38.45, 'Aa St Charles'),\n",
      " (307.1, '11/06/2017', 39.05, 'Aa East Dundee'),\n",
      " (309.28999999999996, '11/06/2017', 24.53, 'Aa Glen Ellyn'),\n",
      " (312.04, '11/06/2017', 44.78, 'Aa -algonquin'),\n",
      " (312.04, '11/06/2017', 49.44, 'Aa-huntley'),\n",
      " (315.01, '11/06/2017', 47.08, 'Aa -crystal Lake 2'),\n",
      " (315.01, '11/06/2017', 48.3, 'Aa Crystal Lake West'),\n",
      " (319.9, '11/06/2017', 14.15, 'Dd Elmwood Park'),\n",
      " (319.9, '11/06/2017', 16.04, 'Dd Stone Park'),\n",
      " (321.58, '11/06/2017', 37.33, 'Aa Elgin'),\n",
      " (322.73, '11/06/2017', 13.64, 'Aa Lagrange'),\n",
      " (322.73, '11/06/2017', 32.84, 'Aa Palatine'),\n",
      " (322.76, '11/06/2017', 26.13, 'Nn-wheeling'),\n",
      " (322.76, '11/06/2017', 30.91, 'Nn-napleton Dge Jeep Chr'),\n",
      " (322.78, '11/06/2017', 16.04, 'Nn Lincolnwood 53'),\n",
      " (322.78, '11/06/2017', 17.54, 'Nn Skokie'),\n",
      " (322.78, '11/06/2017', 18.86, 'Morton Grove'),\n",
      " (323.18, '11/06/2017', 10.78, 'Nn Gerber Logan Square'),\n",
      " (323.18, '11/06/2017', 11.92, 'Nn Cragin'),\n",
      " (323.18, '11/06/2017', 13.31, 'Nn Irving Park'),\n",
      " (324.48, '11/06/2017', 30.52, 'Aa Hanover Park'),\n",
      " (332.83, '11/06/2017', 36.35, 'Aa Oswego'),\n",
      " (332.84000000000003, '11/06/2017', 18.96, 'Nn North Evanston'),\n",
      " (336.0, '11/06/2017', 44.52, 'Aa Yorkville'),\n",
      " (338.75, '11/06/2017', 24.81, 'Aa Bolingbrook'),\n",
      " (343.60999999999996, '11/06/2017', 19.34, 'Aa Elmhurst'),\n",
      " (343.60999999999996, '11/06/2017', 19.86, 'Aa Lombard'),\n",
      " (343.60999999999996, '11/06/2017', 20.15, 'Aa W Grand Ave'),\n",
      " (343.60999999999996, '11/06/2017', 20.9, 'Aa Villa Park'),\n",
      " (351.47, '11/06/2017', 15.24, 'Nn Norwood Park C1'),\n",
      " (355.06, '11/06/2017', 27.68, 'Aa Carol Stream'),\n",
      " (355.96999999999997, '11/06/2017', 17.63, 'Schiller Park'),\n",
      " (359.29, '11/06/2017', 23.02, 'Gg Steger'),\n",
      " (359.29, '11/06/2017', 26.83, 'Gg New Lenox'),\n",
      " (359.29, '11/06/2017', 45.36, 'Nn Zion'),\n",
      " (361.24, '11/06/2017', 10.82, 'Oak Park'),\n",
      " (362.71000000000004, '11/06/2017', 22.13, 'Gg Frankfort And Mokena'),\n",
      " (362.71000000000004, '11/06/2017', 37.77, 'Nn-north Chicago'),\n",
      " (362.71000000000004, '11/06/2017', 41.0, 'Nn-waukegan'),\n",
      " (373.23, '11/06/2017', 11.85, 'Nn Riverview'),\n",
      " (373.23, '11/06/2017', 13.81, 'Napleton Chrysler'),\n",
      " (378.71999999999997, '11/06/2017', 23.57, 'Addison'),\n",
      " (379.82000000000005, '11/06/2017', 9.33, 'Gg Berwyn'),\n",
      " (379.82000000000005, '11/06/2017', 9.47, 'Gg Blue Island'),\n",
      " (379.82000000000005, '11/06/2017', 12.7, 'Gg Brookfield'),\n",
      " (383.24, '11/06/2017', 8.7, 'Gg Oak Lawn'),\n",
      " (383.24, '11/06/2017', 11.09, 'Gg Bridgeview'),\n",
      " (383.24, '11/06/2017', 11.2, 'Gg Crestwood'),\n",
      " (383.24, '11/06/2017', 11.71, 'Gg Forest Park'),\n",
      " (383.24, '11/06/2017', 16.75, 'Gg Orland Park East'),\n",
      " (383.24, '11/06/2017', 21.35, 'Gg Matteson'),\n",
      " (383.24, '11/06/2017', 21.92, 'Gg Miller Automall'),\n",
      " (385.99, '11/06/2017', 18.12, 'Gg Orland West'),\n",
      " (389.81, '11/06/2017', 27.52, 'Aa Rolling Meadows Nt'),\n",
      " (393.32000000000005, '11/06/2017', 27.34, 'Nn-arlington Heights'),\n",
      " (394.32000000000005, '11/06/2017', 27.81, 'Aa East Schaumburg'),\n",
      " (394.32000000000005, '11/06/2017', 28.43, 'Aa Roselle'),\n",
      " (394.32000000000005, '11/06/2017', 28.87, 'Aa Schaumburg'),\n",
      " (394.32000000000005, '11/06/2017', 30.76, 'Aa Hoffman Estates'),\n",
      " (400.15, '11/06/2017', 8.04, 'Oak Lawn'),\n",
      " (401.16, '11/06/2017', 20.19, 'Nn-park Ridge'),\n",
      " (401.16, '11/06/2017', 21.0, 'Golf Mill Ford'),\n",
      " (401.16, '11/06/2017', 23.87, 'Nn-mount Prospect'),\n",
      " (403.28, '11/06/2017', 21.6, 'Gg Gary'),\n",
      " (405.90000000000003, '11/06/2017', 5.82, 'Chicago Loop'),\n",
      " (405.90000000000003, '11/06/2017', 5.84, 'Dd West Loop A/b(ex15ca)'),\n",
      " (405.90000000000003, '11/06/2017', 5.93, 'Union Station/pres Tower'),\n",
      " (413.27, '11/06/2017', 19.43, 'Gg Highland'),\n",
      " (413.27, '11/06/2017', 19.55, 'Gg Griffith'),\n",
      " (413.27, '11/06/2017', 21.81, 'Gg Schererville'),\n",
      " (413.27, '11/06/2017', 26.33, 'Gg Merrillville'),\n",
      " (413.27, '11/06/2017', 28.45, 'Gg East Merrillville'),\n",
      " (413.27, '11/06/2017', 29.6, 'Gg Crown Point Indiana'),\n",
      " (413.27, '11/06/2017', 30.13, 'Gg Cedar Lake'),\n",
      " (416.44, '11/06/2017', 18.35, 'Skokie'),\n",
      " (416.44, '11/06/2017', 15.03, 'Lincolnwood'),\n",
      " (416.79, '11/06/2017', 4.19, 'Gg South Western'),\n",
      " (416.79, '11/06/2017', 5.17, 'Gg Stony Island'),\n",
      " (416.79, '11/06/2017', 5.57, 'Gg Gresham'),\n",
      " (416.79, '11/06/2017', 6.13, 'Gg Archer Heights'),\n",
      " (416.79, '11/06/2017', 6.17, 'Gg Western And Roosevelt'),\n",
      " (418.32, '11/06/2017', 8.04, 'Oak Lawn'),\n",
      " (419.05999999999995, '11/06/2017', 21.15, 'Niles Il Sears'),\n",
      " (423.56, '11/06/2017', 20.79, 'Nn Des Plaines 1505'),\n",
      " (427.68, '11/06/2017', 3.17, 'Gg South Loop'),\n",
      " (435.65999999999997, '11/06/2017', 13.76, 'Gg South Holland'),\n",
      " (435.65999999999997, '11/06/2017', 17.26, 'Gg Homewood'),\n",
      " (445.1, '11/06/2017', 0.95, 'Gg Hyde Park'),\n",
      " (453.79, '11/06/2017', 46.5, 'Gg Kankakee'),\n",
      " (471.26, '11/06/2017', 5.93, 'Millennium Park'),\n",
      " (471.26, '11/06/2017', 6.09, 'Lake And Franklin'),\n",
      " (471.26, '11/06/2017', 6.43, 'Chicago Magnificent Mile'),\n",
      " (471.26, '11/06/2017', 6.86, 'Gold Coast'),\n",
      " (481.21000000000004, '11/06/2017', 39.53, 'Gg Michigan City'),\n",
      " (481.21000000000004, '11/06/2017', 48.38, 'Gg Laporte'),\n",
      " (497.4, '11/06/2017', 6.07, 'Chicago N Lasalle'),\n",
      " (516.99, '11/06/2017', 7.6, 'Midway Intl Arpt'),\n",
      " (547.36, '11/06/2017', 14.69, 'Gg Hammond'),\n",
      " (547.36, '11/06/2017', 24.13, 'Gg Hobart'),\n",
      " (547.36, '11/06/2017', 36.52, 'Gg Valparaiso'),\n",
      " (563.35, '11/06/2017', 28.25, 'Gg Portage'),\n",
      " (563.35, '11/06/2017', 28.8, 'Gg Arnell'),\n",
      " (565.86, '11/06/2017', 14.33, 'Gg Calumet City'),\n",
      " (570.96, '11/06/2017', 18.03, 'Gg Lansing'),\n",
      " (705.8999999999999, '11/06/2017', 19.06, 'Chicago Ohare Airport'),\n",
      " (705.9000000000001, '11/06/2017', 19.79, 'Ohare Intl Arpt'),\n",
      " (752.04, '11/06/2017', 7.6, 'Midway Intl Arpt')]\n"
     ]
    }
   ],
   "source": [
    "import pprint\n",
    "pprint.pprint(res)"
   ]
  },
  {
   "cell_type": "code",
   "execution_count": 13,
   "metadata": {},
   "outputs": [
    {
     "name": "stdout",
     "output_type": "stream",
     "text": [
      "[(238.85, '11/03/2017', 24.53, 'Aa Glen Ellyn'),\n",
      " (239.69, '11/03/2017', 26.2, 'Aa Lockport'),\n",
      " (240.26, '11/03/2017', 24.81, 'Aa Bolingbrook'),\n",
      " (241.97000000000003, '11/03/2017', 24.83, 'Aa Lisle'),\n",
      " (241.97000000000003, '11/03/2017', 27.09, 'Aa East Naperville'),\n",
      " (249.76, '11/03/2017', 21.31, 'Aa South Downers Grove'),\n",
      " (252.17, '11/03/2017', 16.04, 'Nn Lincolnwood 53'),\n",
      " (252.17, '11/03/2017', 17.54, 'Nn Skokie'),\n",
      " (252.17, '11/03/2017', 18.86, 'Morton Grove'),\n",
      " (256.68, '11/03/2017', 18.96, 'Nn North Evanston'),\n",
      " (259.89, '11/03/2017', 10.97, 'Dd Oak Park'),\n",
      " (259.89, '11/03/2017', 14.15, 'Dd Elmwood Park'),\n",
      " (259.89, '11/03/2017', 16.04, 'Dd Stone Park'),\n",
      " (262.23, '11/03/2017', 17.76, 'Nn South Evanston N2'),\n",
      " (263.9, '11/03/2017', 13.64, 'Aa Lagrange'),\n",
      " (264.81, '11/03/2017', 18.96, 'Aa Holiday Inn'),\n",
      " (275.18, '11/03/2017', 15.24, 'Nn Norwood Park C1'),\n",
      " (283.62, '11/03/2017', 18.57, 'Aa Willowbrook'),\n",
      " (283.64, '11/03/2017', 27.93, 'Nn-hyatt-deerfield'),\n",
      " (286.32, '11/03/2017', 19.16, 'Aa Westmont'),\n",
      " (286.32, '11/03/2017', 21.41, 'Aa North Downers Grove'),\n",
      " (286.34000000000003, '11/03/2017', 28.39, 'Nn-highland Park'),\n",
      " (287.79, '11/03/2017', 29.21, 'Highland Park Ford'),\n",
      " (292.36, '11/03/2017', 11.85, 'Nn Riverview'),\n",
      " (292.36, '11/03/2017', 13.81, 'Napleton Chrysler'),\n",
      " (299.85, '11/03/2017', 22.8, 'Nn-glenview'),\n",
      " (302.55, '11/03/2017', 26.13, 'Nn-wheeling'),\n",
      " (307.93, '11/03/2017', 10.78, 'Nn Gerber Logan Square'),\n",
      " (307.93, '11/03/2017', 11.92, 'Nn Cragin'),\n",
      " (307.93, '11/03/2017', 13.31, 'Nn Irving Park'),\n",
      " (315.73, '11/03/2017', 8.08, 'Euro Collission'),\n",
      " (323.71000000000004, '11/03/2017', 17.63, 'Schiller Park'),\n",
      " (324.52, '11/03/2017', 27.68, 'Aa Carol Stream'),\n",
      " (326.51, '11/03/2017', 7.54, 'Dd Gold Coast Auto Body'),\n",
      " (326.51, '11/03/2017', 7.87, 'Dd Old Town'),\n",
      " (326.51, '11/03/2017', 8.91, 'Dd Bucktown'),\n",
      " (326.51, '11/03/2017', 9.61, 'Nn Lincoln Park'),\n",
      " (326.51, '11/03/2017', 12.59, 'Nn Uptown'),\n",
      " (340.34000000000003, '11/03/2017', 26.83, 'Gg New Lenox'),\n",
      " (343.58, '11/03/2017', 22.13, 'Gg Frankfort And Mokena'),\n",
      " (353.17, '11/03/2017', 19.34, 'Aa Elmhurst'),\n",
      " (353.17, '11/03/2017', 19.86, 'Aa Lombard'),\n",
      " (353.17, '11/03/2017', 20.15, 'Aa W Grand Ave'),\n",
      " (353.17, '11/03/2017', 20.9, 'Aa Villa Park'),\n",
      " (357.38, '11/03/2017', 10.82, 'Oak Park'),\n",
      " (357.38, '11/03/2017', 10.82, 'Oak Park'),\n",
      " (359.79, '11/03/2017', 9.33, 'Gg Berwyn'),\n",
      " (359.79, '11/03/2017', 9.47, 'Gg Blue Island'),\n",
      " (359.79, '11/03/2017', 12.7, 'Gg Brookfield'),\n",
      " (360.59999999999997, '11/03/2017', 16.46, 'Evanston (525 Kedzie Building)'),\n",
      " (362.98, '11/03/2017', 8.7, 'Gg Oak Lawn'),\n",
      " (362.98, '11/03/2017', 11.09, 'Gg Bridgeview'),\n",
      " (363.03000000000003, '11/03/2017', 11.2, 'Gg Crestwood'),\n",
      " (363.03000000000003, '11/03/2017', 11.71, 'Gg Forest Park'),\n",
      " (363.03000000000003, '11/03/2017', 16.75, 'Gg Orland Park East'),\n",
      " (365.78000000000003, '11/03/2017', 18.12, 'Gg Orland West'),\n",
      " (367.29, '11/03/2017', 20.3, 'Lombard'),\n",
      " (367.29, '11/03/2017', 20.3, 'Lombard'),\n",
      " (369.83000000000004, '11/03/2017', 27.52, 'Aa Rolling Meadows Nt'),\n",
      " (370.79, '11/03/2017', 23.7, 'Addison'),\n",
      " (370.79, '11/03/2017', 23.7, 'Addison'),\n",
      " (373.16, '11/03/2017', 27.34, 'Nn-arlington Heights'),\n",
      " (374.16, '11/03/2017', 27.81, 'Aa East Schaumburg'),\n",
      " (374.16, '11/03/2017', 28.43, 'Aa Roselle'),\n",
      " (374.16, '11/03/2017', 28.87, 'Aa Schaumburg'),\n",
      " (378.17, '11/03/2017', 21.35, 'Downers Grove, Il'),\n",
      " (378.17, '11/03/2017', 24.42, 'The Hyatt Of Lisle'),\n",
      " (378.19, '11/03/2017', 23.02, 'Gg Steger'),\n",
      " (378.70000000000005, '11/03/2017', 20.19, 'Nn-park Ridge'),\n",
      " (378.70000000000005, '11/03/2017', 21.0, 'Golf Mill Ford'),\n",
      " (378.70000000000005, '11/03/2017', 23.87, 'Nn-mount Prospect'),\n",
      " (380.01, '11/03/2017', 28.59, 'Lewis University Airport'),\n",
      " (392.78999999999996, '11/03/2017', 5.82, 'Chicago Loop'),\n",
      " (392.78999999999996, '11/03/2017', 5.84, 'Dd West Loop A/b(ex15ca)'),\n",
      " (392.78999999999996, '11/03/2017', 5.93, 'Union Station/pres Tower'),\n",
      " (393.28999999999996, '11/03/2017', 21.6, 'Gg Gary'),\n",
      " (394.16, '11/03/2017', 19.43, 'Gg Highland'),\n",
      " (394.16, '11/03/2017', 19.55, 'Gg Griffith'),\n",
      " (394.16, '11/03/2017', 21.81, 'Gg Schererville'),\n",
      " (394.16, '11/03/2017', 26.33, 'Gg Merrillville'),\n",
      " (394.16, '11/03/2017', 28.45, 'Gg East Merrillville'),\n",
      " (394.16, '11/03/2017', 29.6, 'Gg Crown Point Indiana'),\n",
      " (394.95, '11/03/2017', 4.19, 'Gg South Western'),\n",
      " (394.95, '11/03/2017', 5.17, 'Gg Stony Island'),\n",
      " (394.95, '11/03/2017', 5.57, 'Gg Gresham'),\n",
      " (394.95, '11/03/2017', 6.13, 'Gg Archer Heights'),\n",
      " (394.95, '11/03/2017', 6.17, 'Gg Western And Roosevelt'),\n",
      " (400.57, '11/03/2017', 28.09, 'Schaumburg Hyatt Regency Hotel'),\n",
      " (401.52, '11/03/2017', 8.04, 'Oak Lawn/chicago'),\n",
      " (401.52, '11/03/2017', 16.99, 'Orland Park, Il'),\n",
      " (401.52, '11/03/2017', 16.99, 'Orland Park, Il'),\n",
      " (401.52, '11/03/2017', 18.35, 'Skokie - Dempster Street'),\n",
      " (401.52, '11/03/2017', 21.15, 'Sears Auto Ctr - Golf Mill Shopping Ctr'),\n",
      " (401.52, '11/03/2017', 8.04, 'Oak Lawn/chicago'),\n",
      " (401.52, '11/03/2017', 21.15, 'Sears Auto Ctr - Golf Mill Shopping Ctr'),\n",
      " (403.40000000000003, '11/03/2017', 20.79, 'Nn Des Plaines 1505'),\n",
      " (403.40000000000003, '11/03/2017', 21.35, 'Gg Matteson'),\n",
      " (403.40000000000003, '11/03/2017', 21.92, 'Gg Miller Automall'),\n",
      " (416.73, '11/03/2017', 3.17, 'Gg South Loop'),\n",
      " (425.58, '11/03/2017', 13.76, 'Gg South Holland'),\n",
      " (425.58, '11/03/2017', 17.26, 'Gg Homewood'),\n",
      " (434.15999999999997, '11/03/2017', 0.95, 'Gg Hyde Park'),\n",
      " (449.48, '11/03/2017', 5.93, 'Millennium Park'),\n",
      " (449.48, '11/03/2017', 6.09, 'Lake And Franklin'),\n",
      " (449.48, '11/03/2017', 6.43, 'Chicago Magnificent Mile'),\n",
      " (449.48, '11/03/2017', 6.86, 'Gold Coast'),\n",
      " (474.89, '11/03/2017', 6.07, 'Chicago N Lasalle'),\n",
      " (487.09, '11/03/2017', 6.05, 'North Loop-downtown'),\n",
      " (487.09, '11/03/2017', 6.05, 'North Loop-downtown'),\n",
      " (493.72, '11/03/2017', 14.69, 'Gg Hammond'),\n",
      " (493.72, '11/03/2017', 24.13, 'Gg Hobart'),\n",
      " (509.7, '11/03/2017', 28.25, 'Gg Portage'),\n",
      " (509.7, '11/03/2017', 28.8, 'Gg Arnell'),\n",
      " (512.21, '11/03/2017', 14.33, 'Gg Calumet City'),\n",
      " (516.8199999999999, '11/03/2017', 18.03, 'Gg Lansing'),\n",
      " (599.47, '11/03/2017', 19.06, 'Chicago Ohare Airport'),\n",
      " (599.47, '11/03/2017', 19.79, 'Ohare Intl Arpt'),\n",
      " (698.8399999999999, '11/03/2017', 7.6, 'Midway Intl Arpt'),\n",
      " (818.36, '11/03/2017', 7.6, 'Midway Intl Arpt')]\n"
     ]
    }
   ],
   "source": [
    "import pprint\n",
    "pprint.pprint(res)"
   ]
  },
  {
   "cell_type": "code",
   "execution_count": null,
   "metadata": {
    "collapsed": true
   },
   "outputs": [],
   "source": []
  },
  {
   "cell_type": "code",
   "execution_count": null,
   "metadata": {
    "collapsed": true
   },
   "outputs": [],
   "source": [
    "agencylist = getagencylist((PICKUP,DROPOFF))"
   ]
  },
  {
   "cell_type": "code",
   "execution_count": null,
   "metadata": {},
   "outputs": [],
   "source": [
    "print(agencylist)"
   ]
  },
  {
   "cell_type": "code",
   "execution_count": null,
   "metadata": {},
   "outputs": [],
   "source": [
    "results = runparser(agencyids = AGENCYIDS, threads=5)"
   ]
  },
  {
   "cell_type": "code",
   "execution_count": null,
   "metadata": {
    "scrolled": true
   },
   "outputs": [],
   "source": [
    "print(results)"
   ]
  },
  {
   "cell_type": "code",
   "execution_count": null,
   "metadata": {
    "collapsed": true
   },
   "outputs": [],
   "source": []
  },
  {
   "cell_type": "code",
   "execution_count": null,
   "metadata": {
    "collapsed": true
   },
   "outputs": [],
   "source": [
    "car1 = 'Economy Car'\n",
    "car2 = 'Compact Car'\n",
    "car3 = 'Intermediate Car'\n",
    "car4 = 'Intermediate SUV'\n",
    "desiredcar = car2\n",
    "#desiredsort = 'time'\n",
    "desiredsort = desiredcar\n",
    "desiredbrand = 'enterprise'\n",
    "\n",
    "# also, can optimize into some single query...buuuut it works as is\n",
    "rvals = np.array([x for x in results.values() if x is not None and desiredcar in x and desiredsort in x])\n",
    "orderpreferred = np.array([x[desiredsort] for x in rvals]).argsort()\n",
    "orderprice = np.array([x[desiredcar] for x in rvals]).argsort()\n",
    "order = [x for x in orderpreferred if x in orderprice[:60]]"
   ]
  },
  {
   "cell_type": "code",
   "execution_count": null,
   "metadata": {},
   "outputs": [],
   "source": [
    "orderedresults = rvals[order]\n",
    "print(desiredcar,car2,car3)\n",
    "for k in orderedresults:\n",
    "    #print(k['num'])\n",
    "    if 'time' in k:\n",
    "        print('{:s} | {:5.2f} | {:3d} | {:6.2f} | {:6.2f} | {:6.2f} | {:10s} | {}'\n",
    "              .format(k['start']+'-'+k['end'],float(k['dist']),k['time']//60,k[desiredcar],k[car2],k[car3],str(k['brand']),k['name']))\n",
    "    else:\n",
    "        print('{:s} | {:5.2f} | {:3d} | {:6.2f} | {:6.2f} | {:6.2f} | {:10s} | {}'\n",
    "              .format(k['start']+'-'+k['end'],float(k['dist']),0,k[desiredcar],k[car2],k[car3],str(k['brand']),k['name']))"
   ]
  },
  {
   "cell_type": "code",
   "execution_count": null,
   "metadata": {
    "collapsed": true
   },
   "outputs": [],
   "source": []
  }
 ],
 "metadata": {
  "kernelspec": {
   "display_name": "Python 3",
   "language": "python",
   "name": "python3"
  },
  "language_info": {
   "codemirror_mode": {
    "name": "ipython",
    "version": 3
   },
   "file_extension": ".py",
   "mimetype": "text/x-python",
   "name": "python",
   "nbconvert_exporter": "python",
   "pygments_lexer": "ipython3",
   "version": "3.6.1"
  }
 },
 "nbformat": 4,
 "nbformat_minor": 2
}
