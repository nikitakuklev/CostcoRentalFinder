{
 "cells": [
  {
   "cell_type": "code",
   "execution_count": null,
   "metadata": {},
   "outputs": [],
   "source": [
    "import requests,re,time,numpy as np,pickle,asyncio,concurrent.futures,datetime\n",
    "# Make this notebook wiiiiiiiiide\n",
    "from IPython.core.display import display, HTML\n",
    "display(HTML(\"<style>.container { width:100% !important; }</style>\"))"
   ]
  },
  {
   "cell_type": "markdown",
   "metadata": {},
   "source": [
    "This parser works with just a few locations, constructing an ITA-style matrix of price vs start/end dates"
   ]
  },
  {
   "cell_type": "code",
   "execution_count": null,
   "metadata": {
    "collapsed": true
   },
   "outputs": [],
   "source": [
    "# Setup relevant variables\n",
    "ZIP = '60615'\n",
    "# AGENCYLIST = [('ET','E11509'), #oak park,\n",
    "#              #('ET','E11548'), #bolingbrook\n",
    "#              #('ET','E115CH'), #elmwood\n",
    "#              #('ET','E11516'), #skokie\n",
    "#              #('ET','E11553'), #Nn Lincolnwood 53\n",
    "#             ]\n",
    "AGENCYLIST = None\n",
    "RADIUS = '5'\n",
    "\n",
    "PICKUP = datetime.date(2017, 12, 5)\n",
    "DROPOFF = PICKUP+datetime.timedelta(days=7)\n",
    "FIXEDLENGTH = True\n",
    "VARYSTART = 1\n",
    "VARYEND = 2\n",
    "TIME = '11:00 AM'"
   ]
  },
  {
   "cell_type": "code",
   "execution_count": null,
   "metadata": {},
   "outputs": [],
   "source": [
    "%run backend_withdb_v2.ipynb"
   ]
  },
  {
   "cell_type": "code",
   "execution_count": null,
   "metadata": {},
   "outputs": [],
   "source": [
    "if not AGENCYLIST:\n",
    "    (agencylist,_) = getagencylist((PICKUP,DROPOFF))\n",
    "    AGENCYLIST = [(x['bcode'],x['code']) for x in agencylist.values()]"
   ]
  },
  {
   "cell_type": "code",
   "execution_count": null,
   "metadata": {},
   "outputs": [],
   "source": [
    "AGENCYLIST"
   ]
  },
  {
   "cell_type": "code",
   "execution_count": null,
   "metadata": {
    "collapsed": true
   },
   "outputs": [],
   "source": [
    "populateagenciesdb((PICKUP,DROPOFF))"
   ]
  },
  {
   "cell_type": "code",
   "execution_count": null,
   "metadata": {},
   "outputs": [],
   "source": [
    "runparser(agencylist=AGENCYLIST, threads=5);"
   ]
  },
  {
   "cell_type": "code",
   "execution_count": null,
   "metadata": {
    "collapsed": true
   },
   "outputs": [],
   "source": [
    "res = session.query(Price.car_econ, Price.pickup, Agency.ag_dist, Agency.ag_brand, Agency.ag_name).join(Agency).filter(Price.car_econ.isnot(None)).order_by(Price.car_econ).all()"
   ]
  },
  {
   "cell_type": "code",
   "execution_count": null,
   "metadata": {
    "collapsed": true
   },
   "outputs": [],
   "source": [
    "res = session.query(Price.car_int, Price.pickup, Agency.ag_dist, Agency.ag_brand, Agency.ag_name).join(Agency).filter(Price.car_int.isnot(None)).order_by(Price.car_int).all()"
   ]
  },
  {
   "cell_type": "code",
   "execution_count": null,
   "metadata": {},
   "outputs": [],
   "source": [
    "for i,v in enumerate(res):\n",
    "    print('{:4d} | {:5.2f} | {:5s} | {:6.2f} | {:10s} | {:40s}'\n",
    "              .format(i,v[0],v[1],v[2],v[3],v[4]))"
   ]
  },
  {
   "cell_type": "code",
   "execution_count": null,
   "metadata": {
    "collapsed": true
   },
   "outputs": [],
   "source": [
    "for i,v in enumerate(res):\n",
    "    print('{:4d} | {:5.2f} | {:5s} | {:6.2f} | {:10s} | {:40s}'\n",
    "              .format(i,v[0],v[1],v[2],v[3],v[4]))"
   ]
  },
  {
   "cell_type": "code",
   "execution_count": null,
   "metadata": {
    "collapsed": true
   },
   "outputs": [],
   "source": []
  },
  {
   "cell_type": "code",
   "execution_count": null,
   "metadata": {
    "collapsed": true,
    "scrolled": true
   },
   "outputs": [],
   "source": [
    "res = session.query(Agency).filter(Agency.ag_id == 'E11509').first()\n",
    "print(res)\n",
    "res.prices"
   ]
  },
  {
   "cell_type": "code",
   "execution_count": null,
   "metadata": {
    "collapsed": true
   },
   "outputs": [],
   "source": [
    "import pprint\n",
    "pprint.pprint(res)"
   ]
  },
  {
   "cell_type": "code",
   "execution_count": null,
   "metadata": {
    "collapsed": true
   },
   "outputs": [],
   "source": []
  },
  {
   "cell_type": "code",
   "execution_count": null,
   "metadata": {
    "collapsed": true
   },
   "outputs": [],
   "source": [
    "car1 = 'Economy Car'\n",
    "car2 = 'Compact Car'\n",
    "car3 = 'Intermediate Car'\n",
    "car4 = 'Intermediate SUV'\n",
    "desiredcar = car2\n",
    "#desiredsort = 'time'\n",
    "desiredsort = desiredcar\n",
    "desiredbrand = 'enterprise'\n",
    "\n",
    "# also, can optimize into some single query...buuuut it works as is\n",
    "rvals = np.array([x for x in results.values() if x is not None and desiredcar in x and desiredsort in x])\n",
    "orderpreferred = np.array([x[desiredsort] for x in rvals]).argsort()\n",
    "orderprice = np.array([x[desiredcar] for x in rvals]).argsort()\n",
    "order = [x for x in orderpreferred if x in orderprice[:60]]"
   ]
  },
  {
   "cell_type": "code",
   "execution_count": null,
   "metadata": {
    "collapsed": true
   },
   "outputs": [],
   "source": [
    "orderedresults = rvals[order]\n",
    "print(desiredcar,car2,car3)\n",
    "for k in orderedresults:\n",
    "    #print(k['num'])\n",
    "    if 'time' in k:\n",
    "        print('{:s} | {:5.2f} | {:3d} | {:6.2f} | {:6.2f} | {:6.2f} | {:10s} | {}'\n",
    "              .format(k['start']+'-'+k['end'],float(k['dist']),k['time']//60,k[desiredcar],k[car2],k[car3],str(k['brand']),k['name']))\n",
    "    else:\n",
    "        print('{:s} | {:5.2f} | {:3d} | {:6.2f} | {:6.2f} | {:6.2f} | {:10s} | {}'\n",
    "              .format(k['start']+'-'+k['end'],float(k['dist']),0,k[desiredcar],k[car2],k[car3],str(k['brand']),k['name']))"
   ]
  },
  {
   "cell_type": "code",
   "execution_count": null,
   "metadata": {
    "collapsed": true
   },
   "outputs": [],
   "source": []
  }
 ],
 "metadata": {
  "kernelspec": {
   "display_name": "Python 3",
   "language": "python",
   "name": "python3"
  },
  "language_info": {
   "codemirror_mode": {
    "name": "ipython",
    "version": 3
   },
   "file_extension": ".py",
   "mimetype": "text/x-python",
   "name": "python",
   "nbconvert_exporter": "python",
   "pygments_lexer": "ipython3",
   "version": "3.6.1"
  }
 },
 "nbformat": 4,
 "nbformat_minor": 2
}
