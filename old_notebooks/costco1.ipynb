{
 "cells": [
  {
   "cell_type": "code",
   "execution_count": 1,
   "metadata": {
    "collapsed": true
   },
   "outputs": [],
   "source": [
    "import requests,re"
   ]
  },
  {
   "cell_type": "code",
   "execution_count": null,
   "metadata": {
    "collapsed": true
   },
   "outputs": [],
   "source": [
    "data = {\n",
    "  'cs': 1,\n",
    "  'pickupCity': process.env.AIRPORT,\n",
    "  'pickupAsAirport': 'True',\n",
    "  'dropoffCity': process.env.AIRPORT,\n",
    "  'dropoffAsAirport': 'True',\n",
    "  'pickupDate': '09/11/2017',\n",
    "  'dropoffDate': '10/09/2017',\n",
    "  'pickupTime': '09:00 AM',\n",
    "  'dropoffTime': '09:00 AM',\n",
    "  'driverAge': '25'\n",
    "}"
   ]
  },
  {
   "cell_type": "code",
   "execution_count": null,
   "metadata": {
    "collapsed": true
   },
   "outputs": [],
   "source": [
    "data = { \n",
    "    'rcs':'1',\n",
    "    'driverAge':'25',\n",
    "    'pickupZip':'60615',\n",
    "    'pickupCityLocationTypeSearch':'2',\n",
    "    'dropoffZip':'60615',\n",
    "    'dropoffCityLocationTypeSearch':'2',\n",
    "    'pickupCountry':'US',\n",
    "    'dropoffCountry':'US',\n",
    "    'pickupCityRadius':'25',\n",
    "    'dropoffCityRadius':'25',\n",
    "    'pickupAsAirport':'false',\n",
    "    'dropoffAsAirport':'false',\n",
    "    'pickupDate':'09/11/2017',\n",
    "    'dropoffDate':'10/09/2017',\n",
    "    'pickupTime':'09:00 AM',\n",
    "    'dropoffTime':'09:00 AM',\n",
    "    'pickupLocationCode':'60615',\n",
    "    'pickupLocationName':'60615 (CHICAGO, IL, US)',\n",
    "    'pickupLocationType':'zipCode',\n",
    "    'pickupLocationCityCode':'CHICAGO',\n",
    "    'pickupLocationStateCode':'',\n",
    "    'pickupLatitude':'',\n",
    "    'pickupLongitude':'',\n",
    "    'dropoffLocationCode':'60615',\n",
    "    'dropoffLocationName':'60615 (CHICAGO, IL, US)',\n",
    "    'dropoffLocationType':'zipCode',\n",
    "    'dropoffLocationCityCode':'CHICAGO',\n",
    "}"
   ]
  },
  {
   "cell_type": "code",
   "execution_count": null,
   "metadata": {
    "collapsed": true
   },
   "outputs": [],
   "source": [
    "data = { \n",
    "    'cs':'1',\n",
    "    'driverAge':'25',\n",
    "    'pickupZip':'60615',\n",
    "    'pickupCityLocationTypeSearch':'2',\n",
    "    'dropoffZip':'60615',\n",
    "    'dropoffCityLocationTypeSearch':'2',\n",
    "    'pickupCountry':'US',\n",
    "    'dropoffCountry':'US',\n",
    "    'pickupCityRadius':'25',\n",
    "    'dropoffCityRadius':'25',\n",
    "    'pickupAsAirport':'false',\n",
    "    'dropoffAsAirport':'false',\n",
    "    'pickupDate':'09/11/2017',\n",
    "    'dropoffDate':'10/09/2017',\n",
    "    'pickupTime':'09:00 AM',\n",
    "    'dropoffTime':'09:00 AM',\n",
    "    'pickupLocationCode':'60615',\n",
    "    'pickupLocationName':'60615 (CHICAGO, IL, US)',\n",
    "    'pickupLocationType':'zipCode',\n",
    "    'pickupLocationCityCode':'CHICAGO',\n",
    "    'pickupLocationStateCode':'',\n",
    "    'pickupLatitude':'',\n",
    "    'pickupLongitude':'',\n",
    "    'dropoffLocationCode':'60615',\n",
    "    'dropoffLocationName':'60615 (CHICAGO, IL, US)',\n",
    "    'dropoffLocationType':'zipCode',\n",
    "    'dropoffLocationCityCode':'CHICAGO',\n",
    "}"
   ]
  },
  {
   "cell_type": "code",
   "execution_count": null,
   "metadata": {
    "collapsed": true
   },
   "outputs": [],
   "source": [
    "data = {\n",
    "  'cs': 1,\n",
    "  'pickupCity': 'CHICAGO, IL, US',\n",
    "  'pickupAsAirport': 'False',\n",
    "  'dropoffCity': 'CHICAGO, IL, US',\n",
    "  'dropoffAsAirport': 'False',\n",
    "  'pickupDate': '09/11/2017',\n",
    "  'dropoffDate': '10/09/2017',\n",
    "  'pickupTime': '09:00 AM',\n",
    "  'dropoffTime': '09:00 AM',\n",
    "  'driverAge': '25'\n",
    "};"
   ]
  },
  {
   "cell_type": "code",
   "execution_count": null,
   "metadata": {
    "collapsed": true
   },
   "outputs": [],
   "source": [
    "data = {\n",
    "  'cs': 1,\n",
    "  'pickupCity': 'ORD',\n",
    "  'pickupAsAirport': 'True',\n",
    "  'dropoffCity': 'ORD',\n",
    "  'dropoffAsAirport': 'True',\n",
    "  'pickupDate': '09/11/2017',\n",
    "  'dropoffDate': '10/09/2017',\n",
    "  'pickupTime': '09:00 AM',\n",
    "  'dropoffTime': '09:00 AM',\n",
    "  'driverAge': '25'\n",
    "}"
   ]
  },
  {
   "cell_type": "code",
   "execution_count": 2,
   "metadata": {
    "collapsed": true
   },
   "outputs": [],
   "source": [
    "data = { \n",
    "    'rcs':'1',\n",
    "    'driverAge':'25',\n",
    "    'pickupZip':'60615',\n",
    "    'pickupCityLocationTypeSearch':'2',\n",
    "    'dropoffZip':'60615',\n",
    "    'dropoffCityLocationTypeSearch':'2',\n",
    "    'pickupCountry':'US',\n",
    "    'dropoffCountry':'US',\n",
    "    'pickupCityRadius':'25',\n",
    "    'dropoffCityRadius':'25',\n",
    "    'pickupAsAirport':'false',\n",
    "    'dropoffAsAirport':'false',\n",
    "    'pickupDate':'09/11/2017',\n",
    "    'dropoffDate':'10/09/2017',\n",
    "    'pickupTime':'09:00 AM',\n",
    "    'dropoffTime':'09:00 AM',\n",
    "    'pickupLocationCode':'60615',\n",
    "    'pickupLocationName':'60615 (CHICAGO, IL, US)',\n",
    "    'pickupLocationType':'zipCode',\n",
    "    'pickupLocationCityCode':'CHICAGO',\n",
    "    'pickupLocationStateCode':'',\n",
    "    'pickupLatitude':'',\n",
    "    'pickupLongitude':'',\n",
    "    'dropoffLocationCode':'60615',\n",
    "    'dropoffLocationName':'60615 (CHICAGO, IL, US)',\n",
    "    'dropoffLocationType':'zipCode',\n",
    "    'dropoffLocationCityCode':'CHICAGO',\n",
    "    'dropoffLocationStateCode':'',\n",
    "    'dropoffLatitude':'',\n",
    "    'dropoffLongitude':'',\n",
    "    'fromHomePage':'true',\n",
    "    'fromCarVendorMainMenu':'true',\n",
    "    'carSearchInModifyFlow':'false',\n",
    "    'suppressOutput':'false',\n",
    "    #'uid':'1504750265762_835.0398291228158'\n",
    "}"
   ]
  },
  {
   "cell_type": "code",
   "execution_count": 4,
   "metadata": {
    "collapsed": true
   },
   "outputs": [],
   "source": [
    "headers3 = {\n",
    "    'User-Agent':'Mozilla/5.0 (Windows NT 10.0; Win64; x64) AppleWebKit/537.36 (KHTML, like Gecko) Chrome/60.0.3112.113 Safari/537.36',\n",
    "    'Referer':'https://www.costcotravel.com',\n",
    "}"
   ]
  },
  {
   "cell_type": "code",
   "execution_count": 5,
   "metadata": {},
   "outputs": [
    {
     "name": "stdout",
     "output_type": "stream",
     "text": [
      "['BIGipServerpool-prod-app', 'JSESSIONID', 'SESSION_TIME_OUT_DETECTED']\n"
     ]
    }
   ],
   "source": [
    "url = 'https://www.costcotravel.com/h=4005'\n",
    "r3 = requests.get(url,headers=headers3)\n",
    "cks = r3.cookies\n",
    "print(cks.keys())"
   ]
  },
  {
   "cell_type": "code",
   "execution_count": null,
   "metadata": {},
   "outputs": [],
   "source": [
    "r3.text"
   ]
  },
  {
   "cell_type": "code",
   "execution_count": 6,
   "metadata": {},
   "outputs": [
    {
     "name": "stdout",
     "output_type": "stream",
     "text": [
      "af51b7d504a71a0621b445302af96eab66cced6d97ecf422e2d8d6fbbb9abfafb516be8999295f437aa3bfa8407dee940bc866a24ae9f2cec074ac21fe8c5eeb\n",
      "1504798312449\n"
     ]
    }
   ],
   "source": [
    "res = re.search('\\(\\\"Csrf-token\\\", \\\"(\\S{128})\\\"\\)',r3.text)\n",
    "csrf = res.group(1)\n",
    "print(csrf)\n",
    "res = re.search('namespace.sessionTimestamp = (\\d{10,20});',r3.text)\n",
    "ts = res.group(1)\n",
    "print(ts)"
   ]
  },
  {
   "cell_type": "code",
   "execution_count": 7,
   "metadata": {},
   "outputs": [],
   "source": [
    "headers = {\n",
    "    'User-Agent':'Mozilla/5.0 (Windows NT 10.0; Win64; x64) AppleWebKit/537.36 (KHTML, like Gecko) Chrome/60.0.3112.113 Safari/537.36',\n",
    "    'Referer':'https://www.costcotravel.com/h=4005',\n",
    "    'X-Csrf-Token':csrf\n",
    "}"
   ]
  },
  {
   "cell_type": "code",
   "execution_count": 9,
   "metadata": {},
   "outputs": [
    {
     "name": "stdout",
     "output_type": "stream",
     "text": [
      "['Csrf-token', 'SESSION_TIMESTAMP', 'BIGipServerpool-prod-app', 'JSESSIONID']\n"
     ]
    }
   ],
   "source": [
    "cks.set('Csrf-token',csrf)\n",
    "if 'SESSION_TIME_OUT_DETECTED' in cks: cks.pop('SESSION_TIME_OUT_DETECTED')\n",
    "cks.set('SESSION_TIMESTAMP',str(ts))\n",
    "print(cks.keys())"
   ]
  },
  {
   "cell_type": "code",
   "execution_count": 10,
   "metadata": {
    "collapsed": true
   },
   "outputs": [],
   "source": [
    "#r = requests.post('https://www.costcotravel.com/carSearch.act', data = data)\n",
    "r = requests.post('https://www.costcotravel.com/rentalCarSearch.act', data = data, headers = headers, cookies = cks)"
   ]
  },
  {
   "cell_type": "code",
   "execution_count": 12,
   "metadata": {},
   "outputs": [
    {
     "data": {
      "text/plain": [
       "<Response [200]>"
      ]
     },
     "execution_count": 12,
     "metadata": {},
     "output_type": "execute_result"
    }
   ],
   "source": [
    "r"
   ]
  },
  {
   "cell_type": "code",
   "execution_count": 13,
   "metadata": {},
   "outputs": [
    {
     "data": {
      "text/plain": [
       "<RequestsCookieJar[]>"
      ]
     },
     "execution_count": 13,
     "metadata": {},
     "output_type": "execute_result"
    }
   ],
   "source": [
    "r.cookies"
   ]
  },
  {
   "cell_type": "code",
   "execution_count": null,
   "metadata": {
    "collapsed": true
   },
   "outputs": [],
   "source": []
  },
  {
   "cell_type": "code",
   "execution_count": 14,
   "metadata": {
    "collapsed": true
   },
   "outputs": [],
   "source": [
    "headers2 = {\n",
    "    'Referer':'https://www.costcotravel.com/h=3001',\n",
    "    'Host':'www.costcotravel.com',\n",
    "    'User-Agent':'Mozilla/5.0 (Windows NT 10.0; Win64; x64) AppleWebKit/537.36 (KHTML, like Gecko) Chrome/60.0.3112.113 Safari/537.36',\n",
    "    'X-Csrf-Token':csrf\n",
    "}"
   ]
  },
  {
   "cell_type": "code",
   "execution_count": 15,
   "metadata": {
    "collapsed": true
   },
   "outputs": [],
   "source": [
    "data2 = {\n",
    "    'cas':'Load_Forword_Navigation_From_Agency_Results',\n",
    "    'carAgenciesForVendors':'[{\"vendorId\":\"ET\",\"agencyCodes\":[\"E11576\"]}]',\n",
    "    #'uid':'1504759332852_756.0475947513028'\n",
    "}"
   ]
  },
  {
   "cell_type": "code",
   "execution_count": null,
   "metadata": {
    "collapsed": true
   },
   "outputs": [],
   "source": [
    "cks = {\n",
    "    'BIGipServerpool-prod-app':'!KVEQC734OTbZZozCd3dqWKLWYEL+b9cYpVT5cOp+9Pcl3otaoNpjcoeVUeCstjybgSvz4SYTPBKZNA==',\n",
    "    'JSESSIONID':'D82AF93C4B4A95CC34A0E05877BC99EC',\n",
    "    'Csrf-token':'a6bde9e63fe5e71ffee7713a03d01764e5c4fa9bce6c4fc742bd86859dd90b4c55eaded79c674adef1fe30a7167caaf541fc6660228a7b43123651e878117d96',\n",
    "    'SESSION_TIMESTAMP':'1504759316769'\n",
    "}"
   ]
  },
  {
   "cell_type": "code",
   "execution_count": 16,
   "metadata": {
    "collapsed": true
   },
   "outputs": [],
   "source": [
    "r2 = requests.post('https://www.costcotravel.com/rentalCarAgencySelection.act',data=data2,cookies=cks,headers=headers2)"
   ]
  },
  {
   "cell_type": "code",
   "execution_count": null,
   "metadata": {},
   "outputs": [],
   "source": [
    "r2"
   ]
  },
  {
   "cell_type": "code",
   "execution_count": 17,
   "metadata": {},
   "outputs": [
    {
     "data": {
      "text/plain": [
       "'<template-search/><div data-hook=\"page_content\" data-id=\"page_content\" id=\"page_content\"><div class=\"rental-cars bound\"></div><div id=\"car_rental_grid\"><div class=\"section-description hide-mobile\"><div class=\"bound\"><div class=\"section-title\"><a data-hook=\"go_back\" class=\"arrow-left\">Back</a><h2>Low Price Finder<sup class=\"lowPriceTm\">TM</sup></h2></div><div class=\"section-chat hide-mobile\"><img class=\"chat-image\" style=\"display:none;\" alt=\"Agent Image\" hideIfMissing=\"true\" id=\"needHelpAgentImage\"/><h2>Need Help?</h2><p style=\"display:none;\" id=\"agentExpertsInfo\">Our experienced travel experts are here for you.</p><p id=\"needHelpBannerCallTollFree\"><b>Call  1-877-849-2730</b><br/>\\n\\t\\t </p><p style=\"font-size: 11px\" id=\"needHelpBannerWeekdays\">Weekdays\\n\\t\\t        05:00 AM - 09:00 PM\\n\\t\\t    </p><p style=\"font-size: 11px\" id=\"needHelpBannerWeekends\">Weekends 06:00 AM - 05:30 PM<br/>Pacific Time</p><p style=\"display:none;\" id=\"needHelpBannerChatNow\"><a href=\"javascript:void(0);\" data-hook=\"launch_chat\" class=\"arrow-right\" id=\"chatNowLink\">Live Chat Now</a></p></div><script language=\"javascript\">\\n\\tvar needHelpBanner = {\\n\\t\\tavailableImageCount : 4, // code allows for up to 99 images\\n\\t\\timagePath : \"/content/_legacy/shared/images/chat/needHelpImage\",\\n\\t\\tloadAgentImage : function(){\\n\\t\\t\\tvar img = document.getElementById(\"needHelpAgentImage\");\\n\\t\\t\\tvar r = Math.ceil(this.availableImageCount * Math.random());\\n\\t\\t\\tif(r < 10){\\n\\t\\t\\t\\tr = (\"0\" + r);\\n\\t\\t\\t}\\n\\t\\t\\timg.onload = function(){\\n\\t\\t\\t\\tthis.style.display = \"block\";\\n\\t\\t\\t};\\n\\t\\t\\timg.src = (this.imagePath + r + \".png\");\\n\\t\\t}\\n\\t};\\n\\tneedHelpBanner.loadAgentImage();\\n\\t</script>\\n\\t\\t<span id=\"chatClient\" style=\"display:none;\"></span><script language=\"JavaScript\"> (function() { ChatApi.loadMoxieChat(\"07E2EFE3-5BEC-4A4A-8FD5-C6DE7A766213\", \"uid=51c934c5-369a-4adb-b9f2-ed73055d2cbf\"); })();</script>\\n\\t</div></div><div class=\"page-grid desktop-grid hide-mobile\"><div class=\"bound\"><div class=\"results-grid result-1-column\" data-hook=\"desktop-grid\" id=\"car_rental_results_grid\"><div class=\"row full-width row-lg fifths-lg hide-mobile gutter-none grid-heading equalize-heights no-mobile-equalize\"><div class=\"col col-lg col-1 col-lg-1 text-center height-item\"><div class=\"vertical-center\"><div class=\"inner text-center last-item-no-margin\"><p>Taxes and fees are included in the price</p></div></div></div><div class=\"col col-lg col-1 col-lg-1 text-center height-item\"><div class=\"vertical-center\"><div class=\"inner text-center\"><img src=\"/content/shared/images/logos/car/logoEnterprise.png\" class=\"brand-logo brand-enterprise-medium\"/></div></div></div></div><div class=\"row full-width row-lg fifths-lg hide-mobile gutter-none grid-location-info equalize-heights no-mobile-equalize\"><div class=\"col col-lg col-1 col-lg-1 text-center height-item\"><p>Location:</p></div><div class=\"col col-lg col-1 col-lg-1 text-center height-item last-item-no-margin\"><p>Gg South Loop</p></div></div><div class=\"row full-width row-lg fifths-lg hide-mobile gutter-none grid-time-info equalize-heights no-mobile-equalize\"><div class=\"col col-lg col-1 col-lg-1 text-center height-item last-item-no-margin\"><p>Location Hours:</p></div><div class=\"col col-lg col-1 col-lg-1 height-item last-item-no-margin\"><p>07:00 AM - 08:00 PM</p></div></div><div class=\"row full-width row-lg fifths-lg gutter-none row-car-grid equalize-heights no-mobile-equalize\"><div class=\"col col-lg col-1 col-lg-1 text-center height-item result-label hide-mobile\"><div class=\"vertical-center\"><div class=\"inner text-center\"><h3>Economy Car</h3></div></div></div><div style=\"height: 94px;\" class=\"col col-lg col-1 col-lg-1 text-center height-item test\"><a data-responsive-referrer=\"carMatrix\" data-category-id=\"6f28d25:15e5cfcb464:-50a3\" data-selected=\"false\" data-product-id=\"6f28d25:15e5cfcb464:-51e6\" data-price=\"704.52\" data-brand=\"Enterprise\" class=\"card car-result-card \"><div class=\"car-brand hide-desktop\"><img alt=\"Enterprise\" src=\"/content/shared/images/logos/car/logoEnterprise.png\"/></div><div class=\"car-info hide-desktop\"><h3>Economy Car</h3><h4 class=\"car-type hide-desktop\">\\n\\t\\t\\t\\t\\t\\t\\t\\t\\t\\t                                    MITSUBISHI MIRAGE  or similar\\n\\t\\t\\t\\t\\t\\t\\t\\t\\t\\t                                    </h4></div><div class=\"car-capacity hide-desktop\"><div class=\"passenger\"><span class=\"capacity\">4</span></div></div><p class=\"car-price\"><span class=\"rounded-price\">$705</span></p></a></div></div><div class=\"row full-width row-lg fifths-lg gutter-none row-car-grid equalize-heights no-mobile-equalize\"><div class=\"col col-lg col-1 col-lg-1 text-center height-item result-label hide-mobile\"><div class=\"vertical-center\"><div class=\"inner text-center\"><h3>Compact Car</h3></div></div></div><div style=\"height: 94px;\" class=\"col col-lg col-1 col-lg-1 text-center height-item test\"><a data-responsive-referrer=\"carMatrix\" data-category-id=\"6f28d25:15e5cfcb464:-50a2\" data-selected=\"false\" data-product-id=\"6f28d25:15e5cfcb464:-51e6\" data-price=\"704.55\" data-brand=\"Enterprise\" class=\"card car-result-card \"><div class=\"car-brand hide-desktop\"><img alt=\"Enterprise\" src=\"/content/shared/images/logos/car/logoEnterprise.png\"/></div><div class=\"car-info hide-desktop\"><h3>Compact Car</h3><h4 class=\"car-type hide-desktop\">\\n\\t\\t\\t\\t\\t\\t\\t\\t\\t\\t                                    NISSAN VERSA  or similar\\n\\t\\t\\t\\t\\t\\t\\t\\t\\t\\t                                    </h4></div><div class=\"car-capacity hide-desktop\"><div class=\"passenger\"><span class=\"capacity\">5</span></div></div><p class=\"car-price\"><span class=\"rounded-price\">$705</span></p></a></div></div><div class=\"row full-width row-lg fifths-lg gutter-none row-car-grid equalize-heights no-mobile-equalize\"><div class=\"col col-lg col-1 col-lg-1 text-center height-item result-label hide-mobile\"><div class=\"vertical-center\"><div class=\"inner text-center\"><h3>Intermediate Car</h3></div></div></div><div style=\"height: 94px;\" class=\"col col-lg col-1 col-lg-1 text-center height-item test\"><a data-responsive-referrer=\"carMatrix\" data-category-id=\"6f28d25:15e5cfcb464:-50a1\" data-selected=\"true\" data-product-id=\"6f28d25:15e5cfcb464:-51e6\" data-price=\"732.85\" data-brand=\"Enterprise\" class=\"card car-result-card \"><div class=\"car-brand hide-desktop\"><img alt=\"Enterprise\" src=\"/content/shared/images/logos/car/logoEnterprise.png\"/></div><div class=\"car-info hide-desktop\"><h3>Intermediate Car</h3><h4 class=\"car-type hide-desktop\">\\n\\t\\t\\t\\t\\t\\t\\t\\t\\t\\t                                    HYUNDAI ELANTRA  or similar\\n\\t\\t\\t\\t\\t\\t\\t\\t\\t\\t                                    </h4></div><div class=\"car-capacity hide-desktop\"><div class=\"passenger\"><span class=\"capacity\">5</span></div></div><p class=\"car-price\"><span class=\"rounded-price\">$733</span></p></a></div></div><div class=\"row full-width row-lg fifths-lg gutter-none row-car-grid equalize-heights no-mobile-equalize\"><div class=\"col col-lg col-1 col-lg-1 text-center height-item result-label hide-mobile\"><div class=\"vertical-center\"><div class=\"inner text-center\"><h3>Standard Car</h3></div></div></div><div style=\"height: 94px;\" class=\"col col-lg col-1 col-lg-1 text-center height-item test\"><a data-responsive-referrer=\"carMatrix\" data-category-id=\"6f28d25:15e5cfcb464:-50a0\" data-selected=\"false\" data-product-id=\"6f28d25:15e5cfcb464:-51e6\" data-price=\"767.99\" data-brand=\"Enterprise\" class=\"card car-result-card \"><div class=\"car-brand hide-desktop\"><img alt=\"Enterprise\" src=\"/content/shared/images/logos/car/logoEnterprise.png\"/></div><div class=\"car-info hide-desktop\"><h3>Standard Car</h3><h4 class=\"car-type hide-desktop\">\\n\\t\\t\\t\\t\\t\\t\\t\\t\\t\\t                                    BUICK VERANO  or similar\\n\\t\\t\\t\\t\\t\\t\\t\\t\\t\\t                                    </h4></div><div class=\"car-capacity hide-desktop\"><div class=\"passenger\"><span class=\"capacity\">5</span></div></div><p class=\"car-price\"><span class=\"rounded-price\">$768</span></p></a></div></div><div class=\"row full-width row-lg fifths-lg gutter-none row-car-grid equalize-heights no-mobile-equalize\"><div class=\"col col-lg col-1 col-lg-1 text-center height-item result-label hide-mobile\"><div class=\"vertical-center\"><div class=\"inner text-center\"><h3>Fullsize Car</h3></div></div></div><div style=\"height: 94px;\" class=\"col col-lg col-1 col-lg-1 text-center height-item test\"><a data-responsive-referrer=\"carMatrix\" data-category-id=\"6f28d25:15e5cfcb464:-50ac\" data-selected=\"false\" data-product-id=\"6f28d25:15e5cfcb464:-51e6\" data-price=\"776.41\" data-brand=\"Enterprise\" class=\"card car-result-card \"><div class=\"car-brand hide-desktop\"><img alt=\"Enterprise\" src=\"/content/shared/images/logos/car/logoEnterprise.png\"/></div><div class=\"car-info hide-desktop\"><h3>Fullsize Car</h3><h4 class=\"car-type hide-desktop\">\\n\\t\\t\\t\\t\\t\\t\\t\\t\\t\\t                                    NISSAN ALTIMA  or similar\\n\\t\\t\\t\\t\\t\\t\\t\\t\\t\\t                                    </h4></div><div class=\"car-capacity hide-desktop\"><div class=\"passenger\"><span class=\"capacity\">5</span></div></div><p class=\"car-price\"><span class=\"rounded-price\">$776</span></p></a></div></div><div class=\"row full-width row-lg fifths-lg gutter-none row-car-grid equalize-heights no-mobile-equalize\"><div class=\"col col-lg col-1 col-lg-1 text-center height-item result-label hide-mobile\"><div class=\"vertical-center\"><div class=\"inner text-center\"><h3>Intermediate SUV</h3></div></div></div><div style=\"height: 94px;\" class=\"col col-lg col-1 col-lg-1 text-center height-item test\"><a data-responsive-referrer=\"carMatrix\" data-category-id=\"6f28d25:15e5cfcb464:-50a9\" data-selected=\"false\" data-product-id=\"6f28d25:15e5cfcb464:-51e6\" data-price=\"1429.81\" data-brand=\"Enterprise\" class=\"card car-result-card \"><div class=\"car-brand hide-desktop\"><img alt=\"Enterprise\" src=\"/content/shared/images/logos/car/logoEnterprise.png\"/></div><div class=\"car-info hide-desktop\"><h3>Intermediate SUV</h3><h4 class=\"car-type hide-desktop\">\\n\\t\\t\\t\\t\\t\\t\\t\\t\\t\\t                                    NISSAN ROGUE  or similar\\n\\t\\t\\t\\t\\t\\t\\t\\t\\t\\t                                    </h4></div><div class=\"car-capacity hide-desktop\"><div class=\"passenger\"><span class=\"capacity\">5</span></div></div><p class=\"car-price\"><span class=\"rounded-price\">$1,430</span></p></a></div></div><div class=\"row full-width row-lg fifths-lg gutter-none row-car-grid equalize-heights no-mobile-equalize\"><div class=\"col col-lg col-1 col-lg-1 text-center height-item result-label hide-mobile\"><div class=\"vertical-center\"><div class=\"inner text-center\"><h3>Standard SUV</h3></div></div></div><div style=\"height: 94px;\" class=\"col col-lg col-1 col-lg-1 text-center height-item test\"><a data-responsive-referrer=\"carMatrix\" data-category-id=\"6f28d25:15e5cfcb464:-50a8\" data-selected=\"false\" data-product-id=\"6f28d25:15e5cfcb464:-51e6\" data-price=\"1756.51\" data-brand=\"Enterprise\" class=\"card car-result-card \"><div class=\"car-brand hide-desktop\"><img alt=\"Enterprise\" src=\"/content/shared/images/logos/car/logoEnterprise.png\"/></div><div class=\"car-info hide-desktop\"><h3>Standard SUV</h3><h4 class=\"car-type hide-desktop\">\\n\\t\\t\\t\\t\\t\\t\\t\\t\\t\\t                                    HYUNDAI SANTA FE  or similar\\n\\t\\t\\t\\t\\t\\t\\t\\t\\t\\t                                    </h4></div><div class=\"car-capacity hide-desktop\"><div class=\"passenger\"><span class=\"capacity\">5</span></div></div><p class=\"car-price\"><span class=\"rounded-price\">$1,757</span></p></a></div></div><div class=\"row full-width row-lg fifths-lg gutter-none row-car-grid equalize-heights no-mobile-equalize\"><div class=\"col col-lg col-1 col-lg-1 text-center height-item result-label hide-mobile\"><div class=\"vertical-center\"><div class=\"inner text-center\"><h3>Mini Van</h3></div></div></div><div style=\"height: 94px;\" class=\"col col-lg col-1 col-lg-1 text-center height-item test\"><a data-responsive-referrer=\"carMatrix\" data-category-id=\"6f28d25:15e5cfcb464:-50ab\" data-selected=\"false\" data-product-id=\"6f28d25:15e5cfcb464:-51e6\" data-price=\"1016.0\" data-brand=\"Enterprise\" class=\"card car-result-card \"><div class=\"car-brand hide-desktop\"><img alt=\"Enterprise\" src=\"/content/shared/images/logos/car/logoEnterprise.png\"/></div><div class=\"car-info hide-desktop\"><h3>Mini Van</h3><h4 class=\"car-type hide-desktop\">\\n\\t\\t\\t\\t\\t\\t\\t\\t\\t\\t                                    DODGE G CARAVAN  or similar\\n\\t\\t\\t\\t\\t\\t\\t\\t\\t\\t                                    </h4></div><div class=\"car-capacity hide-desktop\"><div class=\"passenger\"><span class=\"capacity\">7</span></div></div><p class=\"car-price\"><span class=\"rounded-price\">$1,016</span></p></a></div></div><div class=\"row full-width row-lg fifths-lg gutter-none row-car-grid equalize-heights no-mobile-equalize\"><div class=\"col col-lg col-1 col-lg-1 text-center height-item result-label hide-mobile\"><div class=\"vertical-center\"><div class=\"inner text-center\"><h3>Fullsize SUV</h3></div></div></div><div style=\"height: 94px;\" class=\"col col-lg col-1 col-lg-1 text-center height-item test\"><a data-responsive-referrer=\"carMatrix\" data-category-id=\"6f28d25:15e5cfcb464:-50a7\" data-selected=\"false\" data-product-id=\"6f28d25:15e5cfcb464:-51e6\" data-price=\"2224.78\" data-brand=\"Enterprise\" class=\"card car-result-card \"><div class=\"car-brand hide-desktop\"><img alt=\"Enterprise\" src=\"/content/shared/images/logos/car/logoEnterprise.png\"/></div><div class=\"car-info hide-desktop\"><h3>Fullsize SUV</h3><h4 class=\"car-type hide-desktop\">\\n\\t\\t\\t\\t\\t\\t\\t\\t\\t\\t                                    CHEVY TAHOE  or similar\\n\\t\\t\\t\\t\\t\\t\\t\\t\\t\\t                                    </h4></div><div class=\"car-capacity hide-desktop\"><div class=\"passenger\"><span class=\"capacity\">7</span></div></div><p class=\"car-price\"><span class=\"rounded-price\">$2,225</span></p></a></div></div><div class=\"row full-width row-lg fifths-lg gutter-none row-car-grid equalize-heights no-mobile-equalize\"><div class=\"col col-lg col-1 col-lg-1 text-center height-item result-label hide-mobile\"><div class=\"vertical-center\"><div class=\"inner text-center\"><h3>Fullsize Van</h3></div></div></div><div style=\"height: 94px;\" class=\"col col-lg col-1 col-lg-1 text-center height-item test\"><a data-responsive-referrer=\"carMatrix\" data-category-id=\"6f28d25:15e5cfcb464:-50aa\" data-selected=\"false\" data-product-id=\"6f28d25:15e5cfcb464:-51e6\" data-price=\"1533.26\" data-brand=\"Enterprise\" class=\"card car-result-card \"><div class=\"car-brand hide-desktop\"><img alt=\"Enterprise\" src=\"/content/shared/images/logos/car/logoEnterprise.png\"/></div><div class=\"car-info hide-desktop\"><h3>Fullsize Van</h3><h4 class=\"car-type hide-desktop\">\\n\\t\\t\\t\\t\\t\\t\\t\\t\\t\\t                                    FORD TRANSIT  or similar\\n\\t\\t\\t\\t\\t\\t\\t\\t\\t\\t                                    </h4></div><div class=\"car-capacity hide-desktop\"><div class=\"passenger\"><span class=\"capacity\">15</span></div></div><p class=\"car-price\"><span class=\"rounded-price\">$1,533</span></p></a></div></div></div><div class=\"back-row\"><a data-hook=\"go_back\" class=\"arrow-left\">Back</a></div><div class=\"separator p10\"><img alt=\" \" src=\"/shared/images/spacer.gif\"/></div><div><p>Prices are in U.S. dollars (unless specified otherwise), include taxes and fees on the rental portion only, are valid for travel as specified and are available to Costco members residing in the United States. Renter is responsible for any increases in government taxes/fees at the time of rental.</p><p>Vehicle make and model may vary and are not guaranteed. The maximum vehicle occupancy is based on the number of seatbelts installed by the manufacturer. Additional terms and conditions apply for each rental company and offer.</p><p>All car rentals are subject to the rules and regulations of the car rental company. Cars are available for rental to individuals 25 years or older (exceptions apply) holding a valid driver\\'s license. An additional surcharge may be added for drivers less than 25 years of age. See full terms and conditions.</p></div></div></div><div class=\"page-grid mobile-grid hide-desktop\"><div class=\"car-sorting\"><div class=\"bound\"><label for=\"result_sort_by\">Show By:</label><div data-hook=\"results_sorter\" id=\"results_sorter\" class=\"select-widget small-select\"><select name=\"result_sort_by\" id=\"result_sort_by\"><option selected=\"true\" value=\"\">Lowest Price</option></select></div></div></div><div data-hook=\"mobile_grid\" class=\"mobile-grid-container\">&nbsp;</div></div></div></div><script id=\"terms_and_conditions\" data-hook=\"terms_and_conditions\" type=\"text/template\"><div class=\"box-shadow-modal\"><div id=\"carMatrixTermsConditionsPopupTitleDiv\" class=\"modal-title\"><h2>Terms & Conditions</h2><button id=\"closeTermsConditionsPopupButton\" data-hook=\"modal-close\" class=\"modal-close\"/></div><div id=\"matrixTermsAndConditionsContent\" class=\"modal-body offwhite\" data-hook=\"matrixTermsAndConditionsContent\"/></div></script><script id=\"modal_geographic_restrictions\" data-hook=\"modal_geographic_restrictions\" type=\"text/template\"><div class=\"box-shadow-modal\"><div id=\"carMatrixGeographicRestrictionsPopupTitleDiv\" class=\"modal-title\"><h2>Geographic Restrictions</h2><button id=\"closeGeographicRstrictionsPopup\" data-hook=\"modal-close\" class=\"modal-close\"/></div><div id=\"matrixGeographicRestrictionsContent\" class=\"modal-body offwhite\" data-hook=\"matrixGeographicRestrictionsContent\"/></div></script><script id=\"modal_additional_driver\" data-hook=\"modal_additional_driver\" type=\"text/template\"><div class=\"box-shadow-modal\"><div id=\"carMatrixAdditionalDriverPopup\" class=\"modal-title\"><h2>Additional Driver Included</h2><button id=\"closeAdditionalDriverPopup\" data-hook=\"modal-close\" class=\"modal-close\"/></div><div id=\"matrixAdditionalDriverContent\" class=\"modal-body offwhite\" data-hook=\"matrixAdditionalDriverContent\"/></div></script><script id=\"modal_costco_cash_card\" data-hook=\"modal_costco_cash_card\" type=\"text/template\"><div class=\"box-shadow-modal\"><div id=\"carMatrixCostcoCashCardPopup\" class=\"modal-title\"><h2>Includes Costco Cash Card</h2><button id=\"closeCostcoCashCardPopup\" data-hook=\"modal-close\" class=\"modal-close\"/></div><div id=\"matrixCostcoCashCardContent\" class=\"modal-body offwhite\" data-hook=\"matrixCostcoCashCardContent\"/></div></script><script>\\n\\t\\n\\tvar CT = CT || {};\\n\\tCT.View = CT.View || {};\\n\\t( function($namespace, $arguments) {\\n\\t\\t\\n    $(document).ready(function(){\\n\\t\\t\\t$namespace.Modules.activate($namespace.RentalCarMatrixModule,{});\\t\\t\\t\\n    });\\t\\t\\n\\n\\t})(CT, {});\\n\\t\\t\\n\\t</script>'"
      ]
     },
     "execution_count": 17,
     "metadata": {},
     "output_type": "execute_result"
    }
   ],
   "source": [
    "r2.text"
   ]
  },
  {
   "cell_type": "code",
   "execution_count": null,
   "metadata": {
    "collapsed": true
   },
   "outputs": [],
   "source": [
    "import re"
   ]
  },
  {
   "cell_type": "code",
   "execution_count": null,
   "metadata": {
    "collapsed": true
   },
   "outputs": [],
   "source": [
    "re.findall('\\d,\\d{3}',r.text)"
   ]
  },
  {
   "cell_type": "code",
   "execution_count": null,
   "metadata": {
    "collapsed": true
   },
   "outputs": [],
   "source": []
  }
 ],
 "metadata": {
  "kernelspec": {
   "display_name": "Python 3",
   "language": "python",
   "name": "python3"
  },
  "language_info": {
   "codemirror_mode": {
    "name": "ipython",
    "version": 3
   },
   "file_extension": ".py",
   "mimetype": "text/x-python",
   "name": "python",
   "nbconvert_exporter": "python",
   "pygments_lexer": "ipython3",
   "version": "3.6.1"
  }
 },
 "nbformat": 4,
 "nbformat_minor": 2
}
