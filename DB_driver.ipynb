{
 "cells": [
  {
   "cell_type": "code",
   "execution_count": 7,
   "metadata": {
    "collapsed": true
   },
   "outputs": [],
   "source": [
    "import os\n",
    "import sys\n",
    "from sqlalchemy import Column, ForeignKey, Integer, String, Float, DateTime\n",
    "from sqlalchemy.ext.declarative import declarative_base\n",
    "from sqlalchemy.orm import relationship, sessionmaker\n",
    "from sqlalchemy import create_engine"
   ]
  },
  {
   "cell_type": "code",
   "execution_count": 5,
   "metadata": {},
   "outputs": [],
   "source": [
    "Base = declarative_base()\n",
    "\n",
    "class Agency(Base):\n",
    "    __tablename__ = 'agency'\n",
    "    \n",
    "    # Simpler to not use composite PK, because composite FKs are a pain\n",
    "    uid = Column(String(50), primary_key=True)\n",
    "    ag_id = Column(String(50), nullable=False)\n",
    "    ag_type = Column(String(20), nullable=False)\n",
    "    ag_brand = Column(String(50), nullable=False)\n",
    "    ag_name = Column(String(100), nullable=False)\n",
    "    ag_bcode = Column(String(50), nullable=False)\n",
    "    ag_addr = Column(String(200), nullable=False)\n",
    "    ag_city = Column(String(50), nullable=False)\n",
    "    ag_state = Column(String(3), nullable=False)\n",
    "    ag_zip = Column(Integer, nullable=False) \n",
    "    ag_dist = Column(Float, nullable=False)\n",
    "    ag_lat = Column(Float, nullable=False)\n",
    "    ag_lon = Column(Float, nullable=False)\n",
    "\n",
    "    \n",
    "class Price(Base):\n",
    "    __tablename__ = 'prices'\n",
    "    \n",
    "    uid = Column(Integer, primary_key=True, autoincrement=True)\n",
    "       \n",
    "    agency_id = Column(String(50), ForeignKey('agency.uid'))\n",
    "    # All hail our SQLAlchemy overlords\n",
    "    agency = relationship(\"Agency\",back_populates=\"prices\")    \n",
    "    \n",
    "    pickup = Column(String(20), nullable=False)\n",
    "    dropoff = Column(String(20), nullable=False)\n",
    "    time = Column(String(20), nullable=False)\n",
    "    querytime = Column(DateTime, nullable=False)\n",
    "    \n",
    "    car_econ = Column(Float)\n",
    "    car_comp = Column(Float)\n",
    "    car_int = Column(Float)\n",
    "    car_std = Column(Float)\n",
    "    car_full = Column(Float)\n",
    "    car_prem = Column(Float)\n",
    "    car_lux = Column(Float)\n",
    "    car_intsuv = Column(Float)\n",
    "    car_stdsuv = Column(Float)\n",
    "    car_fullsuv = Column(Float)\n",
    "    car_premsuv = Column(Float)\n",
    "    car_mv = Column(Float)  \n",
    "    car_fv = Column(Float)\n",
    "    \n",
    "# reciprocal link to make things nicer\n",
    "Agency.prices = relationship(\"Price\", order_by=Price.querytime,\n",
    "                          back_populates=\"agency\")\n",
    "    \n",
    "# in-memory database\n",
    "engine = create_engine('sqlite://')\n",
    " \n",
    "# Create all tables in the engine. \n",
    "Base.metadata.create_all(engine)"
   ]
  },
  {
   "cell_type": "code",
   "execution_count": 10,
   "metadata": {},
   "outputs": [],
   "source": [
    "Base.metadata.bind = engine\n",
    "DBSession = sessionmaker(bind=engine)\n",
    "session = DBSession()"
   ]
  },
  {
   "cell_type": "code",
   "execution_count": null,
   "metadata": {
    "collapsed": true
   },
   "outputs": [],
   "source": []
  }
 ],
 "metadata": {
  "kernelspec": {
   "display_name": "Python 3",
   "language": "python",
   "name": "python3"
  },
  "language_info": {
   "codemirror_mode": {
    "name": "ipython",
    "version": 3
   },
   "file_extension": ".py",
   "mimetype": "text/x-python",
   "name": "python",
   "nbconvert_exporter": "python",
   "pygments_lexer": "ipython3",
   "version": "3.6.1"
  }
 },
 "nbformat": 4,
 "nbformat_minor": 2
}
